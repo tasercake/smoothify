{
 "cells": [
  {
   "cell_type": "markdown",
   "id": "67b047a5-4784-45fb-bc43-40b22dce832b",
   "metadata": {},
   "source": [
    "# Bottleneck Simulated Annealing"
   ]
  },
  {
   "cell_type": "code",
   "execution_count": 1,
   "id": "6f9b9387-637e-49f6-b7bd-66e5f0293afb",
   "metadata": {},
   "outputs": [],
   "source": [
    "import numpy as np\n",
    "import scipy.spatial\n",
    "import seaborn as sns"
   ]
  },
  {
   "cell_type": "markdown",
   "id": "852cf018-c123-462e-bc35-a45908408066",
   "metadata": {},
   "source": [
    "## Generate some data"
   ]
  },
  {
   "cell_type": "code",
   "execution_count": 280,
   "id": "46f9cd0e-cdce-48da-9be9-ad320b7d347d",
   "metadata": {},
   "outputs": [],
   "source": [
    "NUM_POINTS = 1000\n",
    "NUM_FEATURES = 12"
   ]
  },
  {
   "cell_type": "markdown",
   "id": "29c8640c-fb82-47e2-aa1b-96a737ca4014",
   "metadata": {},
   "source": [
    "### Generate points"
   ]
  },
  {
   "cell_type": "code",
   "execution_count": 281,
   "id": "269f6c29-897c-4eda-93c3-ed0c44436488",
   "metadata": {},
   "outputs": [],
   "source": [
    "points = np.random.rand(NUM_POINTS, NUM_FEATURES)"
   ]
  },
  {
   "cell_type": "markdown",
   "id": "a2f16590-2026-4f2d-b1f3-f5541f2bcf5f",
   "metadata": {},
   "source": [
    "### Compute pairwise distances"
   ]
  },
  {
   "cell_type": "code",
   "execution_count": 282,
   "id": "5b0ffda9-c054-4eb1-bf59-edc369dadcdc",
   "metadata": {},
   "outputs": [
    {
     "data": {
      "text/plain": [
       "<seaborn.axisgrid.FacetGrid at 0x7f066e1b18b0>"
      ]
     },
     "execution_count": 282,
     "metadata": {},
     "output_type": "execute_result"
    },
    {
     "data": {
      "image/png": "[encoded data removed]",
      "text/plain": [
       "<Figure size 360x360 with 1 Axes>"
      ]
     },
     "metadata": {
      "needs_background": "light"
     },
     "output_type": "display_data"
    }
   ],
   "source": [
    "NORM_P = 6/NUM_FEATURES\n",
    "distance_matrix = scipy.spatial.distance.squareform(scipy.spatial.distance.pdist(points, \"minkowski\", p=NORM_P))\n",
    "sns.displot(distance_matrix.flatten())"
   ]
  },
  {
   "cell_type": "markdown",
   "id": "96c0c38b-a3df-4c18-b12e-3c6fb1be2d24",
   "metadata": {},
   "source": [
    "## Compute the best path through the points"
   ]
  },
  {
   "cell_type": "markdown",
   "id": "15e73270-1a8a-4d5f-80f2-568cf459b3cd",
   "metadata": {},
   "source": [
    "### Define the objective"
   ]
  },
  {
   "cell_type": "code",
   "execution_count": 283,
   "id": "52bfa126-4fdc-429b-8896-183700c6371f",
   "metadata": {},
   "outputs": [],
   "source": [
    "from simanneal import Annealer\n",
    "\n",
    "rng = np.random.default_rng()\n",
    "\n",
    "class BottleneckAnnealer(Annealer):\n",
    "    copy_strategy = \"method\"  # Use `self.state.copy()` to copy the state\n",
    "    \n",
    "    # Override default hyperparameters\n",
    "    Tmin = 1e-6\n",
    "    Tmax = 1e3\n",
    "    steps = 100000\n",
    "\n",
    "    def __init__(self, *args, path: np.ndarray, distance_matrix: np.ndarray, **kwargs):\n",
    "        super().__init__(path, *args, **kwargs)\n",
    "        self.distance_matrix = distance_matrix\n",
    "        self.num_points = len(self.state)\n",
    "\n",
    "    def move(self):\n",
    "        \"\"\"\n",
    "        Randomly swap points\n",
    "        \"\"\"\n",
    "        num_swaps = int(np.random.rand() * 4)\n",
    "        swaps = rng.choice(self.num_points, (num_swaps, 2), replace=False)\n",
    "        self.state[swaps] = self.state[swaps[..., ::-1]]\n",
    "\n",
    "    def energy(self):\n",
    "        \"\"\"\n",
    "        Compute the energy of the current path\n",
    "        \"\"\"\n",
    "        # Find the length of the edge from each node in the path to the next\n",
    "        source_nodes = self.state\n",
    "        target_nodes = np.roll(source_nodes, 1)\n",
    "        edge_distances = self.distance_matrix[source_nodes, target_nodes]\n",
    "        max_edge_length = edge_distances.max()\n",
    "        mean_edge_length = edge_distances.mean()\n",
    "        energy = max_edge_length + mean_edge_length\n",
    "        return energy"
   ]
  },
  {
   "cell_type": "markdown",
   "id": "39caa7c1-22b1-4d84-860e-ced244e748f4",
   "metadata": {},
   "source": [
    "### Initialize the annealer"
   ]
  },
  {
   "cell_type": "code",
   "execution_count": 284,
   "id": "50a8c7c3-392d-47a0-aae5-13d7dd8242e1",
   "metadata": {},
   "outputs": [
    {
     "name": "stdout",
     "output_type": "stream",
     "text": [
      "Start energy: 114.14506925482164\n"
     ]
    }
   ],
   "source": [
    "annealer = BottleneckAnnealer(path=np.arange(len(points)), distance_matrix=distance_matrix)\n",
    "print(f\"Start energy: {annealer.energy()}\")"
   ]
  },
  {
   "cell_type": "markdown",
   "id": "4b4024e8-35ee-43e4-ab11-48b9b188802e",
   "metadata": {},
   "source": [
    "### Optimize"
   ]
  },
  {
   "cell_type": "code",
   "execution_count": null,
   "id": "b1e979f0-df11-42e5-bbab-c16bfe784eda",
   "metadata": {},
   "outputs": [
    {
     "name": "stderr",
     "output_type": "stream",
     "text": [
      " Temperature        Energy    Accept   Improve     Elapsed   Remaining\n",
      "   288.40315        117.37   100.00%    37.40%     0:00:00     0:00:07"
     ]
    }
   ],
   "source": [
    "best_path, best_energy = annealer.anneal()\n",
    "print(f\"Best energy: {best_energy}\")\n",
    "print(best_path)"
   ]
  }
 ],
 "metadata": {
  "kernelspec": {
   "display_name": "Python 3 (ipykernel)",
   "language": "python",
   "name": "python3"
  },
  "language_info": {
   "codemirror_mode": {
    "name": "ipython",
    "version": 3
   },
   "file_extension": ".py",
   "mimetype": "text/x-python",
   "name": "python",
   "nbconvert_exporter": "python",
   "pygments_lexer": "ipython3",
   "version": "3.9.1"
  }
 },
 "nbformat": 4,
 "nbformat_minor": 5
}
