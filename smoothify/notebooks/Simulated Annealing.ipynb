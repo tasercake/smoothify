{
 "cells": [
  {
   "cell_type": "markdown",
   "id": "67b047a5-4784-45fb-bc43-40b22dce832b",
   "metadata": {
    "tags": []
   },
   "source": [
    "# Bottleneck Simulated Annealing"
   ]
  },
  {
   "cell_type": "code",
   "execution_count": null,
   "id": "6f9b9387-637e-49f6-b7bd-66e5f0293afb",
   "metadata": {},
   "outputs": [],
   "source": [
    "import numpy as np\n",
    "import scipy.spatial\n",
    "import seaborn as sns\n",
    "import matplotlib.pyplot as plt\n",
    "sns.set_theme()"
   ]
  },
  {
   "cell_type": "markdown",
   "id": "852cf018-c123-462e-bc35-a45908408066",
   "metadata": {},
   "source": [
    "## Generate some data"
   ]
  },
  {
   "cell_type": "code",
   "execution_count": null,
   "id": "46f9cd0e-cdce-48da-9be9-ad320b7d347d",
   "metadata": {},
   "outputs": [],
   "source": [
    "NUM_POINTS = 100\n",
    "NUM_FEATURES = 12"
   ]
  },
  {
   "cell_type": "markdown",
   "id": "29c8640c-fb82-47e2-aa1b-96a737ca4014",
   "metadata": {},
   "source": [
    "### Generate points"
   ]
  },
  {
   "cell_type": "code",
   "execution_count": null,
   "id": "269f6c29-897c-4eda-93c3-ed0c44436488",
   "metadata": {},
   "outputs": [],
   "source": [
    "points = np.random.rand(NUM_POINTS, NUM_FEATURES)"
   ]
  },
  {
   "cell_type": "markdown",
   "id": "b1a36195-16aa-4cb7-a52c-e62e9a76949b",
   "metadata": {},
   "source": [
    "### Compute pairwise distances"
   ]
  },
  {
   "cell_type": "code",
   "execution_count": null,
   "id": "0b0119fe-ebe3-48c1-864a-ee9299aed592",
   "metadata": {},
   "outputs": [],
   "source": [
    "NORM_P = 0.5\n",
    "distance_matrix = scipy.spatial.distance.squareform(scipy.spatial.distance.pdist(points, \"minkowski\", p=NORM_P))\n",
    "sns.displot(distance_matrix.flatten())"
   ]
  },
  {
   "cell_type": "markdown",
   "id": "d46df851-bccd-4071-8318-a98d51c784a5",
   "metadata": {
    "jp-MarkdownHeadingCollapsed": true,
    "tags": []
   },
   "source": [
    "### Experiment: Determining a good distance metric for various dimensionalities"
   ]
  },
  {
   "cell_type": "code",
   "execution_count": null,
   "id": "70e1ad53-6d04-4241-92cf-41ebabe15712",
   "metadata": {
    "tags": []
   },
   "outputs": [],
   "source": [
    "import itertools\n",
    "import pandas as pd\n",
    "\n",
    "num_points = 200\n",
    "num_features_space = [1, 2, 10, 100, 1000]\n",
    "points_map = {num_features: np.random.rand(num_points, num_features) for num_features in num_features_space}\n",
    "\n",
    "distance_metrics = ['braycurtis', 'canberra', 'chebyshev', 'cityblock', 'correlation', 'cosine', 'euclidean', 'jensenshannon', 'matching', 'minkowski', 'seuclidean', 'sqeuclidean']\n",
    "distances = pd.DataFrame([\n",
    "    {\n",
    "        \"num_features\": num_features,\n",
    "        \"metric\": distance_metric,\n",
    "        \"distance\": distance\n",
    "    }\n",
    "    for (num_features, points), distance_metric in itertools.product(points_map.items(), distance_metrics)\n",
    "    for distance in scipy.spatial.distance.squareform(scipy.spatial.distance.pdist(points, distance_metric)).flatten()\n",
    "])\n",
    "grid = sns.FacetGrid((distances), hue=\"num_features\", col=\"metric\", col_wrap=4, sharex=False, sharey=False)\n",
    "grid.map(sns.kdeplot, \"distance\", warn_singular=False)\n",
    "grid.add_legend()"
   ]
  },
  {
   "cell_type": "markdown",
   "id": "96c0c38b-a3df-4c18-b12e-3c6fb1be2d24",
   "metadata": {
    "tags": []
   },
   "source": [
    "## Compute the best path through the points"
   ]
  },
  {
   "cell_type": "markdown",
   "id": "15e73270-1a8a-4d5f-80f2-568cf459b3cd",
   "metadata": {},
   "source": [
    "### Define the objective"
   ]
  },
  {
   "cell_type": "code",
   "execution_count": null,
   "id": "52bfa126-4fdc-429b-8896-183700c6371f",
   "metadata": {},
   "outputs": [],
   "source": [
    "from simanneal import Annealer\n",
    "\n",
    "rng = np.random.default_rng()\n",
    "\n",
    "class BottleneckAnnealer(Annealer):\n",
    "    copy_strategy = \"method\"  # Use `self.state.copy()` to copy the state\n",
    "    \n",
    "    # Override default hyperparameters\n",
    "    Tmin = 1e-6\n",
    "    Tmax = 1e3\n",
    "    steps = 250000\n",
    "    updates = 100\n",
    "\n",
    "    def __init__(self, *args, path: np.ndarray, distance_matrix: np.ndarray, **kwargs):\n",
    "        super().__init__(path, *args, **kwargs)\n",
    "        self.distance_matrix = distance_matrix\n",
    "        self.num_points = len(self.state)\n",
    "\n",
    "    def move(self):\n",
    "        \"\"\"\n",
    "        Randomly swap points\n",
    "        \"\"\"\n",
    "        num_swaps = int(np.random.rand() * 4)\n",
    "        swaps = rng.choice(self.num_points, (num_swaps, 2), replace=False)\n",
    "        self.state[swaps] = self.state[swaps[..., ::-1]]\n",
    "\n",
    "    def energy(self):\n",
    "        \"\"\"\n",
    "        Compute the energy of the current path\n",
    "        \"\"\"\n",
    "        # Find the length of the edge from each node in the path to the next\n",
    "        source_nodes = self.state\n",
    "        target_nodes = np.roll(source_nodes, 1)\n",
    "        edge_distances = self.distance_matrix[source_nodes, target_nodes]\n",
    "        max_edge_length = edge_distances.max()\n",
    "        mean_edge_length = edge_distances.mean()\n",
    "        energy = max_edge_length + mean_edge_length\n",
    "        return energy"
   ]
  },
  {
   "cell_type": "markdown",
   "id": "39caa7c1-22b1-4d84-860e-ced244e748f4",
   "metadata": {},
   "source": [
    "### Initialize the annealer"
   ]
  },
  {
   "cell_type": "code",
   "execution_count": null,
   "id": "50a8c7c3-392d-47a0-aae5-13d7dd8242e1",
   "metadata": {},
   "outputs": [],
   "source": [
    "annealer = BottleneckAnnealer(path=np.arange(len(points)), distance_matrix=distance_matrix)\n",
    "print(f\"Start energy: {annealer.energy()}\")"
   ]
  },
  {
   "cell_type": "markdown",
   "id": "4b4024e8-35ee-43e4-ab11-48b9b188802e",
   "metadata": {},
   "source": [
    "### Optimize"
   ]
  },
  {
   "cell_type": "code",
   "execution_count": null,
   "id": "b1e979f0-df11-42e5-bbab-c16bfe784eda",
   "metadata": {},
   "outputs": [],
   "source": [
    "best_path, best_energy = annealer.anneal()\n",
    "print(f\"Best energy: {best_energy}\")\n",
    "print(best_path)"
   ]
  }
 ],
 "metadata": {
  "kernelspec": {
   "display_name": "Python 3 (ipykernel)",
   "language": "python",
   "name": "python3"
  },
  "language_info": {
   "codemirror_mode": {
    "name": "ipython",
    "version": 3
   },
   "file_extension": ".py",
   "mimetype": "text/x-python",
   "name": "python",
   "nbconvert_exporter": "python",
   "pygments_lexer": "ipython3",
   "version": "3.10.0"
  }
 },
 "nbformat": 4,
 "nbformat_minor": 5
}
