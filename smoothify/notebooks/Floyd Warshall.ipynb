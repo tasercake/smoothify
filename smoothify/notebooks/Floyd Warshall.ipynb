{
 "cells": [
  {
   "cell_type": "markdown",
   "id": "2b09596a-4460-426a-b792-33d60d57c4f8",
   "metadata": {
    "tags": []
   },
   "source": [
    "# Bottleneck Floy-Warshall"
   ]
  },
  {
   "cell_type": "code",
   "execution_count": null,
   "id": "c425a517-625f-4ca6-a07c-c6d5bc7766ca",
   "metadata": {},
   "outputs": [],
   "source": [
    "import pandas as pd\n",
    "import numpy as np\n",
    "import scipy.spatial\n",
    "import seaborn as sns\n",
    "import matplotlib.pyplot as plt\n",
    "sns.set_theme()"
   ]
  },
  {
   "cell_type": "markdown",
   "id": "e47207cf-3929-490c-86a1-8d001637be16",
   "metadata": {
    "tags": []
   },
   "source": [
    "## Load data"
   ]
  },
  {
   "cell_type": "markdown",
   "id": "9620ef71-7e9d-4b08-9895-045d3b7a9699",
   "metadata": {
    "tags": []
   },
   "source": [
    "### Option 1: Generate points"
   ]
  },
  {
   "cell_type": "code",
   "execution_count": null,
   "id": "83146f7a-3343-410a-b1c7-875d221f532e",
   "metadata": {},
   "outputs": [],
   "source": [
    "NUM_POINTS = 500\n",
    "NUM_FEATURES = 12\n",
    "\n",
    "points = np.random.rand(NUM_POINTS, NUM_FEATURES)"
   ]
  },
  {
   "cell_type": "markdown",
   "id": "c661743b-4a53-4fdc-bfff-237998a85ec5",
   "metadata": {
    "tags": []
   },
   "source": [
    "### Option 2: Load points from CSV"
   ]
  },
  {
   "cell_type": "code",
   "execution_count": null,
   "id": "cf92283d-1b4b-4340-aa91-af725ec0d410",
   "metadata": {},
   "outputs": [],
   "source": [
    "df = pd.read_csv(\"features.csv\")\n",
    "points = np.array(df)"
   ]
  },
  {
   "cell_type": "markdown",
   "id": "e2f294d5-f027-469e-a59b-be1f79df4071",
   "metadata": {
    "tags": []
   },
   "source": [
    "## Compute pairwise distances"
   ]
  },
  {
   "cell_type": "code",
   "execution_count": null,
   "id": "2ed2879f-34fb-4492-bfe8-e222872e3b35",
   "metadata": {},
   "outputs": [],
   "source": [
    "NORM_P = 0.5\n",
    "\n",
    "def pairwise_distances(x: np.ndarray):\n",
    "    \"\"\"\n",
    "    Given an array with shape (n_points, n_features), compute the pairwise distance matrix.\n",
    "    \"\"\"\n",
    "    return scipy.spatial.distance.squareform(scipy.spatial.distance.pdist(points, \"minkowski\", p=NORM_P))\n",
    "\n",
    "sns.displot(pairwise_distances(points).flatten())"
   ]
  },
  {
   "cell_type": "markdown",
   "id": "fcc894ec-e27d-412c-bc74-923eb088881c",
   "metadata": {},
   "source": [
    "## Compute the best path through the points"
   ]
  },
  {
   "cell_type": "code",
   "execution_count": null,
   "id": "003c93a8-396f-4f82-b529-bbd2ed1ee415",
   "metadata": {},
   "outputs": [],
   "source": [
    "from scipy.sparse import csr_matrix\n",
    "from scipy.sparse.csgraph import floyd_warshall\n",
    "\n",
    "\n",
    "class BottleneckFloydWarshallTSP:\n",
    "    def __init__(self, *, points: np.ndarray):\n",
    "        self.points = points\n",
    "        self.distance_matrix = pairwise_distances(points)\n",
    "\n",
    "    def all_pairs_bottleneck_shortest_paths(self):\n",
    "        graph = csr_matrix(self.points)\n",
    "        matrix = floyd_warshall(graph, directed=False, return_predecessors=True)\n",
    "        print(matrix)\n",
    "        return matrix\n",
    "\n",
    "    def best_path(self):\n",
    "        shortest_paths_matrix = self.all_pairs_bottleneck_shortest_paths()"
   ]
  },
  {
   "cell_type": "code",
   "execution_count": null,
   "id": "b82f0a73-e387-4f09-a12d-36f52f67fa49",
   "metadata": {},
   "outputs": [],
   "source": [
    "optimizer = BottleneckFloydWarshallTSP(points=points)\n",
    "best_path = optimizer.best_path()\n",
    "best_path"
   ]
  }
 ],
 "metadata": {
  "kernelspec": {
   "display_name": "Python 3 (ipykernel)",
   "language": "python",
   "name": "python3"
  },
  "language_info": {
   "codemirror_mode": {
    "name": "ipython",
    "version": 3
   },
   "file_extension": ".py",
   "mimetype": "text/x-python",
   "name": "python",
   "nbconvert_exporter": "python",
   "pygments_lexer": "ipython3",
   "version": "3.9.1"
  }
 },
 "nbformat": 4,
 "nbformat_minor": 5
}
