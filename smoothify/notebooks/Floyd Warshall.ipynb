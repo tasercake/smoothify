{
 "cells": [
  {
   "cell_type": "markdown",
   "id": "2b09596a-4460-426a-b792-33d60d57c4f8",
   "metadata": {
    "tags": []
   },
   "source": [
    "# Bottleneck Floyd-Warshall TSP"
   ]
  },
  {
   "cell_type": "code",
   "execution_count": 1,
   "id": "48c0acd2-2d43-4f4f-bebe-2c1f42f46655",
   "metadata": {},
   "outputs": [],
   "source": [
    "%load_ext autoreload\n",
    "%autoreload 2"
   ]
  },
  {
   "cell_type": "markdown",
   "id": "20230223-ec3c-4cd8-a328-d2fc70f40b0f",
   "metadata": {
    "tags": []
   },
   "source": [
    "## Get Spotify Tracks"
   ]
  },
  {
   "cell_type": "code",
   "execution_count": 2,
   "id": "2452f0bb-1514-4a3c-86d6-02518a467328",
   "metadata": {},
   "outputs": [],
   "source": [
    "import tekore as tk\n",
    "from smoothify.features import construct_features\n",
    "import numpy as np"
   ]
  },
  {
   "cell_type": "markdown",
   "id": "5cc48b41-7501-40ee-9b12-3c8c16f66fb4",
   "metadata": {},
   "source": [
    "### Obtaining an API Access Token\n",
    "\n",
    "You'll need an access token to call the Spotify API.\n",
    "\n",
    "Here's how to get a temporary token to play around with (expires in ~30 mins):\n",
    "\n",
    "- Visit https://developer.spotify.com/console/get-playlist-tracks/\n",
    "- Click 'Get Token'\n",
    "- Select the following permissions:\n",
    "    - `user-library-read`\n",
    "    - `playlist-read-private`\n",
    "    - `playlist-read-collaborative`\n",
    "    - `playlist-modify-public`\n",
    "    - `playlist-modify-private`\n",
    "- Click 'Request Token'\n",
    "- Copy the text in the 'OAuth Token' field\n",
    "\n",
    "Paste the access token below"
   ]
  },
  {
   "cell_type": "code",
   "execution_count": 3,
   "id": "9bd62234-96a6-4fb6-93b6-1cc94fce454e",
   "metadata": {},
   "outputs": [],
   "source": [
    "ACCESS_TOKEN = \"BQA8KhAAWwCusuRxVGlixEilSgHfWATvhcFidd9S-MX_ZM0Mr5m2c0WTNeOP7Qzjppjytpq2neIbVXqAfqTTAe2T51EKozCHT3VthPlcYNI99vqFxbcX4xbHAgJdFScholbZtvdmhMIK4Zi2-6Aq2YsqPXj_McbiY8tHEwHCaipHtLTn7RCqlUeZI3c4Pga05EyQz8pLI0g8N1hMCPDMje0wppqUAF6NSiheJH_UXKUnQWUvoIE\"\n",
    "spotify = tk.Spotify(ACCESS_TOKEN, asynchronous=True, max_limits_on=True, chunked_on=True)\n",
    "current_user = await spotify.current_user()"
   ]
  },
  {
   "cell_type": "markdown",
   "id": "4e65fbce-1014-4c83-8ffb-3619984bcfa4",
   "metadata": {},
   "source": [
    "### Fetch tracks from current user's Liked Songs"
   ]
  },
  {
   "cell_type": "code",
   "execution_count": 4,
   "id": "dcf7149c-6579-4938-a033-257ac5d553ae",
   "metadata": {},
   "outputs": [
    {
     "name": "stdout",
     "output_type": "stream",
     "text": [
      "Fetched 531 tracks\n"
     ]
    }
   ],
   "source": [
    "saved_tracks_page = await spotify.saved_tracks()\n",
    "track_list = [track.track async for track in spotify.all_items(saved_tracks_page)]\n",
    "playlist_name = f\"{current_user.display_name}'s Library\"\n",
    "is_playlist_public = False\n",
    "is_playlist_collaborative = False\n",
    "print(f\"Fetched {len(track_list)} tracks\")"
   ]
  },
  {
   "cell_type": "markdown",
   "id": "488a122f-1ef8-42e1-8456-5b5ff59712bc",
   "metadata": {},
   "source": [
    "### Fetch tracks from a playlist"
   ]
  },
  {
   "cell_type": "markdown",
   "id": "6fb20731-3109-459f-ad47-0072527d96a3",
   "metadata": {},
   "source": [
    "To read the tracks in a playlist, you'll need the playlist's ID.\n",
    "\n",
    "You can find a playlist's ID in its URL, which looks like `https://open.spotify.com/playlist/{playlist_id}`\n",
    "\n",
    "#### Getting a Playlist's URL\n",
    "\n",
    "- Navigate to your playlist\n",
    "- Under the playlist's title, click the triple-dot icon and select to `Share -> Copy link to playlist`\n"
   ]
  },
  {
   "cell_type": "code",
   "execution_count": null,
   "id": "e1296b9a-e577-4666-900f-90ea50398699",
   "metadata": {},
   "outputs": [],
   "source": [
    "PLAYLIST_ID = \"78RmalWaNX12cJSmfVHlXL\"\n",
    "playlist = await spotify.playlist(PLAYLIST_ID)\n",
    "track_list = [track.track async for track in spotify.all_items(playlist.tracks)]\n",
    "playlist_name = playlist.name\n",
    "is_playlist_public = playlist.public\n",
    "is_playlist_collaborative = playlist.collaborative\n",
    "print(f\"Fetched {len(track_list)} tracks\")"
   ]
  },
  {
   "cell_type": "markdown",
   "id": "5cc4d712-d90f-48c2-92c4-2bbc78d62ca9",
   "metadata": {
    "tags": []
   },
   "source": [
    "## Construct audio features"
   ]
  },
  {
   "cell_type": "markdown",
   "id": "e20874c5-a437-4111-8790-ff1142e03aab",
   "metadata": {},
   "source": [
    "### Query Spotify API for audio features"
   ]
  },
  {
   "cell_type": "code",
   "execution_count": 5,
   "id": "76b77553-49d2-427f-9f4a-bb404a0275c3",
   "metadata": {},
   "outputs": [],
   "source": [
    "# Extract track IDs so we can fetch additional info\n",
    "track_id_list = [track.id for track in track_list]\n",
    "# Get track audio features\n",
    "track_features_list = await spotify.tracks_audio_features(track_id_list)"
   ]
  },
  {
   "cell_type": "markdown",
   "id": "0eec4d17-d3b1-4629-a47e-c5fbfc960450",
   "metadata": {},
   "source": [
    "### Merge & normalize features"
   ]
  },
  {
   "cell_type": "code",
   "execution_count": 7,
   "id": "4e788906-b906-4a71-b1f4-e1431466f6a6",
   "metadata": {},
   "outputs": [
    {
     "data": {
      "text/html": [
       "<div>\n",
       "<style scoped>\n",
       "    .dataframe tbody tr th:only-of-type {\n",
       "        vertical-align: middle;\n",
       "    }\n",
       "\n",
       "    .dataframe tbody tr th {\n",
       "        vertical-align: top;\n",
       "    }\n",
       "\n",
       "    .dataframe thead th {\n",
       "        text-align: right;\n",
       "    }\n",
       "</style>\n",
       "<table border=\"1\" class=\"dataframe\">\n",
       "  <thead>\n",
       "    <tr style=\"text-align: right;\">\n",
       "      <th></th>\n",
       "      <th>danceability</th>\n",
       "      <th>energy</th>\n",
       "      <th>loudness</th>\n",
       "      <th>speechiness</th>\n",
       "      <th>acousticness</th>\n",
       "      <th>instrumentalness</th>\n",
       "      <th>liveness</th>\n",
       "      <th>valence</th>\n",
       "      <th>tempo</th>\n",
       "    </tr>\n",
       "  </thead>\n",
       "  <tbody>\n",
       "    <tr>\n",
       "      <th>0</th>\n",
       "      <td>1.526728</td>\n",
       "      <td>-0.558664</td>\n",
       "      <td>-0.349908</td>\n",
       "      <td>0.130886</td>\n",
       "      <td>-0.678244</td>\n",
       "      <td>-0.738907</td>\n",
       "      <td>-0.702520</td>\n",
       "      <td>1.075576</td>\n",
       "      <td>-0.019850</td>\n",
       "    </tr>\n",
       "    <tr>\n",
       "      <th>1</th>\n",
       "      <td>-0.270316</td>\n",
       "      <td>1.331587</td>\n",
       "      <td>0.874591</td>\n",
       "      <td>0.340775</td>\n",
       "      <td>-0.564689</td>\n",
       "      <td>-0.784524</td>\n",
       "      <td>-0.357060</td>\n",
       "      <td>1.306981</td>\n",
       "      <td>0.268654</td>\n",
       "    </tr>\n",
       "    <tr>\n",
       "      <th>2</th>\n",
       "      <td>0.836608</td>\n",
       "      <td>0.242758</td>\n",
       "      <td>0.155296</td>\n",
       "      <td>-0.756161</td>\n",
       "      <td>-0.296462</td>\n",
       "      <td>-0.784524</td>\n",
       "      <td>1.909257</td>\n",
       "      <td>0.596806</td>\n",
       "      <td>0.184870</td>\n",
       "    </tr>\n",
       "    <tr>\n",
       "      <th>3</th>\n",
       "      <td>0.440302</td>\n",
       "      <td>1.187884</td>\n",
       "      <td>0.869561</td>\n",
       "      <td>1.564870</td>\n",
       "      <td>-0.644971</td>\n",
       "      <td>-0.784497</td>\n",
       "      <td>1.063982</td>\n",
       "      <td>0.405299</td>\n",
       "      <td>0.104714</td>\n",
       "    </tr>\n",
       "    <tr>\n",
       "      <th>4</th>\n",
       "      <td>0.993764</td>\n",
       "      <td>-0.354163</td>\n",
       "      <td>0.046521</td>\n",
       "      <td>-0.474267</td>\n",
       "      <td>-0.070465</td>\n",
       "      <td>-0.515523</td>\n",
       "      <td>-0.516315</td>\n",
       "      <td>-1.098835</td>\n",
       "      <td>-0.020427</td>\n",
       "    </tr>\n",
       "  </tbody>\n",
       "</table>\n",
       "</div>"
      ],
      "text/plain": [
       "   danceability    energy  loudness  speechiness  acousticness  \\\n",
       "0      1.526728 -0.558664 -0.349908     0.130886     -0.678244   \n",
       "1     -0.270316  1.331587  0.874591     0.340775     -0.564689   \n",
       "2      0.836608  0.242758  0.155296    -0.756161     -0.296462   \n",
       "3      0.440302  1.187884  0.869561     1.564870     -0.644971   \n",
       "4      0.993764 -0.354163  0.046521    -0.474267     -0.070465   \n",
       "\n",
       "   instrumentalness  liveness   valence     tempo  \n",
       "0         -0.738907 -0.702520  1.075576 -0.019850  \n",
       "1         -0.784524 -0.357060  1.306981  0.268654  \n",
       "2         -0.784524  1.909257  0.596806  0.184870  \n",
       "3         -0.784497  1.063982  0.405299  0.104714  \n",
       "4         -0.515523 -0.516315 -1.098835 -0.020427  "
      ]
     },
     "execution_count": 7,
     "metadata": {},
     "output_type": "execute_result"
    }
   ],
   "source": [
    "features_df = construct_features(audio_features_list=track_features_list)\n",
    "features_df.head()"
   ]
  },
  {
   "cell_type": "code",
   "execution_count": 8,
   "id": "d58aefcb-d8ff-4e92-a2b4-710186a077e3",
   "metadata": {},
   "outputs": [],
   "source": [
    "points = np.array(features_df)"
   ]
  },
  {
   "cell_type": "markdown",
   "id": "e2f294d5-f027-469e-a59b-be1f79df4071",
   "metadata": {},
   "source": [
    "### Compute pairwise distances"
   ]
  },
  {
   "cell_type": "code",
   "execution_count": 107,
   "id": "003c93a8-396f-4f82-b529-bbd2ed1ee415",
   "metadata": {},
   "outputs": [],
   "source": [
    "import numpy as np\n",
    "import scipy.spatial\n",
    "from scipy.sparse import csr_matrix\n",
    "from scipy.sparse.csgraph import floyd_warshall\n",
    "\n",
    "\n",
    "class BottleneckFloydWarshallTSP:\n",
    "    def __init__(self, *, points: np.ndarray, norm_power: float = 0.5):\n",
    "        self.points = points\n",
    "        self.norm_power = norm_power\n",
    "        self.distance_matrix = self.pairwise_distances(self.points, norm_power=self.norm_power)\n",
    "\n",
    "    def best_path(self):\n",
    "        shortest_distances, predecessors = self.floyd_warshall(self.distance_matrix)\n",
    "        shortest_distances[shortest_distances == 0] = np.inf\n",
    "        best_src, best_dst = np.unravel_index(shortest_distances.argmin(), shortest_distances.shape)\n",
    "\n",
    "        best_path = []\n",
    "        idx = best_dst\n",
    "        for i in range(len(self.points)):\n",
    "            \n",
    "        return shortest_distances\n",
    "\n",
    "    @classmethod\n",
    "    def pairwise_distances(cls, points: np.ndarray, norm_power: float = 0.5):\n",
    "        \"\"\"\n",
    "        Given an array with shape (n_points, n_features), compute the pairwise distance matrix.\n",
    "        \"\"\"\n",
    "        return scipy.spatial.distance.squareform(scipy.spatial.distance.pdist(points, \"minkowski\", p=norm_power))\n",
    "\n",
    "    @classmethod\n",
    "    def floyd_warshall(cls, distance_matrix: np.ndarray):\n",
    "        shortest_distances, predecessors = floyd_warshall(distance_matrix, directed=False, return_predecessors=True)\n",
    "        return shortest_distances, predecessors"
   ]
  },
  {
   "cell_type": "code",
   "execution_count": 108,
   "id": "b82f0a73-e387-4f09-a12d-36f52f67fa49",
   "metadata": {},
   "outputs": [
    {
     "name": "stdout",
     "output_type": "stream",
     "text": [
      "[[-9999     0   191 ...     0     0     0]\n",
      " [    1 -9999     1 ...    69    70     1]\n",
      " [  191     2 -9999 ...   246   131   461]\n",
      " ...\n",
      " [  528    69   135 ... -9999   528   528]\n",
      " [  529    70   131 ...   529 -9999   529]\n",
      " [  530   530   461 ...   530   530 -9999]]\n"
     ]
    }
   ],
   "source": [
    "optimizer = BottleneckFloydWarshallTSP(points=points)\n",
    "best_path = optimizer.best_path()"
   ]
  },
  {
   "cell_type": "code",
   "execution_count": 115,
   "id": "5dc82bc4-f65d-49bf-a81b-60e9034d7f49",
   "metadata": {},
   "outputs": [
    {
     "name": "stdout",
     "output_type": "stream",
     "text": [
      "106 173\n"
     ]
    },
    {
     "data": {
      "text/plain": [
       "173"
      ]
     },
     "execution_count": 115,
     "metadata": {},
     "output_type": "execute_result"
    }
   ],
   "source": [
    "import seaborn as sns\n",
    "sns.set_theme()\n",
    "distance_matrix = BottleneckFloydWarshallTSP.pairwise_distances(points)\n",
    "shortest, predecessors = BottleneckFloydWarshallTSP.floyd_warshall(distance_matrix)\n",
    "# sns.displot(shortest.flatten())\n",
    "shortest[shortest == 0] = np.inf\n",
    "best_src, best_dst = np.unravel_index(shortest.argmin(), shortest.shape)\n",
    "print(best_src, best_dst)\n",
    "predecessors[best_dst, best_src]"
   ]
  }
 ],
 "metadata": {
  "kernelspec": {
   "display_name": "Python 3 (ipykernel)",
   "language": "python",
   "name": "python3"
  },
  "language_info": {
   "codemirror_mode": {
    "name": "ipython",
    "version": 3
   },
   "file_extension": ".py",
   "mimetype": "text/x-python",
   "name": "python",
   "nbconvert_exporter": "python",
   "pygments_lexer": "ipython3",
   "version": "3.10.0"
  }
 },
 "nbformat": 4,
 "nbformat_minor": 5
}
