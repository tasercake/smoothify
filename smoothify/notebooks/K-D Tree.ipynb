{
 "cells": [
  {
   "cell_type": "markdown",
   "id": "0f01b0c4-f0fb-49d9-a7cf-3b0def2a82e4",
   "metadata": {},
   "source": [
    "# KD Tree for Bottleneck TSP"
   ]
  },
  {
   "cell_type": "code",
   "execution_count": 1,
   "id": "45df0987-df7a-408f-995d-00874719d8b7",
   "metadata": {},
   "outputs": [],
   "source": [
    "%load_ext autoreload\n",
    "%autoreload 2"
   ]
  },
  {
   "cell_type": "markdown",
   "id": "a00baedc-904e-4372-a6fd-22907810d35f",
   "metadata": {
    "jp-MarkdownHeadingCollapsed": true,
    "tags": []
   },
   "source": [
    "## Load Spotify Data"
   ]
  },
  {
   "cell_type": "code",
   "execution_count": 2,
   "id": "2b93b698-1986-49fb-b27e-db85728d9308",
   "metadata": {},
   "outputs": [],
   "source": [
    "import tekore as tk\n",
    "from smoothify.features import construct_features\n",
    "import numpy as np\n"
   ]
  },
  {
   "cell_type": "code",
   "execution_count": 3,
   "id": "34b200ac-bb6d-4fa0-9b68-a1171d3bcdff",
   "metadata": {},
   "outputs": [],
   "source": [
    "ACCESS_TOKEN = \"BQAziu6exc-pHSjAh0tMuqWov1XZWCFzzDuSfsHNqSBpivBXO6dY11w_7syX3AXwfCpE_sXJeq5Cf2YtHwUFGOhpaIbT_XcX0Dgwuz7MfmNXj4A8LL5cDJupkN_vKR6Q3UXXuIBxIJRoRdITcqJDIhozZaUPelJtF3lcf0iKRuY\"\n",
    "spotify = tk.Spotify(ACCESS_TOKEN, asynchronous=True, max_limits_on=True, chunked_on=True)"
   ]
  },
  {
   "cell_type": "markdown",
   "id": "b6292a3e-4b87-4232-9da2-7c7df8ecafab",
   "metadata": {},
   "source": [
    "### Fetch current user's tracks"
   ]
  },
  {
   "cell_type": "code",
   "execution_count": 4,
   "id": "ec16ca27-53c4-4e2b-8d72-0ebab524df40",
   "metadata": {},
   "outputs": [],
   "source": [
    "saved_tracks_page = await spotify.saved_tracks()\n",
    "track_list = [track.track async for track in spotify.all_items(saved_tracks_page)]"
   ]
  },
  {
   "cell_type": "markdown",
   "id": "351330e8-14e2-4fbc-a2f0-0d1623738ac3",
   "metadata": {},
   "source": [
    "### Query Spotify API for audio features"
   ]
  },
  {
   "cell_type": "code",
   "execution_count": 5,
   "id": "65ff0696-4a34-4a3f-846e-cbed79344246",
   "metadata": {},
   "outputs": [],
   "source": [
    "# Extract track IDs so we can fetch additional info\n",
    "track_id_list = [track.id for track in track_list]\n",
    "# Get track audio features\n",
    "track_features_list = await spotify.tracks_audio_features(track_id_list)"
   ]
  },
  {
   "cell_type": "markdown",
   "id": "20dd5522-18b2-4f6d-bf02-ac484c2ef400",
   "metadata": {},
   "source": [
    "### Construct & normalize audio features"
   ]
  },
  {
   "cell_type": "code",
   "execution_count": 6,
   "id": "b1a1d173-fcfc-4d81-80f3-c4a9f8ff547a",
   "metadata": {},
   "outputs": [
    {
     "data": {
      "text/html": [
       "<div>\n",
       "<style scoped>\n",
       "    .dataframe tbody tr th:only-of-type {\n",
       "        vertical-align: middle;\n",
       "    }\n",
       "\n",
       "    .dataframe tbody tr th {\n",
       "        vertical-align: top;\n",
       "    }\n",
       "\n",
       "    .dataframe thead th {\n",
       "        text-align: right;\n",
       "    }\n",
       "</style>\n",
       "<table border=\"1\" class=\"dataframe\">\n",
       "  <thead>\n",
       "    <tr style=\"text-align: right;\">\n",
       "      <th></th>\n",
       "      <th>danceability</th>\n",
       "      <th>energy</th>\n",
       "      <th>loudness</th>\n",
       "      <th>speechiness</th>\n",
       "      <th>acousticness</th>\n",
       "      <th>instrumentalness</th>\n",
       "      <th>liveness</th>\n",
       "      <th>valence</th>\n",
       "      <th>tempo</th>\n",
       "    </tr>\n",
       "  </thead>\n",
       "  <tbody>\n",
       "    <tr>\n",
       "      <th>0</th>\n",
       "      <td>0.947397</td>\n",
       "      <td>0.238924</td>\n",
       "      <td>0.167693</td>\n",
       "      <td>-0.356577</td>\n",
       "      <td>-0.707526</td>\n",
       "      <td>1.618047</td>\n",
       "      <td>-0.616321</td>\n",
       "      <td>1.523571</td>\n",
       "      <td>0.219329</td>\n",
       "    </tr>\n",
       "    <tr>\n",
       "      <th>1</th>\n",
       "      <td>-0.257558</td>\n",
       "      <td>0.831977</td>\n",
       "      <td>0.103641</td>\n",
       "      <td>-0.608201</td>\n",
       "      <td>0.011037</td>\n",
       "      <td>1.516056</td>\n",
       "      <td>-0.451466</td>\n",
       "      <td>-1.529047</td>\n",
       "      <td>0.137302</td>\n",
       "    </tr>\n",
       "    <tr>\n",
       "      <th>2</th>\n",
       "      <td>-1.324805</td>\n",
       "      <td>1.508168</td>\n",
       "      <td>1.935640</td>\n",
       "      <td>3.608778</td>\n",
       "      <td>-0.707728</td>\n",
       "      <td>-0.801763</td>\n",
       "      <td>1.242168</td>\n",
       "      <td>-0.130478</td>\n",
       "      <td>2.193492</td>\n",
       "    </tr>\n",
       "  </tbody>\n",
       "</table>\n",
       "</div>"
      ],
      "text/plain": [
       "   danceability    energy  loudness  speechiness  acousticness  \\\n",
       "0      0.947397  0.238924  0.167693    -0.356577     -0.707526   \n",
       "1     -0.257558  0.831977  0.103641    -0.608201      0.011037   \n",
       "2     -1.324805  1.508168  1.935640     3.608778     -0.707728   \n",
       "\n",
       "   instrumentalness  liveness   valence     tempo  \n",
       "0          1.618047 -0.616321  1.523571  0.219329  \n",
       "1          1.516056 -0.451466 -1.529047  0.137302  \n",
       "2         -0.801763  1.242168 -0.130478  2.193492  "
      ]
     },
     "execution_count": 6,
     "metadata": {},
     "output_type": "execute_result"
    }
   ],
   "source": [
    "features_df = construct_features(audio_features_list=track_features_list)\n",
    "features_df.head(3)"
   ]
  },
  {
   "cell_type": "code",
   "execution_count": 7,
   "id": "7adce1cd-4336-47ef-a926-65680b13c49a",
   "metadata": {},
   "outputs": [],
   "source": [
    "points = np.array(features_df)"
   ]
  },
  {
   "cell_type": "markdown",
   "id": "8d4d8705-e495-4617-a808-918995af788c",
   "metadata": {},
   "source": [
    "## Compute the best path through the points"
   ]
  },
  {
   "cell_type": "code",
   "execution_count": 8,
   "id": "ac2334eb-8042-44e5-b6e4-d1483599e26e",
   "metadata": {},
   "outputs": [],
   "source": [
    "import random\n",
    "import multiprocessing\n",
    "from functools import partial\n",
    "\n",
    "import pandas as pd\n",
    "import scipy.spatial\n",
    "from scipy.spatial import cKDTree\n",
    "import seaborn as sns\n",
    "import matplotlib.pyplot as plt\n",
    "from tqdm import tqdm\n",
    "sns.set_theme()\n",
    "\n",
    "from typing import List, Tuple"
   ]
  },
  {
   "cell_type": "code",
   "execution_count": 9,
   "id": "153b2c0b-214f-48a1-8cc8-98d02835ea56",
   "metadata": {
    "tags": []
   },
   "outputs": [],
   "source": [
    "class KDTreeBottleneckTSP:\n",
    "    def __init__(self, *, points: np.ndarray):\n",
    "        self.points = points\n",
    "        self.num_points = self.points.shape[0]\n",
    "\n",
    "    def build_tree(self) -> cKDTree:\n",
    "        tree = cKDTree(self.points)\n",
    "        return tree\n",
    "\n",
    "    def greedy_nearest_path(self, tree: cKDTree, source: int) -> Tuple[List[int], float]:\n",
    "        \"\"\"\n",
    "        Starting from the source node, construct a list of node indices by\n",
    "        iteratively adding the nearest neighbor in the KD Tree.\n",
    "        \"\"\"\n",
    "        current = source  # The node we're currently at\n",
    "        visited = {source}  # Set of visited indices\n",
    "        path = [source]  # The path so far (in order)\n",
    "        max_dist = 0  # Length of the longest edge in the path\n",
    "\n",
    "        # Loop until we've visited every point\n",
    "        for i in range(self.num_points):\n",
    "            # Start with the closest neighbor, keep incrementing until we find an unvisited neighbor\n",
    "            for k in range(2, self.num_points):\n",
    "                # Try to get the closes unvisited neighbor to the current node\n",
    "                (distance,), (candidate_point,) = tree.query(self.points[current], k=[k])\n",
    "                if candidate_point not in visited:  # Once an unvisited nearest neighbor is found\n",
    "                    current = candidate_point  # Move to the neighbor node\n",
    "                    visited.add(candidate_point)  # Mark the neighbor node as visited\n",
    "                    path.append(candidate_point)  # Add the neighbor node to the path\n",
    "                    found_unvisited_neighbor = True\n",
    "                    if distance > max_dist:\n",
    "                        max_dist = distance  # Update the maximum edge length in the page\n",
    "                    break\n",
    "        return path, max_dist\n",
    "\n",
    "    def get_best_path(self):\n",
    "        tree = self.build_tree()\n",
    "\n",
    "        with multiprocessing.Pool(multiprocessing.cpu_count() - 2) as pool:\n",
    "            tasks = pool.imap(\n",
    "                partial(self.greedy_nearest_path, tree),\n",
    "                range(self.num_points),\n",
    "                chunksize=4\n",
    "            )\n",
    "            paths, max_dists = zip(*(task for task in tqdm(tasks, total=self.num_points)))\n",
    "            best_path_idx = np.argmin(max_dists)\n",
    "            best_path = paths[best_path_idx]\n",
    "            min_max_dist = max_dists[best_path_idx]\n",
    "            return dict(\n",
    "                paths=paths,\n",
    "                max_dists=max_dists,\n",
    "                best_path_idx=best_path_idx,\n",
    "                best_path=best_path,\n",
    "                min_max_dist=min_max_dist,\n",
    "            )"
   ]
  },
  {
   "cell_type": "code",
   "execution_count": 10,
   "id": "fece2fa7-42ed-4709-9191-d2b798f98506",
   "metadata": {},
   "outputs": [
    {
     "name": "stderr",
     "output_type": "stream",
     "text": [
      "100%|█████████████████████████████████████████████████████████████████████████████████| 490/490 [00:13<00:00, 35.18it/s]"
     ]
    },
    {
     "name": "stdout",
     "output_type": "stream",
     "text": [
      "Max edge length: 5.046747347877011\n",
      "[365, 369, 111, 441, 225, 115, 47, 172, 49, 364, 393, 224, 144, 180, 181, 376, 205, 154, 131, 104, 301, 267, 343, 272, 287, 276, 379, 53, 201, 63, 266, 305, 438, 248, 359, 178, 306, 268, 420, 94, 398, 134, 41, 122, 86, 39, 338, 129, 404, 48, 332, 283, 303, 229, 142, 328, 458, 133, 75, 347, 74, 25, 345, 273, 228, 298, 295, 206, 99, 355, 159, 150, 90, 385, 168, 110, 473, 170, 92, 471, 323, 377, 132, 65, 195, 254, 218, 234, 191, 315, 316, 330, 20, 116, 292, 167, 474, 465, 199, 450, 193, 221, 339, 308, 342, 426, 462, 309, 242, 405, 176, 430, 0, 481, 357, 213, 204, 165, 362, 67, 214, 23, 70, 166, 440, 457, 232, 223, 1, 356, 477, 331, 197, 62, 58, 399, 318, 106, 56, 175, 373, 304, 15, 190, 26, 476, 22, 14, 89, 87, 463, 282, 270, 93, 445, 407, 483, 216, 435, 28, 64, 428, 329, 468, 294, 102, 335, 263, 207, 375, 322, 29, 386, 46, 459, 32, 37, 235, 105, 432, 387, 231, 215, 444, 31, 9, 30, 44, 470, 464, 262, 187, 336, 419, 333, 383, 146, 319, 59, 439, 151, 76, 200, 484, 161, 245, 392, 391, 350, 250, 416, 50, 45, 293, 153, 140, 265, 431, 210, 277, 249, 103, 135, 219, 236, 17, 143, 33, 469, 238, 372, 186, 325, 412, 288, 264, 196, 60, 35, 344, 241, 246, 413, 226, 411, 451, 289, 24, 337, 185, 164, 269, 302, 117, 157, 107, 73, 163, 69, 233, 55, 244, 402, 417, 421, 360, 354, 437, 434, 436, 348, 43, 188, 18, 423, 307, 182, 353, 114, 42, 240, 152, 177, 57, 408, 489, 409, 173, 136, 2, 247, 72, 280, 351, 397, 208, 16, 394, 252, 51, 384, 121, 422, 327, 138, 317, 91, 12, 239, 97, 100, 128, 141, 448, 212, 368, 198, 130, 118, 230, 155, 209, 81, 98, 125, 401, 275, 108, 124, 374, 479, 366, 363, 418, 475, 220, 485, 271, 54, 466, 487, 284, 78, 179, 341, 371, 456, 433, 148, 367, 472, 13, 258, 82, 346, 414, 27, 38, 192, 313, 486, 158, 171, 326, 79, 203, 321, 84, 381, 88, 442, 467, 6, 259, 396, 370, 482, 406, 296, 455, 137, 119, 403, 147, 189, 395, 361, 446, 251, 101, 36, 160, 61, 299, 96, 127, 449, 447, 169, 480, 253, 257, 454, 10, 310, 34, 237, 184, 300, 425, 68, 7, 19, 382, 71, 66, 378, 227, 278, 80, 291, 274, 443, 183, 334, 139, 85, 380, 83, 290, 40, 311, 211, 324, 3, 120, 453, 349, 112, 488, 11, 156, 461, 460, 162, 312, 243, 4, 5, 255, 21, 194, 281, 415, 222, 358, 297, 429, 149, 320, 340, 352, 174, 123, 286, 478, 109, 256, 126, 452, 390, 388, 145, 410, 95, 314, 389, 279, 261, 285, 427, 424, 217, 113, 8, 52, 202, 77, 400]\n"
     ]
    },
    {
     "name": "stderr",
     "output_type": "stream",
     "text": [
      "\n"
     ]
    }
   ],
   "source": [
    "optimizer = KDTreeBottleneckTSP(points=points)\n",
    "results = optimizer.get_best_path()\n",
    "best_path = results[\"best_path\"]\n",
    "max_dist = results[\"min_max_dist\"]\n",
    "print(f\"Max edge length: {max_dist}\")\n",
    "print(best_path)"
   ]
  },
  {
   "cell_type": "code",
   "execution_count": 11,
   "id": "5a9c1fc1-c984-4469-9823-41e54d39af46",
   "metadata": {},
   "outputs": [
    {
     "data": {
      "text/plain": [
       "<AxesSubplot:>"
      ]
     },
     "execution_count": 11,
     "metadata": {},
     "output_type": "execute_result"
    },
    {
     "data": {
      "image/png": "[encoded data removed]",
      "text/plain": [
       "<Figure size 432x288 with 1 Axes>"
      ]
     },
     "metadata": {},
     "output_type": "display_data"
    }
   ],
   "source": [
    "sns.lineplot(data=(results[\"max_dists\"]))"
   ]
  }
 ],
 "metadata": {
  "kernelspec": {
   "display_name": "Python 3 (ipykernel)",
   "language": "python",
   "name": "python3"
  },
  "language_info": {
   "codemirror_mode": {
    "name": "ipython",
    "version": 3
   },
   "file_extension": ".py",
   "mimetype": "text/x-python",
   "name": "python",
   "nbconvert_exporter": "python",
   "pygments_lexer": "ipython3",
   "version": "3.9.1"
  }
 },
 "nbformat": 4,
 "nbformat_minor": 5
}
