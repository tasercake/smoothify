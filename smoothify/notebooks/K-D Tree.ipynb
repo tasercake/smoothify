{
 "cells": [
  {
   "cell_type": "markdown",
   "id": "0f01b0c4-f0fb-49d9-a7cf-3b0def2a82e4",
   "metadata": {
    "tags": []
   },
   "source": [
    "# KD Tree for Bottleneck TSP"
   ]
  },
  {
   "cell_type": "code",
   "execution_count": 1,
   "id": "ead98fa6-3ef7-46e6-98e3-a6db899b12b0",
   "metadata": {},
   "outputs": [],
   "source": [
    "%load_ext autoreload\n",
    "%autoreload 2"
   ]
  },
  {
   "cell_type": "markdown",
   "id": "0150df17-562b-4e2c-9f55-9c5fe921d739",
   "metadata": {
    "tags": []
   },
   "source": [
    "## Get Spotify Tracks"
   ]
  },
  {
   "cell_type": "code",
   "execution_count": 2,
   "id": "97d38577-0a6d-4caa-8b29-e5411804b452",
   "metadata": {},
   "outputs": [],
   "source": [
    "import tekore as tk\n",
    "from smoothify.features import SpotifyFeatureConstructor\n",
    "import numpy as np"
   ]
  },
  {
   "cell_type": "markdown",
   "id": "a353fa2e-c5b9-42b7-bda4-647bafbbdb97",
   "metadata": {},
   "source": [
    "### Obtaining an API Access Token\n",
    "\n",
    "You'll need an access token to call the Spotify API.\n",
    "\n",
    "Here's how to get a temporary token to play around with (expires in ~30 mins):\n",
    "\n",
    "- Visit https://developer.spotify.com/console/get-playlist-tracks/\n",
    "- Click 'Get Token'\n",
    "- Select the following permissions:\n",
    "    - `user-library-read`\n",
    "    - `playlist-read-private`\n",
    "    - `playlist-read-collaborative`\n",
    "    - `playlist-modify-public`\n",
    "    - `playlist-modify-private`\n",
    "- Click 'Request Token'\n",
    "- Copy the text in the 'OAuth Token' field\n",
    "\n",
    "Paste the access token below"
   ]
  },
  {
   "cell_type": "code",
   "execution_count": 4,
   "id": "227b9df1-1850-4efb-aa79-518242f3749a",
   "metadata": {},
   "outputs": [],
   "source": [
    "ACCESS_TOKEN = \"BQAmixZq0_OCgzh2PAdH73EJqgaNkxCwJ5sUi4yDr3iQNDvhvooL7hArn2Hf1xSpeWtO_ALJg1zYDUDiRvTo5J5rP8sEagw3txioGb1HV_Y6xmxAWtXKibhoBRRIk4PZ26DQgvSUGrPh5nYxnj6tqtX_s0jHAE1XhyFpbLm-0Hu95fvrtib0gnlpxxgF6V9_v6PXeVowalQvG6XOA2VubYmRJ6ruRagvuVhvoc1160HmzETkY8c\"\n",
    "spotify = tk.Spotify(ACCESS_TOKEN, asynchronous=True, max_limits_on=True, chunked_on=True)\n",
    "current_user = await spotify.current_user()"
   ]
  },
  {
   "cell_type": "markdown",
   "id": "b31b4233-0dba-4970-b5f3-4596bc20181f",
   "metadata": {},
   "source": [
    "### Fetch tracks from current user's Liked Songs"
   ]
  },
  {
   "cell_type": "code",
   "execution_count": 5,
   "id": "16212846-0f04-4676-a22c-59fc6d045d3d",
   "metadata": {},
   "outputs": [
    {
     "name": "stdout",
     "output_type": "stream",
     "text": [
      "Fetched 532 tracks\n"
     ]
    }
   ],
   "source": [
    "saved_tracks_page = await spotify.saved_tracks()\n",
    "track_list = [track.track async for track in spotify.all_items(saved_tracks_page)]\n",
    "playlist_name = f\"{current_user.display_name}'s Library\"\n",
    "is_playlist_public = False\n",
    "is_playlist_collaborative = False\n",
    "print(f\"Fetched {len(track_list)} tracks\")"
   ]
  },
  {
   "cell_type": "markdown",
   "id": "00c1801f-2f7e-4e1a-9d8b-c7d8aa8c8839",
   "metadata": {},
   "source": [
    "### Fetch tracks from a playlist"
   ]
  },
  {
   "cell_type": "markdown",
   "id": "64891f0f-2f34-4cfc-932f-1cc3d0e92b9b",
   "metadata": {},
   "source": [
    "To read the tracks in a playlist, you'll need the playlist's ID.\n",
    "\n",
    "You can find a playlist's ID in its URL, which looks like `https://open.spotify.com/playlist/{playlist_id}`\n",
    "\n",
    "#### Getting a Playlist's URL\n",
    "\n",
    "- Navigate to your playlist\n",
    "- Under the playlist's title, click the triple-dot icon and select to `Share -> Copy link to playlist`\n"
   ]
  },
  {
   "cell_type": "code",
   "execution_count": null,
   "id": "1f8d3b18-ee09-4d5d-8a08-abab308cd468",
   "metadata": {},
   "outputs": [],
   "source": [
    "PLAYLIST_ID = \"78RmalWaNX12cJSmfVHlXL\"\n",
    "playlist = await spotify.playlist(PLAYLIST_ID)\n",
    "track_list = [track.track async for track in spotify.all_items(playlist.tracks)]\n",
    "playlist_name = playlist.name\n",
    "is_playlist_public = playlist.public\n",
    "is_playlist_collaborative = playlist.collaborative\n",
    "print(f\"Fetched {len(track_list)} tracks\")"
   ]
  },
  {
   "cell_type": "markdown",
   "id": "5f620c89-a2f0-4a6d-81fa-8c4798a30d43",
   "metadata": {
    "tags": []
   },
   "source": [
    "## Construct audio features"
   ]
  },
  {
   "cell_type": "markdown",
   "id": "f89ad5b6-892d-404a-993b-666104402636",
   "metadata": {},
   "source": [
    "### Query Spotify API for audio features"
   ]
  },
  {
   "cell_type": "code",
   "execution_count": 6,
   "id": "fc2bd711-4154-4b51-bee3-2da611ae5b48",
   "metadata": {},
   "outputs": [],
   "source": [
    "# Extract track IDs so we can fetch additional info\n",
    "track_id_list = [track.id for track in track_list]\n",
    "# Get track audio features\n",
    "track_features_list = await spotify.tracks_audio_features(track_id_list)"
   ]
  },
  {
   "cell_type": "markdown",
   "id": "ea2cd369-e6ba-487c-88b5-6ffced187810",
   "metadata": {},
   "source": [
    "### Merge & normalize features"
   ]
  },
  {
   "cell_type": "code",
   "execution_count": 8,
   "id": "fad8df3a-980c-4925-a1dd-2e36857ad180",
   "metadata": {},
   "outputs": [
    {
     "data": {
      "text/html": [
       "<div>\n",
       "<style scoped>\n",
       "    .dataframe tbody tr th:only-of-type {\n",
       "        vertical-align: middle;\n",
       "    }\n",
       "\n",
       "    .dataframe tbody tr th {\n",
       "        vertical-align: top;\n",
       "    }\n",
       "\n",
       "    .dataframe thead th {\n",
       "        text-align: right;\n",
       "    }\n",
       "</style>\n",
       "<table border=\"1\" class=\"dataframe\">\n",
       "  <thead>\n",
       "    <tr style=\"text-align: right;\">\n",
       "      <th></th>\n",
       "      <th>danceability</th>\n",
       "      <th>energy</th>\n",
       "      <th>loudness</th>\n",
       "      <th>speechiness</th>\n",
       "      <th>acousticness</th>\n",
       "      <th>instrumentalness</th>\n",
       "      <th>liveness</th>\n",
       "      <th>valence</th>\n",
       "      <th>tempo</th>\n",
       "    </tr>\n",
       "  </thead>\n",
       "  <tbody>\n",
       "    <tr>\n",
       "      <th>0</th>\n",
       "      <td>0.146348</td>\n",
       "      <td>-0.215775</td>\n",
       "      <td>0.465682</td>\n",
       "      <td>2.827531</td>\n",
       "      <td>-0.314236</td>\n",
       "      <td>-0.783334</td>\n",
       "      <td>-0.258798</td>\n",
       "      <td>0.492498</td>\n",
       "      <td>1.291638</td>\n",
       "    </tr>\n",
       "    <tr>\n",
       "      <th>1</th>\n",
       "      <td>1.527861</td>\n",
       "      <td>-0.558760</td>\n",
       "      <td>-0.351044</td>\n",
       "      <td>0.124693</td>\n",
       "      <td>-0.678228</td>\n",
       "      <td>-0.737701</td>\n",
       "      <td>-0.702651</td>\n",
       "      <td>1.075416</td>\n",
       "      <td>-0.022270</td>\n",
       "    </tr>\n",
       "    <tr>\n",
       "      <th>2</th>\n",
       "      <td>-0.270841</td>\n",
       "      <td>1.333190</td>\n",
       "      <td>0.874360</td>\n",
       "      <td>0.333189</td>\n",
       "      <td>-0.564577</td>\n",
       "      <td>-0.783334</td>\n",
       "      <td>-0.356887</td>\n",
       "      <td>1.306986</td>\n",
       "      <td>0.266052</td>\n",
       "    </tr>\n",
       "    <tr>\n",
       "      <th>3</th>\n",
       "      <td>0.837104</td>\n",
       "      <td>0.243383</td>\n",
       "      <td>0.154533</td>\n",
       "      <td>-0.756469</td>\n",
       "      <td>-0.296122</td>\n",
       "      <td>-0.783334</td>\n",
       "      <td>1.911424</td>\n",
       "      <td>0.596305</td>\n",
       "      <td>0.182320</td>\n",
       "    </tr>\n",
       "    <tr>\n",
       "      <th>4</th>\n",
       "      <td>0.440432</td>\n",
       "      <td>1.189358</td>\n",
       "      <td>0.869326</td>\n",
       "      <td>1.549162</td>\n",
       "      <td>-0.644927</td>\n",
       "      <td>-0.783307</td>\n",
       "      <td>1.065405</td>\n",
       "      <td>0.404660</td>\n",
       "      <td>0.102215</td>\n",
       "    </tr>\n",
       "  </tbody>\n",
       "</table>\n",
       "</div>"
      ],
      "text/plain": [
       "   danceability    energy  loudness  speechiness  acousticness  \\\n",
       "0      0.146348 -0.215775  0.465682     2.827531     -0.314236   \n",
       "1      1.527861 -0.558760 -0.351044     0.124693     -0.678228   \n",
       "2     -0.270841  1.333190  0.874360     0.333189     -0.564577   \n",
       "3      0.837104  0.243383  0.154533    -0.756469     -0.296122   \n",
       "4      0.440432  1.189358  0.869326     1.549162     -0.644927   \n",
       "\n",
       "   instrumentalness  liveness   valence     tempo  \n",
       "0         -0.783334 -0.258798  0.492498  1.291638  \n",
       "1         -0.737701 -0.702651  1.075416 -0.022270  \n",
       "2         -0.783334 -0.356887  1.306986  0.266052  \n",
       "3         -0.783334  1.911424  0.596305  0.182320  \n",
       "4         -0.783307  1.065405  0.404660  0.102215  "
      ]
     },
     "execution_count": 8,
     "metadata": {},
     "output_type": "execute_result"
    }
   ],
   "source": [
    "feature_constructor = SpotifyFeatureConstructor(audio_features_list=track_features_list)\n",
    "features_df = feature_constructor.construct_features()\n",
    "features_df.head()"
   ]
  },
  {
   "cell_type": "markdown",
   "id": "8d4d8705-e495-4617-a808-918995af788c",
   "metadata": {},
   "source": [
    "## Compute the best path through the points"
   ]
  },
  {
   "cell_type": "code",
   "execution_count": 8,
   "id": "ac2334eb-8042-44e5-b6e4-d1483599e26e",
   "metadata": {
    "tags": []
   },
   "outputs": [],
   "source": [
    "from smoothify.optim.bottleneck_tsp import KDTreeBottleneckTSP"
   ]
  },
  {
   "cell_type": "code",
   "execution_count": 11,
   "id": "2b0fc5e8-6276-4498-bc0d-decba9d643db",
   "metadata": {},
   "outputs": [],
   "source": [
    "points = np.array(features_df)"
   ]
  },
  {
   "cell_type": "code",
   "execution_count": 22,
   "id": "1406924f-fa35-4236-bf21-5d161eb7190f",
   "metadata": {},
   "outputs": [
    {
     "name": "stderr",
     "output_type": "stream",
     "text": [
      "  0%|                                                                                                                                                                                                                                 | 0/531 [00:00<?, ?it/s]"
     ]
    },
    {
     "name": "stdout",
     "output_type": "stream",
     "text": [
      "[ProgressParallel(n_jobs=-1)]: Using backend LokyBackend with 12 concurrent workers.\n"
     ]
    },
    {
     "name": "stderr",
     "output_type": "stream",
     "text": [
      "100%|███████████████████████████████████████████████████████████████████████████████████████████████████████████████████████████████████████████████████████████████████████████████████████████████████████████████████████| 531/531 [00:22<00:00, 23.21it/s]"
     ]
    },
    {
     "name": "stdout",
     "output_type": "stream",
     "text": [
      "[ProgressParallel(n_jobs=-1)]: Done 531 out of 531 | elapsed:   22.9s finished\n",
      "Max edge length: 4.7158256001683645\n"
     ]
    },
    {
     "name": "stderr",
     "output_type": "stream",
     "text": [
      "\n"
     ]
    }
   ],
   "source": [
    "optimizer = KDTreeBottleneckTSP(points=points)\n",
    "results = optimizer.get_best_path()\n",
    "best_path = results.best_path\n",
    "max_dist = results.min_max_dist\n",
    "print(f\"Max edge length: {max_dist}\")"
   ]
  },
  {
   "cell_type": "markdown",
   "id": "eee20867-3b7f-41b1-a927-69a720e3b8c1",
   "metadata": {},
   "source": [
    "## Create a smoothified playlist\n",
    "\n",
    "**NOTE: Running this cell will add a playlist to your Spotify account**"
   ]
  },
  {
   "cell_type": "code",
   "execution_count": 23,
   "id": "bdef84c8-c20a-4131-aeac-a5989b9e0cd0",
   "metadata": {},
   "outputs": [
    {
     "data": {
      "text/plain": [
       "'NywyMmYyY2QxNTY1MTAzZjc1NjM3ZTM4NTgyMWY1MDNiZGNjYmNiNDkx'"
      ]
     },
     "execution_count": 23,
     "metadata": {},
     "output_type": "execute_result"
    }
   ],
   "source": [
    "# Create new playlist\n",
    "NEW_PLAYLIST_NAME = f\"{playlist_name} (but smoother)\"\n",
    "new_playlist = await spotify.playlist_create(current_user.id, NEW_PLAYLIST_NAME, public=is_playlist_public)\n",
    "await spotify.playlist_change_details(new_playlist.id, collaborative=is_playlist_collaborative)\n",
    "\n",
    "# Add tracks to new playlist\n",
    "smoothified_track_uris = [track_list[node_idx].uri for node_idx in best_path]\n",
    "await spotify.playlist_add(new_playlist.id, smoothified_track_uris)"
   ]
  },
  {
   "cell_type": "markdown",
   "id": "7ea022cd-f1f6-43b0-8327-27f99d6428bc",
   "metadata": {},
   "source": [
    "## Visualize paths"
   ]
  },
  {
   "cell_type": "code",
   "execution_count": 12,
   "id": "317b89c6-01ff-4c70-acad-1a5b9999864d",
   "metadata": {},
   "outputs": [],
   "source": [
    "from sklearn.manifold import TSNE"
   ]
  },
  {
   "cell_type": "code",
   "execution_count": 13,
   "id": "e9fa15c2-eeb8-4b34-9079-34fd97c9f35a",
   "metadata": {},
   "outputs": [
    {
     "name": "stderr",
     "output_type": "stream",
     "text": [
      "/home/krishna/.pyenv/versions/3.9.9/envs/smoothify/lib/python3.9/site-packages/sklearn/manifold/_t_sne.py:982: FutureWarning: The PCA initialization in TSNE will change to have the standard deviation of PC1 equal to 1e-4 in 1.2. This will ensure better convergence.\n",
      "  warnings.warn(\n"
     ]
    }
   ],
   "source": [
    "reducer = TSNE(learning_rate=\"auto\", init=\"pca\")\n",
    "points_2d = reducer.fit_transform(points)"
   ]
  },
  {
   "cell_type": "code",
   "execution_count": 14,
   "id": "9e8a78fb-5679-471e-9d6f-669219fd514f",
   "metadata": {},
   "outputs": [
    {
     "data": {
      "text/html": [
       "\n",
       "    <div class=\"bk-root\">\n",
       "        <a href=\"https://bokeh.org\" target=\"_blank\" class=\"bk-logo bk-logo-small bk-logo-notebook\"></a>\n",
       "        <span id=\"1233\">Loading BokehJS ...</span>\n",
       "    </div>"
      ]
     },
     "metadata": {},
     "output_type": "display_data"
    },
    {
     "data": {
      "application/javascript": [
       "\n",
       "(function(root) {\n",
       "  function now() {\n",
       "    return new Date();\n",
       "  }\n",
       "\n",
       "  const force = true;\n",
       "\n",
       "  if (typeof root._bokeh_onload_callbacks === \"undefined\" || force === true) {\n",
       "    root._bokeh_onload_callbacks = [];\n",
       "    root._bokeh_is_loading = undefined;\n",
       "  }\n",
       "\n",
       "  const JS_MIME_TYPE = 'application/javascript';\n",
       "  const HTML_MIME_TYPE = 'text/html';\n",
       "  const EXEC_MIME_TYPE = 'application/vnd.bokehjs_exec.v0+json';\n",
       "  const CLASS_NAME = 'output_bokeh rendered_html';\n",
       "\n",
       "  /**\n",
       "   * Render data to the DOM node\n",
       "   */\n",
       "  function render(props, node) {\n",
       "    const script = document.createElement(\"script\");\n",
       "    node.appendChild(script);\n",
       "  }\n",
       "\n",
       "  /**\n",
       "   * Handle when an output is cleared or removed\n",
       "   */\n",
       "  function handleClearOutput(event, handle) {\n",
       "    const cell = handle.cell;\n",
       "\n",
       "    const id = cell.output_area._bokeh_element_id;\n",
       "    const server_id = cell.output_area._bokeh_server_id;\n",
       "    // Clean up Bokeh references\n",
       "    if (id != null && id in Bokeh.index) {\n",
       "      Bokeh.index[id].model.document.clear();\n",
       "      delete Bokeh.index[id];\n",
       "    }\n",
       "\n",
       "    if (server_id !== undefined) {\n",
       "      // Clean up Bokeh references\n",
       "      const cmd_clean = \"from bokeh.io.state import curstate; print(curstate().uuid_to_server['\" + server_id + \"'].get_sessions()[0].document.roots[0]._id)\";\n",
       "      cell.notebook.kernel.execute(cmd_clean, {\n",
       "        iopub: {\n",
       "          output: function(msg) {\n",
       "            const id = msg.content.text.trim();\n",
       "            if (id in Bokeh.index) {\n",
       "              Bokeh.index[id].model.document.clear();\n",
       "              delete Bokeh.index[id];\n",
       "            }\n",
       "          }\n",
       "        }\n",
       "      });\n",
       "      // Destroy server and session\n",
       "      const cmd_destroy = \"import bokeh.io.notebook as ion; ion.destroy_server('\" + server_id + \"')\";\n",
       "      cell.notebook.kernel.execute(cmd_destroy);\n",
       "    }\n",
       "  }\n",
       "\n",
       "  /**\n",
       "   * Handle when a new output is added\n",
       "   */\n",
       "  function handleAddOutput(event, handle) {\n",
       "    const output_area = handle.output_area;\n",
       "    const output = handle.output;\n",
       "\n",
       "    // limit handleAddOutput to display_data with EXEC_MIME_TYPE content only\n",
       "    if ((output.output_type != \"display_data\") || (!Object.prototype.hasOwnProperty.call(output.data, EXEC_MIME_TYPE))) {\n",
       "      return\n",
       "    }\n",
       "\n",
       "    const toinsert = output_area.element.find(\".\" + CLASS_NAME.split(' ')[0]);\n",
       "\n",
       "    if (output.metadata[EXEC_MIME_TYPE][\"id\"] !== undefined) {\n",
       "      toinsert[toinsert.length - 1].firstChild.textContent = output.data[JS_MIME_TYPE];\n",
       "      // store reference to embed id on output_area\n",
       "      output_area._bokeh_element_id = output.metadata[EXEC_MIME_TYPE][\"id\"];\n",
       "    }\n",
       "    if (output.metadata[EXEC_MIME_TYPE][\"server_id\"] !== undefined) {\n",
       "      const bk_div = document.createElement(\"div\");\n",
       "      bk_div.innerHTML = output.data[HTML_MIME_TYPE];\n",
       "      const script_attrs = bk_div.children[0].attributes;\n",
       "      for (let i = 0; i < script_attrs.length; i++) {\n",
       "        toinsert[toinsert.length - 1].firstChild.setAttribute(script_attrs[i].name, script_attrs[i].value);\n",
       "        toinsert[toinsert.length - 1].firstChild.textContent = bk_div.children[0].textContent\n",
       "      }\n",
       "      // store reference to server id on output_area\n",
       "      output_area._bokeh_server_id = output.metadata[EXEC_MIME_TYPE][\"server_id\"];\n",
       "    }\n",
       "  }\n",
       "\n",
       "  function register_renderer(events, OutputArea) {\n",
       "\n",
       "    function append_mime(data, metadata, element) {\n",
       "      // create a DOM node to render to\n",
       "      const toinsert = this.create_output_subarea(\n",
       "        metadata,\n",
       "        CLASS_NAME,\n",
       "        EXEC_MIME_TYPE\n",
       "      );\n",
       "      this.keyboard_manager.register_events(toinsert);\n",
       "      // Render to node\n",
       "      const props = {data: data, metadata: metadata[EXEC_MIME_TYPE]};\n",
       "      render(props, toinsert[toinsert.length - 1]);\n",
       "      element.append(toinsert);\n",
       "      return toinsert\n",
       "    }\n",
       "\n",
       "    /* Handle when an output is cleared or removed */\n",
       "    events.on('clear_output.CodeCell', handleClearOutput);\n",
       "    events.on('delete.Cell', handleClearOutput);\n",
       "\n",
       "    /* Handle when a new output is added */\n",
       "    events.on('output_added.OutputArea', handleAddOutput);\n",
       "\n",
       "    /**\n",
       "     * Register the mime type and append_mime function with output_area\n",
       "     */\n",
       "    OutputArea.prototype.register_mime_type(EXEC_MIME_TYPE, append_mime, {\n",
       "      /* Is output safe? */\n",
       "      safe: true,\n",
       "      /* Index of renderer in `output_area.display_order` */\n",
       "      index: 0\n",
       "    });\n",
       "  }\n",
       "\n",
       "  // register the mime type if in Jupyter Notebook environment and previously unregistered\n",
       "  if (root.Jupyter !== undefined) {\n",
       "    const events = require('base/js/events');\n",
       "    const OutputArea = require('notebook/js/outputarea').OutputArea;\n",
       "\n",
       "    if (OutputArea.prototype.mime_types().indexOf(EXEC_MIME_TYPE) == -1) {\n",
       "      register_renderer(events, OutputArea);\n",
       "    }\n",
       "  }\n",
       "\n",
       "  \n",
       "  if (typeof (root._bokeh_timeout) === \"undefined\" || force === true) {\n",
       "    root._bokeh_timeout = Date.now() + 5000;\n",
       "    root._bokeh_failed_load = false;\n",
       "  }\n",
       "\n",
       "  const NB_LOAD_WARNING = {'data': {'text/html':\n",
       "     \"<div style='background-color: #fdd'>\\n\"+\n",
       "     \"<p>\\n\"+\n",
       "     \"BokehJS does not appear to have successfully loaded. If loading BokehJS from CDN, this \\n\"+\n",
       "     \"may be due to a slow or bad network connection. Possible fixes:\\n\"+\n",
       "     \"</p>\\n\"+\n",
       "     \"<ul>\\n\"+\n",
       "     \"<li>re-rerun `output_notebook()` to attempt to load from CDN again, or</li>\\n\"+\n",
       "     \"<li>use INLINE resources instead, as so:</li>\\n\"+\n",
       "     \"</ul>\\n\"+\n",
       "     \"<code>\\n\"+\n",
       "     \"from bokeh.resources import INLINE\\n\"+\n",
       "     \"output_notebook(resources=INLINE)\\n\"+\n",
       "     \"</code>\\n\"+\n",
       "     \"</div>\"}};\n",
       "\n",
       "  function display_loaded() {\n",
       "    const el = document.getElementById(\"1233\");\n",
       "    if (el != null) {\n",
       "      el.textContent = \"BokehJS is loading...\";\n",
       "    }\n",
       "    if (root.Bokeh !== undefined) {\n",
       "      if (el != null) {\n",
       "        el.textContent = \"BokehJS \" + root.Bokeh.version + \" successfully loaded.\";\n",
       "      }\n",
       "    } else if (Date.now() < root._bokeh_timeout) {\n",
       "      setTimeout(display_loaded, 100)\n",
       "    }\n",
       "  }\n",
       "\n",
       "\n",
       "  function run_callbacks() {\n",
       "    try {\n",
       "      root._bokeh_onload_callbacks.forEach(function(callback) {\n",
       "        if (callback != null)\n",
       "          callback();\n",
       "      });\n",
       "    } finally {\n",
       "      delete root._bokeh_onload_callbacks\n",
       "    }\n",
       "    console.debug(\"Bokeh: all callbacks have finished\");\n",
       "  }\n",
       "\n",
       "  function load_libs(css_urls, js_urls, callback) {\n",
       "    if (css_urls == null) css_urls = [];\n",
       "    if (js_urls == null) js_urls = [];\n",
       "\n",
       "    root._bokeh_onload_callbacks.push(callback);\n",
       "    if (root._bokeh_is_loading > 0) {\n",
       "      console.debug(\"Bokeh: BokehJS is being loaded, scheduling callback at\", now());\n",
       "      return null;\n",
       "    }\n",
       "    if (js_urls == null || js_urls.length === 0) {\n",
       "      run_callbacks();\n",
       "      return null;\n",
       "    }\n",
       "    console.debug(\"Bokeh: BokehJS not loaded, scheduling load and callback at\", now());\n",
       "    root._bokeh_is_loading = css_urls.length + js_urls.length;\n",
       "\n",
       "    function on_load() {\n",
       "      root._bokeh_is_loading--;\n",
       "      if (root._bokeh_is_loading === 0) {\n",
       "        console.debug(\"Bokeh: all BokehJS libraries/stylesheets loaded\");\n",
       "        run_callbacks()\n",
       "      }\n",
       "    }\n",
       "\n",
       "    function on_error(url) {\n",
       "      console.error(\"failed to load \" + url);\n",
       "    }\n",
       "\n",
       "    for (let i = 0; i < css_urls.length; i++) {\n",
       "      const url = css_urls[i];\n",
       "      const element = document.createElement(\"link\");\n",
       "      element.onload = on_load;\n",
       "      element.onerror = on_error.bind(null, url);\n",
       "      element.rel = \"stylesheet\";\n",
       "      element.type = \"text/css\";\n",
       "      element.href = url;\n",
       "      console.debug(\"Bokeh: injecting link tag for BokehJS stylesheet: \", url);\n",
       "      document.body.appendChild(element);\n",
       "    }\n",
       "\n",
       "    for (let i = 0; i < js_urls.length; i++) {\n",
       "      const url = js_urls[i];\n",
       "      const element = document.createElement('script');\n",
       "      element.onload = on_load;\n",
       "      element.onerror = on_error.bind(null, url);\n",
       "      element.async = false;\n",
       "      element.src = url;\n",
       "      console.debug(\"Bokeh: injecting script tag for BokehJS library: \", url);\n",
       "      document.head.appendChild(element);\n",
       "    }\n",
       "  };\n",
       "\n",
       "  function inject_raw_css(css) {\n",
       "    const element = document.createElement(\"style\");\n",
       "    element.appendChild(document.createTextNode(css));\n",
       "    document.body.appendChild(element);\n",
       "  }\n",
       "\n",
       "  \n",
       "  const js_urls = [\"https://cdn.bokeh.org/bokeh/release/bokeh-2.4.2.min.js\", \"https://cdn.bokeh.org/bokeh/release/bokeh-gl-2.4.2.min.js\", \"https://cdn.bokeh.org/bokeh/release/bokeh-widgets-2.4.2.min.js\", \"https://cdn.bokeh.org/bokeh/release/bokeh-tables-2.4.2.min.js\", \"https://cdn.bokeh.org/bokeh/release/bokeh-mathjax-2.4.2.min.js\"];\n",
       "  const css_urls = [];\n",
       "  \n",
       "\n",
       "  const inline_js = [\n",
       "    function(Bokeh) {\n",
       "      Bokeh.set_log_level(\"info\");\n",
       "    },\n",
       "    function(Bokeh) {\n",
       "    \n",
       "    \n",
       "    }\n",
       "  ];\n",
       "\n",
       "  function run_inline_js() {\n",
       "    \n",
       "    if (root.Bokeh !== undefined || force === true) {\n",
       "      \n",
       "    for (let i = 0; i < inline_js.length; i++) {\n",
       "      inline_js[i].call(root, root.Bokeh);\n",
       "    }\n",
       "    if (force === true) {\n",
       "        display_loaded();\n",
       "      }} else if (Date.now() < root._bokeh_timeout) {\n",
       "      setTimeout(run_inline_js, 100);\n",
       "    } else if (!root._bokeh_failed_load) {\n",
       "      console.log(\"Bokeh: BokehJS failed to load within specified timeout.\");\n",
       "      root._bokeh_failed_load = true;\n",
       "    } else if (force !== true) {\n",
       "      const cell = $(document.getElementById(\"1233\")).parents('.cell').data().cell;\n",
       "      cell.output_area.append_execute_result(NB_LOAD_WARNING)\n",
       "    }\n",
       "\n",
       "  }\n",
       "\n",
       "  if (root._bokeh_is_loading === 0) {\n",
       "    console.debug(\"Bokeh: BokehJS loaded, going straight to plotting\");\n",
       "    run_inline_js();\n",
       "  } else {\n",
       "    load_libs(css_urls, js_urls, function() {\n",
       "      console.debug(\"Bokeh: BokehJS plotting callback run at\", now());\n",
       "      run_inline_js();\n",
       "    });\n",
       "  }\n",
       "}(window));"
      ],
      "application/vnd.bokehjs_load.v0+json": "\n(function(root) {\n  function now() {\n    return new Date();\n  }\n\n  const force = true;\n\n  if (typeof root._bokeh_onload_callbacks === \"undefined\" || force === true) {\n    root._bokeh_onload_callbacks = [];\n    root._bokeh_is_loading = undefined;\n  }\n\n  \n\n  \n  if (typeof (root._bokeh_timeout) === \"undefined\" || force === true) {\n    root._bokeh_timeout = Date.now() + 5000;\n    root._bokeh_failed_load = false;\n  }\n\n  const NB_LOAD_WARNING = {'data': {'text/html':\n     \"<div style='background-color: #fdd'>\\n\"+\n     \"<p>\\n\"+\n     \"BokehJS does not appear to have successfully loaded. If loading BokehJS from CDN, this \\n\"+\n     \"may be due to a slow or bad network connection. Possible fixes:\\n\"+\n     \"</p>\\n\"+\n     \"<ul>\\n\"+\n     \"<li>re-rerun `output_notebook()` to attempt to load from CDN again, or</li>\\n\"+\n     \"<li>use INLINE resources instead, as so:</li>\\n\"+\n     \"</ul>\\n\"+\n     \"<code>\\n\"+\n     \"from bokeh.resources import INLINE\\n\"+\n     \"output_notebook(resources=INLINE)\\n\"+\n     \"</code>\\n\"+\n     \"</div>\"}};\n\n  function display_loaded() {\n    const el = document.getElementById(\"1233\");\n    if (el != null) {\n      el.textContent = \"BokehJS is loading...\";\n    }\n    if (root.Bokeh !== undefined) {\n      if (el != null) {\n        el.textContent = \"BokehJS \" + root.Bokeh.version + \" successfully loaded.\";\n      }\n    } else if (Date.now() < root._bokeh_timeout) {\n      setTimeout(display_loaded, 100)\n    }\n  }\n\n\n  function run_callbacks() {\n    try {\n      root._bokeh_onload_callbacks.forEach(function(callback) {\n        if (callback != null)\n          callback();\n      });\n    } finally {\n      delete root._bokeh_onload_callbacks\n    }\n    console.debug(\"Bokeh: all callbacks have finished\");\n  }\n\n  function load_libs(css_urls, js_urls, callback) {\n    if (css_urls == null) css_urls = [];\n    if (js_urls == null) js_urls = [];\n\n    root._bokeh_onload_callbacks.push(callback);\n    if (root._bokeh_is_loading > 0) {\n      console.debug(\"Bokeh: BokehJS is being loaded, scheduling callback at\", now());\n      return null;\n    }\n    if (js_urls == null || js_urls.length === 0) {\n      run_callbacks();\n      return null;\n    }\n    console.debug(\"Bokeh: BokehJS not loaded, scheduling load and callback at\", now());\n    root._bokeh_is_loading = css_urls.length + js_urls.length;\n\n    function on_load() {\n      root._bokeh_is_loading--;\n      if (root._bokeh_is_loading === 0) {\n        console.debug(\"Bokeh: all BokehJS libraries/stylesheets loaded\");\n        run_callbacks()\n      }\n    }\n\n    function on_error(url) {\n      console.error(\"failed to load \" + url);\n    }\n\n    for (let i = 0; i < css_urls.length; i++) {\n      const url = css_urls[i];\n      const element = document.createElement(\"link\");\n      element.onload = on_load;\n      element.onerror = on_error.bind(null, url);\n      element.rel = \"stylesheet\";\n      element.type = \"text/css\";\n      element.href = url;\n      console.debug(\"Bokeh: injecting link tag for BokehJS stylesheet: \", url);\n      document.body.appendChild(element);\n    }\n\n    for (let i = 0; i < js_urls.length; i++) {\n      const url = js_urls[i];\n      const element = document.createElement('script');\n      element.onload = on_load;\n      element.onerror = on_error.bind(null, url);\n      element.async = false;\n      element.src = url;\n      console.debug(\"Bokeh: injecting script tag for BokehJS library: \", url);\n      document.head.appendChild(element);\n    }\n  };\n\n  function inject_raw_css(css) {\n    const element = document.createElement(\"style\");\n    element.appendChild(document.createTextNode(css));\n    document.body.appendChild(element);\n  }\n\n  \n  const js_urls = [\"https://cdn.bokeh.org/bokeh/release/bokeh-2.4.2.min.js\", \"https://cdn.bokeh.org/bokeh/release/bokeh-gl-2.4.2.min.js\", \"https://cdn.bokeh.org/bokeh/release/bokeh-widgets-2.4.2.min.js\", \"https://cdn.bokeh.org/bokeh/release/bokeh-tables-2.4.2.min.js\", \"https://cdn.bokeh.org/bokeh/release/bokeh-mathjax-2.4.2.min.js\"];\n  const css_urls = [];\n  \n\n  const inline_js = [\n    function(Bokeh) {\n      Bokeh.set_log_level(\"info\");\n    },\n    function(Bokeh) {\n    \n    \n    }\n  ];\n\n  function run_inline_js() {\n    \n    if (root.Bokeh !== undefined || force === true) {\n      \n    for (let i = 0; i < inline_js.length; i++) {\n      inline_js[i].call(root, root.Bokeh);\n    }\n    if (force === true) {\n        display_loaded();\n      }} else if (Date.now() < root._bokeh_timeout) {\n      setTimeout(run_inline_js, 100);\n    } else if (!root._bokeh_failed_load) {\n      console.log(\"Bokeh: BokehJS failed to load within specified timeout.\");\n      root._bokeh_failed_load = true;\n    } else if (force !== true) {\n      const cell = $(document.getElementById(\"1233\")).parents('.cell').data().cell;\n      cell.output_area.append_execute_result(NB_LOAD_WARNING)\n    }\n\n  }\n\n  if (root._bokeh_is_loading === 0) {\n    console.debug(\"Bokeh: BokehJS loaded, going straight to plotting\");\n    run_inline_js();\n  } else {\n    load_libs(css_urls, js_urls, function() {\n      console.debug(\"Bokeh: BokehJS plotting callback run at\", now());\n      run_inline_js();\n    });\n  }\n}(window));"
     },
     "metadata": {},
     "output_type": "display_data"
    },
    {
     "data": {
      "text/html": [
       "\n",
       "\n",
       "\n",
       "\n",
       "\n",
       "\n",
       "  <div class=\"bk-root\" id=\"6be55d67-8dfb-4e4f-bb18-d12307ced446\" data-root-id=\"1198\"></div>\n"
      ]
     },
     "metadata": {},
     "output_type": "display_data"
    },
    {
     "data": {
      "application/javascript": [
       "(function(root) {\n",
       "  function embed_document(root) {\n",
       "    \n",
       "  const docs_json = {\"76190462-4a05-4b0b-96ec-40de94dd21d1\":{\"defs\":[],\"roots\":{\"references\":[{\"attributes\":{\"below\":[{\"id\":\"1207\"}],\"center\":[{\"id\":\"1210\"},{\"id\":\"1214\"}],\"left\":[{\"id\":\"1211\"}],\"renderers\":[{\"id\":\"1231\"}],\"title\":{\"id\":\"1218\"},\"toolbar\":{\"id\":\"1216\"},\"x_range\":{\"id\":\"1199\"},\"x_scale\":{\"id\":\"1203\"},\"y_range\":{\"id\":\"1201\"},\"y_scale\":{\"id\":\"1205\"}},\"id\":\"1198\",\"subtype\":\"Figure\",\"type\":\"Plot\"},{\"attributes\":{},\"id\":\"1254\",\"type\":\"UnionRenderers\"},{\"attributes\":{\"fill_alpha\":{\"value\":0.2},\"fill_color\":{\"value\":\"#1f77b4\"},\"hatch_alpha\":{\"value\":0.2},\"line_alpha\":{\"value\":0.2},\"line_color\":{\"value\":null},\"radius\":{\"value\":0.5},\"x\":{\"field\":\"x\"},\"y\":{\"field\":\"y\"}},\"id\":\"1230\",\"type\":\"Circle\"},{\"attributes\":{},\"id\":\"1255\",\"type\":\"Selection\"},{\"attributes\":{},\"id\":\"1225\",\"type\":\"AllLabels\"},{\"attributes\":{},\"id\":\"1224\",\"type\":\"BasicTickFormatter\"},{\"attributes\":{\"coordinates\":null,\"formatter\":{\"id\":\"1221\"},\"group\":null,\"major_label_policy\":{\"id\":\"1222\"},\"ticker\":{\"id\":\"1212\"}},\"id\":\"1211\",\"type\":\"LinearAxis\"},{\"attributes\":{},\"id\":\"1205\",\"type\":\"LinearScale\"},{\"attributes\":{},\"id\":\"1203\",\"type\":\"LinearScale\"},{\"attributes\":{\"coordinates\":null,\"formatter\":{\"id\":\"1224\"},\"group\":null,\"major_label_policy\":{\"id\":\"1225\"},\"ticker\":{\"id\":\"1208\"}},\"id\":\"1207\",\"type\":\"LinearAxis\"},{\"attributes\":{\"fill_alpha\":{\"value\":0.5},\"fill_color\":{\"value\":\"#1f77b4\"},\"line_color\":{\"value\":null},\"radius\":{\"value\":0.5},\"x\":{\"field\":\"x\"},\"y\":{\"field\":\"y\"}},\"id\":\"1228\",\"type\":\"Circle\"},{\"attributes\":{\"coordinates\":null,\"group\":null},\"id\":\"1218\",\"type\":\"Title\"},{\"attributes\":{\"data\":{\"x\":{\"__ndarray__\":\"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\",\"dtype\":\"float32\",\"order\":\"little\",\"shape\":[531]},\"y\":{\"__ndarray__\":\"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\",\"dtype\":\"float32\",\"order\":\"little\",\"shape\":[531]}},\"selected\":{\"id\":\"1255\"},\"selection_policy\":{\"id\":\"1254\"}},\"id\":\"1226\",\"type\":\"ColumnDataSource\"},{\"attributes\":{\"coordinates\":null,\"data_source\":{\"id\":\"1226\"},\"glyph\":{\"id\":\"1228\"},\"group\":null,\"hover_glyph\":null,\"muted_glyph\":{\"id\":\"1230\"},\"nonselection_glyph\":{\"id\":\"1229\"},\"view\":{\"id\":\"1232\"}},\"id\":\"1231\",\"type\":\"GlyphRenderer\"},{\"attributes\":{},\"id\":\"1208\",\"type\":\"BasicTicker\"},{\"attributes\":{\"axis\":{\"id\":\"1207\"},\"coordinates\":null,\"group\":null,\"ticker\":null},\"id\":\"1210\",\"type\":\"Grid\"},{\"attributes\":{},\"id\":\"1199\",\"type\":\"DataRange1d\"},{\"attributes\":{},\"id\":\"1221\",\"type\":\"BasicTickFormatter\"},{\"attributes\":{\"fill_alpha\":{\"value\":0.1},\"fill_color\":{\"value\":\"#1f77b4\"},\"hatch_alpha\":{\"value\":0.1},\"line_alpha\":{\"value\":0.1},\"line_color\":{\"value\":null},\"radius\":{\"value\":0.5},\"x\":{\"field\":\"x\"},\"y\":{\"field\":\"y\"}},\"id\":\"1229\",\"type\":\"Circle\"},{\"attributes\":{},\"id\":\"1222\",\"type\":\"AllLabels\"},{\"attributes\":{\"axis\":{\"id\":\"1211\"},\"coordinates\":null,\"dimension\":1,\"group\":null,\"ticker\":null},\"id\":\"1214\",\"type\":\"Grid\"},{\"attributes\":{\"tools\":[{\"id\":\"1215\"}]},\"id\":\"1216\",\"type\":\"Toolbar\"},{\"attributes\":{},\"id\":\"1201\",\"type\":\"DataRange1d\"},{\"attributes\":{\"source\":{\"id\":\"1226\"}},\"id\":\"1232\",\"type\":\"CDSView\"},{\"attributes\":{\"callback\":null,\"tooltips\":[[\"x\",\"@x\"],[\"y\",\"@y\"]]},\"id\":\"1215\",\"type\":\"HoverTool\"},{\"attributes\":{},\"id\":\"1212\",\"type\":\"BasicTicker\"}],\"root_ids\":[\"1198\"]},\"title\":\"Bokeh Application\",\"version\":\"2.4.2\"}};\n",
       "  const render_items = [{\"docid\":\"76190462-4a05-4b0b-96ec-40de94dd21d1\",\"root_ids\":[\"1198\"],\"roots\":{\"1198\":\"6be55d67-8dfb-4e4f-bb18-d12307ced446\"}}];\n",
       "  root.Bokeh.embed.embed_items_notebook(docs_json, render_items);\n",
       "\n",
       "  }\n",
       "  if (root.Bokeh !== undefined) {\n",
       "    embed_document(root);\n",
       "  } else {\n",
       "    let attempts = 0;\n",
       "    const timer = setInterval(function(root) {\n",
       "      if (root.Bokeh !== undefined) {\n",
       "        clearInterval(timer);\n",
       "        embed_document(root);\n",
       "      } else {\n",
       "        attempts++;\n",
       "        if (attempts > 100) {\n",
       "          clearInterval(timer);\n",
       "          console.log(\"Bokeh: ERROR: Unable to run BokehJS code because BokehJS library is missing\");\n",
       "        }\n",
       "      }\n",
       "    }, 10, root)\n",
       "  }\n",
       "})(window);"
      ],
      "application/vnd.bokehjs_exec.v0+json": ""
     },
     "metadata": {
      "application/vnd.bokehjs_exec.v0+json": {
       "id": "1198"
      }
     },
     "output_type": "display_data"
    }
   ],
   "source": [
    "from bokeh.plotting import figure, output_notebook, show\n",
    "from bokeh.models import ColumnDataSource, HoverTool\n",
    "\n",
    "\n",
    "def make_plot(*, x, y, path):\n",
    "    p = figure(tools=\"hover\")\n",
    "    # Data source\n",
    "    data = dict(x=x, y=y)\n",
    "    # Hover tooltips\n",
    "    hover = p.select({\"type\": HoverTool})\n",
    "    hover.tooltips = {k: f\"@{k}\" for k in data}\n",
    "    # Draw points\n",
    "    p.scatter(source=ColumnDataSource(data=data), x=\"x\", y=\"y\", radius=0.5, fill_alpha=0.5, line_color=None)\n",
    "    # Draw path\n",
    "    p.line(x[path], y[path], alpha=0.33)\n",
    "    return p\n",
    "\n",
    "\n",
    "initial_order = make_plot(x=points_2d[:, 0], y=points_2d[:, 1], path=list(range(len(points_2d))))\n",
    "best_order = make_plot(x=points_2d[:, 0], y=points_2d[:, 1], path=best_path)\n",
    "\n",
    "output_notebook()\n",
    "show(initial_order)\n",
    "show(best_order)"
   ]
  }
 ],
 "metadata": {
  "kernelspec": {
   "display_name": "Python 3 (ipykernel)",
   "language": "python",
   "name": "python3"
  },
  "language_info": {
   "codemirror_mode": {
    "name": "ipython",
    "version": 3
   },
   "file_extension": ".py",
   "mimetype": "text/x-python",
   "name": "python",
   "nbconvert_exporter": "python",
   "pygments_lexer": "ipython3",
   "version": "3.9.9"
  }
 },
 "nbformat": 4,
 "nbformat_minor": 5
}
