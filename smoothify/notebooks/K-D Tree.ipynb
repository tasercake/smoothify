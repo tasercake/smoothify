{
 "cells": [
  {
   "cell_type": "markdown",
   "id": "0f01b0c4-f0fb-49d9-a7cf-3b0def2a82e4",
   "metadata": {},
   "source": [
    "# KD Tree for Bottleneck TSP"
   ]
  },
  {
   "cell_type": "code",
   "execution_count": null,
   "id": "ac2334eb-8042-44e5-b6e4-d1483599e26e",
   "metadata": {},
   "outputs": [],
   "source": [
    "import random\n",
    "import multiprocessing\n",
    "from functools import partial\n",
    "\n",
    "import pandas as pd\n",
    "import numpy as np\n",
    "import scipy.spatial\n",
    "from scipy.spatial import cKDTree\n",
    "import seaborn as sns\n",
    "import matplotlib.pyplot as plt\n",
    "from tqdm import tqdm\n",
    "sns.set_theme()\n",
    "\n",
    "from typing import List, Tuple"
   ]
  },
  {
   "cell_type": "markdown",
   "id": "720f0992-55a2-4b97-a016-e0ebee895de4",
   "metadata": {
    "tags": []
   },
   "source": [
    "## Load data"
   ]
  },
  {
   "cell_type": "markdown",
   "id": "ef93a089-cc3d-4075-b6c5-17090dee4ff3",
   "metadata": {
    "tags": []
   },
   "source": [
    "### Option 1: Generate points"
   ]
  },
  {
   "cell_type": "code",
   "execution_count": null,
   "id": "1887f6ff-991f-4a16-aa7d-095738a3260b",
   "metadata": {},
   "outputs": [],
   "source": [
    "NUM_POINTS = 500\n",
    "NUM_FEATURES = 12\n",
    "\n",
    "points = np.random.rand(NUM_POINTS, NUM_FEATURES)"
   ]
  },
  {
   "cell_type": "markdown",
   "id": "452b7c7a-1bca-4fbc-be3c-f60670ccd8d3",
   "metadata": {
    "tags": []
   },
   "source": [
    "### Option 2: Load points from CSV"
   ]
  },
  {
   "cell_type": "code",
   "execution_count": null,
   "id": "2373d7e2-99d5-42c8-912a-62d4ff25945a",
   "metadata": {},
   "outputs": [],
   "source": [
    "# df = pd.read_csv(\"features.csv\")\n",
    "df = pd.read_csv(\"features_no_mode.csv\")\n",
    "points = np.array(df)"
   ]
  },
  {
   "cell_type": "markdown",
   "id": "9cdf4ffe-b851-4e4b-b25a-c1dd91b08b15",
   "metadata": {},
   "source": [
    "## Compute the best path through the points"
   ]
  },
  {
   "cell_type": "code",
   "execution_count": null,
   "id": "153b2c0b-214f-48a1-8cc8-98d02835ea56",
   "metadata": {
    "tags": []
   },
   "outputs": [],
   "source": [
    "class KDTreeBottleneckTSP:\n",
    "    def __init__(self, *, points: np.ndarray):\n",
    "        self.points = points\n",
    "        self.num_points = self.points.shape[0]\n",
    "\n",
    "    def build_tree(self) -> cKDTree:\n",
    "        tree = cKDTree(self.points)\n",
    "        return tree\n",
    "\n",
    "    def greedy_nearest_path(self, tree: cKDTree, source: int) -> Tuple[List[int], float]:\n",
    "        \"\"\"\n",
    "        Starting from the source node, construct a list of node indices by\n",
    "        iteratively adding the nearest neighbor in the KD Tree.\n",
    "        \"\"\"\n",
    "        current = source  # The node we're currently at\n",
    "        visited = {source}  # Set of visited indices\n",
    "        path = [source]  # The path so far (in order)\n",
    "        max_dist = 0  # Length of the longest edge in the path\n",
    "\n",
    "        # Loop until we've visited every point\n",
    "        for i in range(self.num_points):\n",
    "            # Start with the closest neighbor, keep incrementing until we find an unvisited neighbor\n",
    "            for k in range(2, self.num_points):\n",
    "                # Try to get the closes unvisited neighbor to the current node\n",
    "                (distance,), (candidate_point,) = tree.query(self.points[current], k=[k])\n",
    "                if candidate_point not in visited:  # Once an unvisited nearest neighbor is found\n",
    "                    current = candidate_point  # Move to the neighbor node\n",
    "                    visited.add(candidate_point)  # Mark the neighbor node as visited\n",
    "                    path.append(candidate_point)  # Add the neighbor node to the path\n",
    "                    found_unvisited_neighbor = True\n",
    "                    if distance > max_dist:\n",
    "                        max_dist = distance  # Update the maximum edge length in the page\n",
    "                    break\n",
    "        return path, max_dist\n",
    "\n",
    "    def get_best_path(self):\n",
    "        tree = self.build_tree()\n",
    "\n",
    "        with multiprocessing.Pool(multiprocessing.cpu_count() - 2) as pool:\n",
    "            tasks = pool.imap(\n",
    "                partial(self.greedy_nearest_path, tree),\n",
    "                range(self.num_points),\n",
    "                chunksize=4\n",
    "            )\n",
    "            paths, max_dists = zip(*(task for task in tqdm(tasks, total=self.num_points)))\n",
    "            best_path_idx = np.argmin(max_dists)\n",
    "            best_path = paths[best_path_idx]\n",
    "            min_max_dist = max_dists[best_path_idx]\n",
    "            return dict(\n",
    "                paths=paths,\n",
    "                max_dists=max_dists,\n",
    "                best_path_idx=best_path_idx,\n",
    "                best_path=best_path,\n",
    "                min_max_dist=min_max_dist,\n",
    "            )"
   ]
  },
  {
   "cell_type": "code",
   "execution_count": null,
   "id": "fece2fa7-42ed-4709-9191-d2b798f98506",
   "metadata": {},
   "outputs": [],
   "source": [
    "optimizer = KDTreeBottleneckTSP(points=points)\n",
    "results = optimizer.get_best_path()\n",
    "best_path = results[\"best_path\"]\n",
    "max_dist = results[\"min_max_dist\"]\n",
    "print(f\"Max edge length: {max_dist}\")\n",
    "print(best_path)"
   ]
  },
  {
   "cell_type": "code",
   "execution_count": null,
   "id": "5a9c1fc1-c984-4469-9823-41e54d39af46",
   "metadata": {},
   "outputs": [],
   "source": [
    "sns.lineplot(data=(results[\"max_dists\"]))"
   ]
  }
 ],
 "metadata": {
  "kernelspec": {
   "display_name": "Python 3 (ipykernel)",
   "language": "python",
   "name": "python3"
  },
  "language_info": {
   "codemirror_mode": {
    "name": "ipython",
    "version": 3
   },
   "file_extension": ".py",
   "mimetype": "text/x-python",
   "name": "python",
   "nbconvert_exporter": "python",
   "pygments_lexer": "ipython3",
   "version": "3.9.1"
  }
 },
 "nbformat": 4,
 "nbformat_minor": 5
}
