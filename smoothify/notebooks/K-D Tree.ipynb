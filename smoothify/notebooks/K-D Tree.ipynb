{
 "cells": [
  {
   "cell_type": "markdown",
   "id": "0f01b0c4-f0fb-49d9-a7cf-3b0def2a82e4",
   "metadata": {
    "tags": []
   },
   "source": [
    "# KD Tree for Bottleneck TSP"
   ]
  },
  {
   "cell_type": "code",
   "execution_count": 1,
   "id": "ead98fa6-3ef7-46e6-98e3-a6db899b12b0",
   "metadata": {},
   "outputs": [],
   "source": [
    "%load_ext autoreload\n",
    "%autoreload 2"
   ]
  },
  {
   "cell_type": "markdown",
   "id": "0150df17-562b-4e2c-9f55-9c5fe921d739",
   "metadata": {
    "tags": []
   },
   "source": [
    "## Get Spotify Tracks"
   ]
  },
  {
   "cell_type": "code",
   "execution_count": 2,
   "id": "97d38577-0a6d-4caa-8b29-e5411804b452",
   "metadata": {},
   "outputs": [],
   "source": [
    "import tekore as tk\n",
    "from smoothify.features import construct_features\n",
    "import numpy as np"
   ]
  },
  {
   "cell_type": "markdown",
   "id": "a353fa2e-c5b9-42b7-bda4-647bafbbdb97",
   "metadata": {},
   "source": [
    "### Obtaining an API Access Token\n",
    "\n",
    "You'll need an access token to call the Spotify API.\n",
    "\n",
    "Here's how to get a temporary token to play around with (expires in ~30 mins):\n",
    "\n",
    "- Visit https://developer.spotify.com/console/get-playlist-tracks/\n",
    "- Click 'Get Token'\n",
    "- Select the following permissions:\n",
    "    - `user-library-read`\n",
    "    - `playlist-read-private`\n",
    "    - `playlist-read-collaborative`\n",
    "    - `playlist-modify-public`\n",
    "    - `playlist-modify-private`\n",
    "- Click 'Request Token'\n",
    "- Copy the text in the 'OAuth Token' field\n",
    "\n",
    "Paste the access token below"
   ]
  },
  {
   "cell_type": "code",
   "execution_count": 3,
   "id": "227b9df1-1850-4efb-aa79-518242f3749a",
   "metadata": {},
   "outputs": [],
   "source": [
    "ACCESS_TOKEN = \"BQAqbqBHRy1U3xfvQQpSD2u83mY4xSv8F3d8R5XKmPGISxmDG_nuaznWg79OT59PtFZ45MmgdTwP7qTay9VuuIc019LcegFsVKcTyuL1-eGBPCzMbLF3fthPbgyj5AXlfxls-ESHGCpObITxsaEpDSSlFlBoyObKQisDJ0Rc7Z3atJbFEVWHelKR5TRL-uB8AbatIQQAiaG4aoMsG13FOdXB2PYyxPu8LdCw9eSPAwUxzYFGKQI\"\n",
    "spotify = tk.Spotify(ACCESS_TOKEN, asynchronous=True, max_limits_on=True, chunked_on=True)\n",
    "current_user = await spotify.current_user()"
   ]
  },
  {
   "cell_type": "markdown",
   "id": "b31b4233-0dba-4970-b5f3-4596bc20181f",
   "metadata": {},
   "source": [
    "### Fetch tracks from current user's Liked Songs"
   ]
  },
  {
   "cell_type": "code",
   "execution_count": 4,
   "id": "16212846-0f04-4676-a22c-59fc6d045d3d",
   "metadata": {},
   "outputs": [
    {
     "name": "stdout",
     "output_type": "stream",
     "text": [
      "Fetched 531 tracks\n"
     ]
    }
   ],
   "source": [
    "saved_tracks_page = await spotify.saved_tracks()\n",
    "track_list = [track.track async for track in spotify.all_items(saved_tracks_page)]\n",
    "playlist_name = f\"{current_user.display_name}'s Library\"\n",
    "is_playlist_public = False\n",
    "is_playlist_collaborative = False\n",
    "print(f\"Fetched {len(track_list)} tracks\")"
   ]
  },
  {
   "cell_type": "markdown",
   "id": "00c1801f-2f7e-4e1a-9d8b-c7d8aa8c8839",
   "metadata": {},
   "source": [
    "### Fetch tracks from a playlist"
   ]
  },
  {
   "cell_type": "markdown",
   "id": "64891f0f-2f34-4cfc-932f-1cc3d0e92b9b",
   "metadata": {},
   "source": [
    "To read the tracks in a playlist, you'll need the playlist's ID.\n",
    "\n",
    "You can find a playlist's ID in its URL, which looks like `https://open.spotify.com/playlist/{playlist_id}`\n",
    "\n",
    "#### Getting a Playlist's URL\n",
    "\n",
    "- Navigate to your playlist\n",
    "- Under the playlist's title, click the triple-dot icon and select to `Share -> Copy link to playlist`\n"
   ]
  },
  {
   "cell_type": "code",
   "execution_count": null,
   "id": "1f8d3b18-ee09-4d5d-8a08-abab308cd468",
   "metadata": {},
   "outputs": [],
   "source": [
    "PLAYLIST_ID = \"78RmalWaNX12cJSmfVHlXL\"\n",
    "playlist = await spotify.playlist(PLAYLIST_ID)\n",
    "track_list = [track.track async for track in spotify.all_items(playlist.tracks)]\n",
    "playlist_name = playlist.name\n",
    "is_playlist_public = playlist.public\n",
    "is_playlist_collaborative = playlist.collaborative\n",
    "print(f\"Fetched {len(track_list)} tracks\")"
   ]
  },
  {
   "cell_type": "markdown",
   "id": "5f620c89-a2f0-4a6d-81fa-8c4798a30d43",
   "metadata": {
    "tags": []
   },
   "source": [
    "## Construct audio features"
   ]
  },
  {
   "cell_type": "markdown",
   "id": "f89ad5b6-892d-404a-993b-666104402636",
   "metadata": {},
   "source": [
    "### Query Spotify API for audio features"
   ]
  },
  {
   "cell_type": "code",
   "execution_count": 5,
   "id": "fc2bd711-4154-4b51-bee3-2da611ae5b48",
   "metadata": {},
   "outputs": [],
   "source": [
    "# Extract track IDs so we can fetch additional info\n",
    "track_id_list = [track.id for track in track_list]\n",
    "# Get track audio features\n",
    "track_features_list = await spotify.tracks_audio_features(track_id_list)"
   ]
  },
  {
   "cell_type": "markdown",
   "id": "ea2cd369-e6ba-487c-88b5-6ffced187810",
   "metadata": {},
   "source": [
    "### Merge & normalize features"
   ]
  },
  {
   "cell_type": "code",
   "execution_count": 6,
   "id": "fad8df3a-980c-4925-a1dd-2e36857ad180",
   "metadata": {},
   "outputs": [
    {
     "data": {
      "text/html": [
       "<div>\n",
       "<style scoped>\n",
       "    .dataframe tbody tr th:only-of-type {\n",
       "        vertical-align: middle;\n",
       "    }\n",
       "\n",
       "    .dataframe tbody tr th {\n",
       "        vertical-align: top;\n",
       "    }\n",
       "\n",
       "    .dataframe thead th {\n",
       "        text-align: right;\n",
       "    }\n",
       "</style>\n",
       "<table border=\"1\" class=\"dataframe\">\n",
       "  <thead>\n",
       "    <tr style=\"text-align: right;\">\n",
       "      <th></th>\n",
       "      <th>danceability</th>\n",
       "      <th>energy</th>\n",
       "      <th>loudness</th>\n",
       "      <th>speechiness</th>\n",
       "      <th>acousticness</th>\n",
       "      <th>instrumentalness</th>\n",
       "      <th>liveness</th>\n",
       "      <th>valence</th>\n",
       "      <th>tempo</th>\n",
       "    </tr>\n",
       "  </thead>\n",
       "  <tbody>\n",
       "    <tr>\n",
       "      <th>0</th>\n",
       "      <td>1.526728</td>\n",
       "      <td>-0.558664</td>\n",
       "      <td>-0.349908</td>\n",
       "      <td>0.130886</td>\n",
       "      <td>-0.678244</td>\n",
       "      <td>-0.738907</td>\n",
       "      <td>-0.702520</td>\n",
       "      <td>1.075576</td>\n",
       "      <td>-0.019850</td>\n",
       "    </tr>\n",
       "    <tr>\n",
       "      <th>1</th>\n",
       "      <td>-0.270316</td>\n",
       "      <td>1.331587</td>\n",
       "      <td>0.874591</td>\n",
       "      <td>0.340775</td>\n",
       "      <td>-0.564689</td>\n",
       "      <td>-0.784524</td>\n",
       "      <td>-0.357060</td>\n",
       "      <td>1.306981</td>\n",
       "      <td>0.268654</td>\n",
       "    </tr>\n",
       "    <tr>\n",
       "      <th>2</th>\n",
       "      <td>0.836608</td>\n",
       "      <td>0.242758</td>\n",
       "      <td>0.155296</td>\n",
       "      <td>-0.756161</td>\n",
       "      <td>-0.296462</td>\n",
       "      <td>-0.784524</td>\n",
       "      <td>1.909257</td>\n",
       "      <td>0.596806</td>\n",
       "      <td>0.184870</td>\n",
       "    </tr>\n",
       "    <tr>\n",
       "      <th>3</th>\n",
       "      <td>0.440302</td>\n",
       "      <td>1.187884</td>\n",
       "      <td>0.869561</td>\n",
       "      <td>1.564870</td>\n",
       "      <td>-0.644971</td>\n",
       "      <td>-0.784497</td>\n",
       "      <td>1.063982</td>\n",
       "      <td>0.405299</td>\n",
       "      <td>0.104714</td>\n",
       "    </tr>\n",
       "    <tr>\n",
       "      <th>4</th>\n",
       "      <td>0.993764</td>\n",
       "      <td>-0.354163</td>\n",
       "      <td>0.046521</td>\n",
       "      <td>-0.474267</td>\n",
       "      <td>-0.070465</td>\n",
       "      <td>-0.515523</td>\n",
       "      <td>-0.516315</td>\n",
       "      <td>-1.098835</td>\n",
       "      <td>-0.020427</td>\n",
       "    </tr>\n",
       "  </tbody>\n",
       "</table>\n",
       "</div>"
      ],
      "text/plain": [
       "   danceability    energy  loudness  speechiness  acousticness  \\\n",
       "0      1.526728 -0.558664 -0.349908     0.130886     -0.678244   \n",
       "1     -0.270316  1.331587  0.874591     0.340775     -0.564689   \n",
       "2      0.836608  0.242758  0.155296    -0.756161     -0.296462   \n",
       "3      0.440302  1.187884  0.869561     1.564870     -0.644971   \n",
       "4      0.993764 -0.354163  0.046521    -0.474267     -0.070465   \n",
       "\n",
       "   instrumentalness  liveness   valence     tempo  \n",
       "0         -0.738907 -0.702520  1.075576 -0.019850  \n",
       "1         -0.784524 -0.357060  1.306981  0.268654  \n",
       "2         -0.784524  1.909257  0.596806  0.184870  \n",
       "3         -0.784497  1.063982  0.405299  0.104714  \n",
       "4         -0.515523 -0.516315 -1.098835 -0.020427  "
      ]
     },
     "execution_count": 6,
     "metadata": {},
     "output_type": "execute_result"
    }
   ],
   "source": [
    "features_df = construct_features(audio_features_list=track_features_list)\n",
    "features_df.head()"
   ]
  },
  {
   "cell_type": "markdown",
   "id": "8d4d8705-e495-4617-a808-918995af788c",
   "metadata": {},
   "source": [
    "## Compute the best path through the points"
   ]
  },
  {
   "cell_type": "code",
   "execution_count": 7,
   "id": "ac2334eb-8042-44e5-b6e4-d1483599e26e",
   "metadata": {
    "tags": []
   },
   "outputs": [],
   "source": [
    "import random\n",
    "from uuid import uuid4\n",
    "from functools import partial\n",
    "from typing import List, Tuple\n",
    "\n",
    "import pandas as pd\n",
    "import scipy.spatial\n",
    "from scipy.spatial import cKDTree\n",
    "from joblib import Parallel, delayed\n",
    "\n",
    "from tqdm import tqdm\n",
    "\n",
    "from smoothify.optim.bottleneck_tsp import KDTreeBottleneckTSP"
   ]
  },
  {
   "cell_type": "code",
   "execution_count": 8,
   "id": "2b0fc5e8-6276-4498-bc0d-decba9d643db",
   "metadata": {},
   "outputs": [],
   "source": [
    "points = np.array(features_df)"
   ]
  },
  {
   "cell_type": "code",
   "execution_count": 9,
   "id": "1406924f-fa35-4236-bf21-5d161eb7190f",
   "metadata": {},
   "outputs": [
    {
     "name": "stderr",
     "output_type": "stream",
     "text": [
      "  0%|                                                                                                                                                                                                                                 | 0/531 [00:00<?, ?it/s]"
     ]
    },
    {
     "name": "stdout",
     "output_type": "stream",
     "text": [
      "[ProgressParallel(n_jobs=-1)]: Using backend LokyBackend with 12 concurrent workers.\n"
     ]
    },
    {
     "name": "stderr",
     "output_type": "stream",
     "text": [
      "100%|███████████████████████████████████████████████████████████████████████████████████████████████████████████████████████████████████████████████████████████████████████████████████████████████████████████████████████| 531/531 [00:20<00:00, 26.22it/s]"
     ]
    },
    {
     "name": "stdout",
     "output_type": "stream",
     "text": [
      "[ProgressParallel(n_jobs=-1)]: Done 531 out of 531 | elapsed:   20.2s finished\n",
      "Max edge length: 4.7158256001683645\n"
     ]
    },
    {
     "name": "stderr",
     "output_type": "stream",
     "text": [
      "\n"
     ]
    }
   ],
   "source": [
    "optimizer = KDTreeBottleneckTSP(points=points)\n",
    "results = optimizer.get_best_path()\n",
    "best_path = results.best_path\n",
    "max_dist = results.min_max_dist\n",
    "print(f\"Max edge length: {max_dist}\")"
   ]
  },
  {
   "cell_type": "markdown",
   "id": "eee20867-3b7f-41b1-a927-69a720e3b8c1",
   "metadata": {},
   "source": [
    "## Create a smoothified playlist\n",
    "\n",
    "**NOTE: Running this cell will add a playlist to your Spotify account**"
   ]
  },
  {
   "cell_type": "code",
   "execution_count": null,
   "id": "bdef84c8-c20a-4131-aeac-a5989b9e0cd0",
   "metadata": {},
   "outputs": [],
   "source": [
    "# Create new playlist\n",
    "NEW_PLAYLIST_NAME = f\"{playlist_name} (but smoother)\"\n",
    "new_playlist = await spotify.playlist_create(current_user.id, NEW_PLAYLIST_NAME, public=is_playlist_public)\n",
    "await spotify.playlist_change_details(new_playlist.id, collaborative=is_playlist_collaborative)\n",
    "\n",
    "# Add tracks to new playlist\n",
    "smoothified_track_uris = [track_list[node_idx].uri for node_idx in best_path]\n",
    "await spotify.playlist_add(new_playlist.id, smoothified_track_uris)"
   ]
  },
  {
   "cell_type": "markdown",
   "id": "7ea022cd-f1f6-43b0-8327-27f99d6428bc",
   "metadata": {},
   "source": [
    "## Visualize paths"
   ]
  },
  {
   "cell_type": "code",
   "execution_count": 10,
   "id": "317b89c6-01ff-4c70-acad-1a5b9999864d",
   "metadata": {},
   "outputs": [],
   "source": [
    "from sklearn.manifold import TSNE"
   ]
  },
  {
   "cell_type": "code",
   "execution_count": 11,
   "id": "e9fa15c2-eeb8-4b34-9079-34fd97c9f35a",
   "metadata": {},
   "outputs": [
    {
     "name": "stderr",
     "output_type": "stream",
     "text": [
      "/home/krishna/.pyenv/versions/3.10.0/envs/smoothify/lib/python3.10/site-packages/sklearn/manifold/_t_sne.py:982: FutureWarning: The PCA initialization in TSNE will change to have the standard deviation of PC1 equal to 1e-4 in 1.2. This will ensure better convergence.\n",
      "  warnings.warn(\n"
     ]
    }
   ],
   "source": [
    "reducer = TSNE(learning_rate=\"auto\", init=\"pca\")\n",
    "points_2d = reducer.fit_transform(points)"
   ]
  },
  {
   "cell_type": "code",
   "execution_count": 12,
   "id": "9e8a78fb-5679-471e-9d6f-669219fd514f",
   "metadata": {},
   "outputs": [
    {
     "data": {
      "text/html": [
       "\n",
       "    <div class=\"bk-root\">\n",
       "        <a href=\"https://bokeh.org\" target=\"_blank\" class=\"bk-logo bk-logo-small bk-logo-notebook\"></a>\n",
       "        <span id=\"1084\">Loading BokehJS ...</span>\n",
       "    </div>"
      ]
     },
     "metadata": {},
     "output_type": "display_data"
    },
    {
     "data": {
      "application/javascript": [
       "\n",
       "(function(root) {\n",
       "  function now() {\n",
       "    return new Date();\n",
       "  }\n",
       "\n",
       "  const force = true;\n",
       "\n",
       "  if (typeof root._bokeh_onload_callbacks === \"undefined\" || force === true) {\n",
       "    root._bokeh_onload_callbacks = [];\n",
       "    root._bokeh_is_loading = undefined;\n",
       "  }\n",
       "\n",
       "  const JS_MIME_TYPE = 'application/javascript';\n",
       "  const HTML_MIME_TYPE = 'text/html';\n",
       "  const EXEC_MIME_TYPE = 'application/vnd.bokehjs_exec.v0+json';\n",
       "  const CLASS_NAME = 'output_bokeh rendered_html';\n",
       "\n",
       "  /**\n",
       "   * Render data to the DOM node\n",
       "   */\n",
       "  function render(props, node) {\n",
       "    const script = document.createElement(\"script\");\n",
       "    node.appendChild(script);\n",
       "  }\n",
       "\n",
       "  /**\n",
       "   * Handle when an output is cleared or removed\n",
       "   */\n",
       "  function handleClearOutput(event, handle) {\n",
       "    const cell = handle.cell;\n",
       "\n",
       "    const id = cell.output_area._bokeh_element_id;\n",
       "    const server_id = cell.output_area._bokeh_server_id;\n",
       "    // Clean up Bokeh references\n",
       "    if (id != null && id in Bokeh.index) {\n",
       "      Bokeh.index[id].model.document.clear();\n",
       "      delete Bokeh.index[id];\n",
       "    }\n",
       "\n",
       "    if (server_id !== undefined) {\n",
       "      // Clean up Bokeh references\n",
       "      const cmd_clean = \"from bokeh.io.state import curstate; print(curstate().uuid_to_server['\" + server_id + \"'].get_sessions()[0].document.roots[0]._id)\";\n",
       "      cell.notebook.kernel.execute(cmd_clean, {\n",
       "        iopub: {\n",
       "          output: function(msg) {\n",
       "            const id = msg.content.text.trim();\n",
       "            if (id in Bokeh.index) {\n",
       "              Bokeh.index[id].model.document.clear();\n",
       "              delete Bokeh.index[id];\n",
       "            }\n",
       "          }\n",
       "        }\n",
       "      });\n",
       "      // Destroy server and session\n",
       "      const cmd_destroy = \"import bokeh.io.notebook as ion; ion.destroy_server('\" + server_id + \"')\";\n",
       "      cell.notebook.kernel.execute(cmd_destroy);\n",
       "    }\n",
       "  }\n",
       "\n",
       "  /**\n",
       "   * Handle when a new output is added\n",
       "   */\n",
       "  function handleAddOutput(event, handle) {\n",
       "    const output_area = handle.output_area;\n",
       "    const output = handle.output;\n",
       "\n",
       "    // limit handleAddOutput to display_data with EXEC_MIME_TYPE content only\n",
       "    if ((output.output_type != \"display_data\") || (!Object.prototype.hasOwnProperty.call(output.data, EXEC_MIME_TYPE))) {\n",
       "      return\n",
       "    }\n",
       "\n",
       "    const toinsert = output_area.element.find(\".\" + CLASS_NAME.split(' ')[0]);\n",
       "\n",
       "    if (output.metadata[EXEC_MIME_TYPE][\"id\"] !== undefined) {\n",
       "      toinsert[toinsert.length - 1].firstChild.textContent = output.data[JS_MIME_TYPE];\n",
       "      // store reference to embed id on output_area\n",
       "      output_area._bokeh_element_id = output.metadata[EXEC_MIME_TYPE][\"id\"];\n",
       "    }\n",
       "    if (output.metadata[EXEC_MIME_TYPE][\"server_id\"] !== undefined) {\n",
       "      const bk_div = document.createElement(\"div\");\n",
       "      bk_div.innerHTML = output.data[HTML_MIME_TYPE];\n",
       "      const script_attrs = bk_div.children[0].attributes;\n",
       "      for (let i = 0; i < script_attrs.length; i++) {\n",
       "        toinsert[toinsert.length - 1].firstChild.setAttribute(script_attrs[i].name, script_attrs[i].value);\n",
       "        toinsert[toinsert.length - 1].firstChild.textContent = bk_div.children[0].textContent\n",
       "      }\n",
       "      // store reference to server id on output_area\n",
       "      output_area._bokeh_server_id = output.metadata[EXEC_MIME_TYPE][\"server_id\"];\n",
       "    }\n",
       "  }\n",
       "\n",
       "  function register_renderer(events, OutputArea) {\n",
       "\n",
       "    function append_mime(data, metadata, element) {\n",
       "      // create a DOM node to render to\n",
       "      const toinsert = this.create_output_subarea(\n",
       "        metadata,\n",
       "        CLASS_NAME,\n",
       "        EXEC_MIME_TYPE\n",
       "      );\n",
       "      this.keyboard_manager.register_events(toinsert);\n",
       "      // Render to node\n",
       "      const props = {data: data, metadata: metadata[EXEC_MIME_TYPE]};\n",
       "      render(props, toinsert[toinsert.length - 1]);\n",
       "      element.append(toinsert);\n",
       "      return toinsert\n",
       "    }\n",
       "\n",
       "    /* Handle when an output is cleared or removed */\n",
       "    events.on('clear_output.CodeCell', handleClearOutput);\n",
       "    events.on('delete.Cell', handleClearOutput);\n",
       "\n",
       "    /* Handle when a new output is added */\n",
       "    events.on('output_added.OutputArea', handleAddOutput);\n",
       "\n",
       "    /**\n",
       "     * Register the mime type and append_mime function with output_area\n",
       "     */\n",
       "    OutputArea.prototype.register_mime_type(EXEC_MIME_TYPE, append_mime, {\n",
       "      /* Is output safe? */\n",
       "      safe: true,\n",
       "      /* Index of renderer in `output_area.display_order` */\n",
       "      index: 0\n",
       "    });\n",
       "  }\n",
       "\n",
       "  // register the mime type if in Jupyter Notebook environment and previously unregistered\n",
       "  if (root.Jupyter !== undefined) {\n",
       "    const events = require('base/js/events');\n",
       "    const OutputArea = require('notebook/js/outputarea').OutputArea;\n",
       "\n",
       "    if (OutputArea.prototype.mime_types().indexOf(EXEC_MIME_TYPE) == -1) {\n",
       "      register_renderer(events, OutputArea);\n",
       "    }\n",
       "  }\n",
       "\n",
       "  \n",
       "  if (typeof (root._bokeh_timeout) === \"undefined\" || force === true) {\n",
       "    root._bokeh_timeout = Date.now() + 5000;\n",
       "    root._bokeh_failed_load = false;\n",
       "  }\n",
       "\n",
       "  const NB_LOAD_WARNING = {'data': {'text/html':\n",
       "     \"<div style='background-color: #fdd'>\\n\"+\n",
       "     \"<p>\\n\"+\n",
       "     \"BokehJS does not appear to have successfully loaded. If loading BokehJS from CDN, this \\n\"+\n",
       "     \"may be due to a slow or bad network connection. Possible fixes:\\n\"+\n",
       "     \"</p>\\n\"+\n",
       "     \"<ul>\\n\"+\n",
       "     \"<li>re-rerun `output_notebook()` to attempt to load from CDN again, or</li>\\n\"+\n",
       "     \"<li>use INLINE resources instead, as so:</li>\\n\"+\n",
       "     \"</ul>\\n\"+\n",
       "     \"<code>\\n\"+\n",
       "     \"from bokeh.resources import INLINE\\n\"+\n",
       "     \"output_notebook(resources=INLINE)\\n\"+\n",
       "     \"</code>\\n\"+\n",
       "     \"</div>\"}};\n",
       "\n",
       "  function display_loaded() {\n",
       "    const el = document.getElementById(\"1084\");\n",
       "    if (el != null) {\n",
       "      el.textContent = \"BokehJS is loading...\";\n",
       "    }\n",
       "    if (root.Bokeh !== undefined) {\n",
       "      if (el != null) {\n",
       "        el.textContent = \"BokehJS \" + root.Bokeh.version + \" successfully loaded.\";\n",
       "      }\n",
       "    } else if (Date.now() < root._bokeh_timeout) {\n",
       "      setTimeout(display_loaded, 100)\n",
       "    }\n",
       "  }\n",
       "\n",
       "\n",
       "  function run_callbacks() {\n",
       "    try {\n",
       "      root._bokeh_onload_callbacks.forEach(function(callback) {\n",
       "        if (callback != null)\n",
       "          callback();\n",
       "      });\n",
       "    } finally {\n",
       "      delete root._bokeh_onload_callbacks\n",
       "    }\n",
       "    console.debug(\"Bokeh: all callbacks have finished\");\n",
       "  }\n",
       "\n",
       "  function load_libs(css_urls, js_urls, callback) {\n",
       "    if (css_urls == null) css_urls = [];\n",
       "    if (js_urls == null) js_urls = [];\n",
       "\n",
       "    root._bokeh_onload_callbacks.push(callback);\n",
       "    if (root._bokeh_is_loading > 0) {\n",
       "      console.debug(\"Bokeh: BokehJS is being loaded, scheduling callback at\", now());\n",
       "      return null;\n",
       "    }\n",
       "    if (js_urls == null || js_urls.length === 0) {\n",
       "      run_callbacks();\n",
       "      return null;\n",
       "    }\n",
       "    console.debug(\"Bokeh: BokehJS not loaded, scheduling load and callback at\", now());\n",
       "    root._bokeh_is_loading = css_urls.length + js_urls.length;\n",
       "\n",
       "    function on_load() {\n",
       "      root._bokeh_is_loading--;\n",
       "      if (root._bokeh_is_loading === 0) {\n",
       "        console.debug(\"Bokeh: all BokehJS libraries/stylesheets loaded\");\n",
       "        run_callbacks()\n",
       "      }\n",
       "    }\n",
       "\n",
       "    function on_error(url) {\n",
       "      console.error(\"failed to load \" + url);\n",
       "    }\n",
       "\n",
       "    for (let i = 0; i < css_urls.length; i++) {\n",
       "      const url = css_urls[i];\n",
       "      const element = document.createElement(\"link\");\n",
       "      element.onload = on_load;\n",
       "      element.onerror = on_error.bind(null, url);\n",
       "      element.rel = \"stylesheet\";\n",
       "      element.type = \"text/css\";\n",
       "      element.href = url;\n",
       "      console.debug(\"Bokeh: injecting link tag for BokehJS stylesheet: \", url);\n",
       "      document.body.appendChild(element);\n",
       "    }\n",
       "\n",
       "    for (let i = 0; i < js_urls.length; i++) {\n",
       "      const url = js_urls[i];\n",
       "      const element = document.createElement('script');\n",
       "      element.onload = on_load;\n",
       "      element.onerror = on_error.bind(null, url);\n",
       "      element.async = false;\n",
       "      element.src = url;\n",
       "      console.debug(\"Bokeh: injecting script tag for BokehJS library: \", url);\n",
       "      document.head.appendChild(element);\n",
       "    }\n",
       "  };\n",
       "\n",
       "  function inject_raw_css(css) {\n",
       "    const element = document.createElement(\"style\");\n",
       "    element.appendChild(document.createTextNode(css));\n",
       "    document.body.appendChild(element);\n",
       "  }\n",
       "\n",
       "  \n",
       "  const js_urls = [\"https://cdn.bokeh.org/bokeh/release/bokeh-2.4.2.min.js\", \"https://cdn.bokeh.org/bokeh/release/bokeh-gl-2.4.2.min.js\", \"https://cdn.bokeh.org/bokeh/release/bokeh-widgets-2.4.2.min.js\", \"https://cdn.bokeh.org/bokeh/release/bokeh-tables-2.4.2.min.js\", \"https://cdn.bokeh.org/bokeh/release/bokeh-mathjax-2.4.2.min.js\"];\n",
       "  const css_urls = [];\n",
       "  \n",
       "\n",
       "  const inline_js = [\n",
       "    function(Bokeh) {\n",
       "      Bokeh.set_log_level(\"info\");\n",
       "    },\n",
       "    function(Bokeh) {\n",
       "    \n",
       "    \n",
       "    }\n",
       "  ];\n",
       "\n",
       "  function run_inline_js() {\n",
       "    \n",
       "    if (root.Bokeh !== undefined || force === true) {\n",
       "      \n",
       "    for (let i = 0; i < inline_js.length; i++) {\n",
       "      inline_js[i].call(root, root.Bokeh);\n",
       "    }\n",
       "    if (force === true) {\n",
       "        display_loaded();\n",
       "      }} else if (Date.now() < root._bokeh_timeout) {\n",
       "      setTimeout(run_inline_js, 100);\n",
       "    } else if (!root._bokeh_failed_load) {\n",
       "      console.log(\"Bokeh: BokehJS failed to load within specified timeout.\");\n",
       "      root._bokeh_failed_load = true;\n",
       "    } else if (force !== true) {\n",
       "      const cell = $(document.getElementById(\"1084\")).parents('.cell').data().cell;\n",
       "      cell.output_area.append_execute_result(NB_LOAD_WARNING)\n",
       "    }\n",
       "\n",
       "  }\n",
       "\n",
       "  if (root._bokeh_is_loading === 0) {\n",
       "    console.debug(\"Bokeh: BokehJS loaded, going straight to plotting\");\n",
       "    run_inline_js();\n",
       "  } else {\n",
       "    load_libs(css_urls, js_urls, function() {\n",
       "      console.debug(\"Bokeh: BokehJS plotting callback run at\", now());\n",
       "      run_inline_js();\n",
       "    });\n",
       "  }\n",
       "}(window));"
      ],
      "application/vnd.bokehjs_load.v0+json": "\n(function(root) {\n  function now() {\n    return new Date();\n  }\n\n  const force = true;\n\n  if (typeof root._bokeh_onload_callbacks === \"undefined\" || force === true) {\n    root._bokeh_onload_callbacks = [];\n    root._bokeh_is_loading = undefined;\n  }\n\n  \n\n  \n  if (typeof (root._bokeh_timeout) === \"undefined\" || force === true) {\n    root._bokeh_timeout = Date.now() + 5000;\n    root._bokeh_failed_load = false;\n  }\n\n  const NB_LOAD_WARNING = {'data': {'text/html':\n     \"<div style='background-color: #fdd'>\\n\"+\n     \"<p>\\n\"+\n     \"BokehJS does not appear to have successfully loaded. If loading BokehJS from CDN, this \\n\"+\n     \"may be due to a slow or bad network connection. Possible fixes:\\n\"+\n     \"</p>\\n\"+\n     \"<ul>\\n\"+\n     \"<li>re-rerun `output_notebook()` to attempt to load from CDN again, or</li>\\n\"+\n     \"<li>use INLINE resources instead, as so:</li>\\n\"+\n     \"</ul>\\n\"+\n     \"<code>\\n\"+\n     \"from bokeh.resources import INLINE\\n\"+\n     \"output_notebook(resources=INLINE)\\n\"+\n     \"</code>\\n\"+\n     \"</div>\"}};\n\n  function display_loaded() {\n    const el = document.getElementById(\"1084\");\n    if (el != null) {\n      el.textContent = \"BokehJS is loading...\";\n    }\n    if (root.Bokeh !== undefined) {\n      if (el != null) {\n        el.textContent = \"BokehJS \" + root.Bokeh.version + \" successfully loaded.\";\n      }\n    } else if (Date.now() < root._bokeh_timeout) {\n      setTimeout(display_loaded, 100)\n    }\n  }\n\n\n  function run_callbacks() {\n    try {\n      root._bokeh_onload_callbacks.forEach(function(callback) {\n        if (callback != null)\n          callback();\n      });\n    } finally {\n      delete root._bokeh_onload_callbacks\n    }\n    console.debug(\"Bokeh: all callbacks have finished\");\n  }\n\n  function load_libs(css_urls, js_urls, callback) {\n    if (css_urls == null) css_urls = [];\n    if (js_urls == null) js_urls = [];\n\n    root._bokeh_onload_callbacks.push(callback);\n    if (root._bokeh_is_loading > 0) {\n      console.debug(\"Bokeh: BokehJS is being loaded, scheduling callback at\", now());\n      return null;\n    }\n    if (js_urls == null || js_urls.length === 0) {\n      run_callbacks();\n      return null;\n    }\n    console.debug(\"Bokeh: BokehJS not loaded, scheduling load and callback at\", now());\n    root._bokeh_is_loading = css_urls.length + js_urls.length;\n\n    function on_load() {\n      root._bokeh_is_loading--;\n      if (root._bokeh_is_loading === 0) {\n        console.debug(\"Bokeh: all BokehJS libraries/stylesheets loaded\");\n        run_callbacks()\n      }\n    }\n\n    function on_error(url) {\n      console.error(\"failed to load \" + url);\n    }\n\n    for (let i = 0; i < css_urls.length; i++) {\n      const url = css_urls[i];\n      const element = document.createElement(\"link\");\n      element.onload = on_load;\n      element.onerror = on_error.bind(null, url);\n      element.rel = \"stylesheet\";\n      element.type = \"text/css\";\n      element.href = url;\n      console.debug(\"Bokeh: injecting link tag for BokehJS stylesheet: \", url);\n      document.body.appendChild(element);\n    }\n\n    for (let i = 0; i < js_urls.length; i++) {\n      const url = js_urls[i];\n      const element = document.createElement('script');\n      element.onload = on_load;\n      element.onerror = on_error.bind(null, url);\n      element.async = false;\n      element.src = url;\n      console.debug(\"Bokeh: injecting script tag for BokehJS library: \", url);\n      document.head.appendChild(element);\n    }\n  };\n\n  function inject_raw_css(css) {\n    const element = document.createElement(\"style\");\n    element.appendChild(document.createTextNode(css));\n    document.body.appendChild(element);\n  }\n\n  \n  const js_urls = [\"https://cdn.bokeh.org/bokeh/release/bokeh-2.4.2.min.js\", \"https://cdn.bokeh.org/bokeh/release/bokeh-gl-2.4.2.min.js\", \"https://cdn.bokeh.org/bokeh/release/bokeh-widgets-2.4.2.min.js\", \"https://cdn.bokeh.org/bokeh/release/bokeh-tables-2.4.2.min.js\", \"https://cdn.bokeh.org/bokeh/release/bokeh-mathjax-2.4.2.min.js\"];\n  const css_urls = [];\n  \n\n  const inline_js = [\n    function(Bokeh) {\n      Bokeh.set_log_level(\"info\");\n    },\n    function(Bokeh) {\n    \n    \n    }\n  ];\n\n  function run_inline_js() {\n    \n    if (root.Bokeh !== undefined || force === true) {\n      \n    for (let i = 0; i < inline_js.length; i++) {\n      inline_js[i].call(root, root.Bokeh);\n    }\n    if (force === true) {\n        display_loaded();\n      }} else if (Date.now() < root._bokeh_timeout) {\n      setTimeout(run_inline_js, 100);\n    } else if (!root._bokeh_failed_load) {\n      console.log(\"Bokeh: BokehJS failed to load within specified timeout.\");\n      root._bokeh_failed_load = true;\n    } else if (force !== true) {\n      const cell = $(document.getElementById(\"1084\")).parents('.cell').data().cell;\n      cell.output_area.append_execute_result(NB_LOAD_WARNING)\n    }\n\n  }\n\n  if (root._bokeh_is_loading === 0) {\n    console.debug(\"Bokeh: BokehJS loaded, going straight to plotting\");\n    run_inline_js();\n  } else {\n    load_libs(css_urls, js_urls, function() {\n      console.debug(\"Bokeh: BokehJS plotting callback run at\", now());\n      run_inline_js();\n    });\n  }\n}(window));"
     },
     "metadata": {},
     "output_type": "display_data"
    },
    {
     "data": {
      "text/html": [
       "\n",
       "\n",
       "\n",
       "\n",
       "\n",
       "\n",
       "  <div class=\"bk-root\" id=\"1b4b629a-7ecd-4d39-aae7-1db29c18b549\" data-root-id=\"1002\"></div>\n"
      ]
     },
     "metadata": {},
     "output_type": "display_data"
    },
    {
     "data": {
      "application/javascript": [
       "(function(root) {\n",
       "  function embed_document(root) {\n",
       "    \n",
       "  const docs_json = {\"21cb88d2-7687-4efd-8675-14e968d8558c\":{\"defs\":[],\"roots\":{\"references\":[{\"attributes\":{\"below\":[{\"id\":\"1011\"}],\"center\":[{\"id\":\"1014\"},{\"id\":\"1018\"}],\"left\":[{\"id\":\"1015\"}],\"renderers\":[{\"id\":\"1035\"},{\"id\":\"1041\"}],\"title\":{\"id\":\"1022\"},\"toolbar\":{\"id\":\"1020\"},\"x_range\":{\"id\":\"1003\"},\"x_scale\":{\"id\":\"1007\"},\"y_range\":{\"id\":\"1005\"},\"y_scale\":{\"id\":\"1009\"}},\"id\":\"1002\",\"subtype\":\"Figure\",\"type\":\"Plot\"},{\"attributes\":{},\"id\":\"1016\",\"type\":\"BasicTicker\"},{\"attributes\":{},\"id\":\"1096\",\"type\":\"Selection\"},{\"attributes\":{\"axis\":{\"id\":\"1015\"},\"coordinates\":null,\"dimension\":1,\"group\":null,\"ticker\":null},\"id\":\"1018\",\"type\":\"Grid\"},{\"attributes\":{\"data\":{\"x\":{\"__ndarray__\":\"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\",\"dtype\":\"float32\",\"order\":\"little\",\"shape\":[531]},\"y\":{\"__ndarray__\":\"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\",\"dtype\":\"float32\",\"order\":\"little\",\"shape\":[531]}},\"selected\":{\"id\":\"1096\"},\"selection_policy\":{\"id\":\"1095\"}},\"id\":\"1037\",\"type\":\"ColumnDataSource\"},{\"attributes\":{},\"id\":\"1003\",\"type\":\"DataRange1d\"},{\"attributes\":{\"coordinates\":null,\"data_source\":{\"id\":\"1037\"},\"glyph\":{\"id\":\"1038\"},\"group\":null,\"hover_glyph\":null,\"muted_glyph\":{\"id\":\"1040\"},\"nonselection_glyph\":{\"id\":\"1039\"},\"view\":{\"id\":\"1042\"}},\"id\":\"1041\",\"type\":\"GlyphRenderer\"},{\"attributes\":{\"source\":{\"id\":\"1037\"}},\"id\":\"1042\",\"type\":\"CDSView\"},{\"attributes\":{\"axis\":{\"id\":\"1011\"},\"coordinates\":null,\"group\":null,\"ticker\":null},\"id\":\"1014\",\"type\":\"Grid\"},{\"attributes\":{},\"id\":\"1012\",\"type\":\"BasicTicker\"},{\"attributes\":{},\"id\":\"1025\",\"type\":\"BasicTickFormatter\"},{\"attributes\":{},\"id\":\"1005\",\"type\":\"DataRange1d\"},{\"attributes\":{},\"id\":\"1009\",\"type\":\"LinearScale\"},{\"attributes\":{\"coordinates\":null,\"formatter\":{\"id\":\"1028\"},\"group\":null,\"major_label_policy\":{\"id\":\"1029\"},\"ticker\":{\"id\":\"1012\"}},\"id\":\"1011\",\"type\":\"LinearAxis\"},{\"attributes\":{\"line_alpha\":0.2,\"line_color\":\"#1f77b4\",\"x\":{\"field\":\"x\"},\"y\":{\"field\":\"y\"}},\"id\":\"1040\",\"type\":\"Line\"},{\"attributes\":{\"data\":{\"x\":{\"__ndarray__\":\"2wnfQB58m8BUigDB+wluwVRLskBny4hAb7+IQRMKCMGSF3nBypmawYl0zb9ryXxBXIXLwGfKCkG5euBABycfQaZxdEH5MOVATU1Lwe5elz/7tJtANeagwdubPsHf4BLBw90SwSkHC8EUe6vACa2sQfRRq0ELSpQ/CaykwetH5r9a1FRAfsAXwQcOFsHAs9vAUfr7QFHBYMHZ0d5AMcvswA03iMFXA45AqPEpQCGKuMFORurAILStQUrDrUFDfq88oWkrQAjV20B6LeBAMqaZwaRKYECDpwVApc66QaPgg720g0+/1D5KwPthoEEqTJfANf0cQPD4QMANB7RBv0JOP+nTC0FbchrBUx0VwUOJIz6kH8VBe11avx81jUDtx7FA3J0DQfT6TcAd76VB0no3wTfCTL6S1I/BOXCAv1mwvEERxAJBCsE9QbK0hkC7CTLBexkzwam2l0GfGTFBKvyCPUntTEGSNXdA9wBFQU5fI0GPtQjA9rfQQD4oZMAAPQFBE1ALwVI2tkAgjKnBx2vXQMHllkHvKPi/ssqqwShWt0CAGQvAH4ozvzR1k7/ZuqPAM5chQR/o1D9o3AbBlWbQQJ5djj2IBibBz8UgwI307MBaOdjA4R+kQaumpEBsdzpBENfMQJcJqMC/TFnB6jzKQUYmk0HY1KVAVnoVQL661kBPQFnBLM7GQN+pkr/WGdNA1G45P3vnBEF8GXTBKhDmwIADs8GWDFXB3GRLQE/RT8EF545AST4vQDC7hcFl7cM/tnyQQR0KTL/9EQdAX/+dQJpNMMDr0aQ/Q+Oywc3qAEEPtWtBAv0XwdFn30Bo2ybBArZUQa5g5kD2UGXBjtvNQLswxsALT99AeXpQwQsBo0A/JKTB9QM0wdlHlj+k1gHB9H5pwRBZTUASgJRA29D7QGEWpz/FU0i/MDnFwKjNA8HCxJJB30yzwSFZOcHT1XbBFL5XQCWEv0CIDdVAXyiHv7t/p0GeL1NAW/yVwVO9pUFnFERA8gxnQVYfhMCSerBAO7WcQbf8OcHX8uNA69O1P9YqlUDeyidAPc5awUs/sEEZ8s5AcJqWwd2Kh0GtPYtBcWIIwVQnNMGYWkFB20LLQLk7RUGxFgZBOHWLwSHj9UAOu4pBEJFCQWSeqcFOGJrBorqIQNpZPUDzLkPBakoYwLweVUG/+nBAy8vgPp26DsE47KlAVMHEwDvaJMFLabrAbbCHQfTpDcFJYzXB0bukvrtiuMBEVrdBG/NiQEtwosDBu/++lu87wJcpsEC1uRZBMyNaQeYym0F17U3AcnN7QXBDw0CULSRBm4vVPydcJECWPQHAqWAIwdKn5kD01dBAQmAHwar69UCu7yFBhNkWQUVM3kDYdpLBxWejwfTxJcCn/5hB6ZEhQcf3K0B2cgrA6q8XQP6jp0ANfFVBbR2owAQ0isFqgqc/OVbsvJ4gvUDmX5tAVe+EQNfPBcHfwAHALSrcP+/8mkGhzfDAO4KAwPmmb0Dk1D3Bz8AFwfFtwz+B+c9BZJbqwDVOhUECEPLAWmS7wfYM9cBzaY5BoBpwQRE5b8FmGie+cNWJwZ0sYr/MQr1BhJuUwUsvlsHrgMFBT6Cav82D1EFR3Z3BrtiQQUnGCcBe8CrAALmrQO42xL/LDnS/WYGzwA+YPMH5X1fB9skEQSBYaL+EaAC/6/nMwI5wiz43mYfAbfkOQWUuX8ENVqDBbvYBweE4KMGfgVHB8Kf8Py+uMEFSyZnBcSKnwTReicCkyIvAD+4PwQANRUH1e8DAGWBMQUY9AkFt+TlAElkUQJ3srMB0cSvA5m2aP7ZyMsEmK7q+lYg/voMvd8Ho0qw/XuaDv5nLGMBpLDrBmyD7wD0aGj+7DKk/IWdjwYEd1sCANotBbPivQc0gusESy1TBsphPwdPjYsE07txA2iKbQfLci8G4L5dAskAdQKLAHUHKy7DAqTzGwDMhikG3CHjB7ML8PkIB5T9KhUbB8ci0QF4bUECvppdBfGKcQC4GQcD4AYdBffkZwd+C90AOnv0/EoWXwQ1yb0FOUF69KKgBwC2/6cCMOMq+OZXNQUdNBsF1yTrBqscRQSR4b0FqZAXBkF6YwWTYE8EhprbA/kd/QG1BBUBclhVBlgdfwNlQ978X+TvABSUPv9AvGkE3PPHA3jmwQKIqZkFDYBrBk5qZQa6yCUFGpmpBnfDlwGB8R0H9AZPA6JIJwNXgPsGc+DRAXbGPP/PNt76nx3rBzHlfwPxjhkGDmudA820gPiG6oEGiVEfBlaL1QL0oqEBWjoo/e1OPwUE8qsH8aIXBUBp0QUDbeEFyH5NAcvUsPhkRAr/DU6/A9SAHwZVz2cCn8f1AgIsQwUBVnj/ru+bAhgG4wHyZKUAV/jtAXwOtwE1McMEGNKrBNCClwVRQmsG8/5bAhPuqwAvlxcAyTclBGLslwO9iiEH9MdTAOMASwYdej0Edb8XASL0fwYVNccFK/cDAmySgwVNpAj9t+DQ/emecwYubmb23Y4PAi/F5QO0prUACWeE/SMtbQR0QNsFj7Om/DFNBwQJGGcHEMzrAd/qbQQCcxEDU6UxB/2fsQB8qiUC+lQJBbipnwS/OxUCMzIDB5r3xQJuec8G/T01Bi0tvwDPNhME00SZBxbOWwXUSq8Da2z1Bq2u5QB+MSUBJfAPASddjQQGLaEHow4g/V5AawGCJk0HBXEhBf5T6QFK08UB1ex9AuDb0QHmWlUGXog1Bob6iQTLS3kDVMz1Bgu8fQaL3jz8BcUBA8temwf98ScFC+InBzny2QG97zsBqYYzBrLyMQVwaFEHNTKxBlYYSQfXyHkH19KLB\",\"dtype\":\"float32\",\"order\":\"little\",\"shape\":[531]},\"y\":{\"__ndarray__\":\"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\",\"dtype\":\"float32\",\"order\":\"little\",\"shape\":[531]}},\"selected\":{\"id\":\"1094\"},\"selection_policy\":{\"id\":\"1093\"}},\"id\":\"1030\",\"type\":\"ColumnDataSource\"},{\"attributes\":{},\"id\":\"1093\",\"type\":\"UnionRenderers\"},{\"attributes\":{\"line_alpha\":0.1,\"line_color\":\"#1f77b4\",\"x\":{\"field\":\"x\"},\"y\":{\"field\":\"y\"}},\"id\":\"1039\",\"type\":\"Line\"},{\"attributes\":{},\"id\":\"1007\",\"type\":\"LinearScale\"},{\"attributes\":{\"line_alpha\":0.33,\"line_color\":\"#1f77b4\",\"x\":{\"field\":\"x\"},\"y\":{\"field\":\"y\"}},\"id\":\"1038\",\"type\":\"Line\"},{\"attributes\":{\"coordinates\":null,\"formatter\":{\"id\":\"1025\"},\"group\":null,\"major_label_policy\":{\"id\":\"1026\"},\"ticker\":{\"id\":\"1016\"}},\"id\":\"1015\",\"type\":\"LinearAxis\"},{\"attributes\":{},\"id\":\"1026\",\"type\":\"AllLabels\"},{\"attributes\":{},\"id\":\"1094\",\"type\":\"Selection\"},{\"attributes\":{\"fill_alpha\":{\"value\":0.2},\"fill_color\":{\"value\":\"#1f77b4\"},\"hatch_alpha\":{\"value\":0.2},\"line_alpha\":{\"value\":0.2},\"line_color\":{\"value\":null},\"radius\":{\"value\":0.5},\"x\":{\"field\":\"x\"},\"y\":{\"field\":\"y\"}},\"id\":\"1034\",\"type\":\"Circle\"},{\"attributes\":{\"coordinates\":null,\"group\":null},\"id\":\"1022\",\"type\":\"Title\"},{\"attributes\":{\"fill_alpha\":{\"value\":0.5},\"fill_color\":{\"value\":\"#1f77b4\"},\"line_color\":{\"value\":null},\"radius\":{\"value\":0.5},\"x\":{\"field\":\"x\"},\"y\":{\"field\":\"y\"}},\"id\":\"1032\",\"type\":\"Circle\"},{\"attributes\":{},\"id\":\"1028\",\"type\":\"BasicTickFormatter\"},{\"attributes\":{\"source\":{\"id\":\"1030\"}},\"id\":\"1036\",\"type\":\"CDSView\"},{\"attributes\":{\"callback\":null,\"tooltips\":[[\"x\",\"@x\"],[\"y\",\"@y\"]]},\"id\":\"1019\",\"type\":\"HoverTool\"},{\"attributes\":{},\"id\":\"1029\",\"type\":\"AllLabels\"},{\"attributes\":{\"tools\":[{\"id\":\"1019\"}]},\"id\":\"1020\",\"type\":\"Toolbar\"},{\"attributes\":{\"coordinates\":null,\"data_source\":{\"id\":\"1030\"},\"glyph\":{\"id\":\"1032\"},\"group\":null,\"hover_glyph\":null,\"muted_glyph\":{\"id\":\"1034\"},\"nonselection_glyph\":{\"id\":\"1033\"},\"view\":{\"id\":\"1036\"}},\"id\":\"1035\",\"type\":\"GlyphRenderer\"},{\"attributes\":{},\"id\":\"1095\",\"type\":\"UnionRenderers\"},{\"attributes\":{\"fill_alpha\":{\"value\":0.1},\"fill_color\":{\"value\":\"#1f77b4\"},\"hatch_alpha\":{\"value\":0.1},\"line_alpha\":{\"value\":0.1},\"line_color\":{\"value\":null},\"radius\":{\"value\":0.5},\"x\":{\"field\":\"x\"},\"y\":{\"field\":\"y\"}},\"id\":\"1033\",\"type\":\"Circle\"}],\"root_ids\":[\"1002\"]},\"title\":\"Bokeh Application\",\"version\":\"2.4.2\"}};\n",
       "  const render_items = [{\"docid\":\"21cb88d2-7687-4efd-8675-14e968d8558c\",\"root_ids\":[\"1002\"],\"roots\":{\"1002\":\"1b4b629a-7ecd-4d39-aae7-1db29c18b549\"}}];\n",
       "  root.Bokeh.embed.embed_items_notebook(docs_json, render_items);\n",
       "\n",
       "  }\n",
       "  if (root.Bokeh !== undefined) {\n",
       "    embed_document(root);\n",
       "  } else {\n",
       "    let attempts = 0;\n",
       "    const timer = setInterval(function(root) {\n",
       "      if (root.Bokeh !== undefined) {\n",
       "        clearInterval(timer);\n",
       "        embed_document(root);\n",
       "      } else {\n",
       "        attempts++;\n",
       "        if (attempts > 100) {\n",
       "          clearInterval(timer);\n",
       "          console.log(\"Bokeh: ERROR: Unable to run BokehJS code because BokehJS library is missing\");\n",
       "        }\n",
       "      }\n",
       "    }, 10, root)\n",
       "  }\n",
       "})(window);"
      ],
      "application/vnd.bokehjs_exec.v0+json": ""
     },
     "metadata": {
      "application/vnd.bokehjs_exec.v0+json": {
       "id": "1002"
      }
     },
     "output_type": "display_data"
    },
    {
     "data": {
      "text/html": [
       "\n",
       "\n",
       "\n",
       "\n",
       "\n",
       "\n",
       "  <div class=\"bk-root\" id=\"2ea18db3-0ca9-468b-880e-088a2e15f9c4\" data-root-id=\"1043\"></div>\n"
      ]
     },
     "metadata": {},
     "output_type": "display_data"
    },
    {
     "data": {
      "application/javascript": [
       "(function(root) {\n",
       "  function embed_document(root) {\n",
       "    \n",
       "  const docs_json = {\"64529907-a647-42ca-b335-a2bc6d86873f\":{\"defs\":[],\"roots\":{\"references\":[{\"attributes\":{\"below\":[{\"id\":\"1052\"}],\"center\":[{\"id\":\"1055\"},{\"id\":\"1059\"}],\"left\":[{\"id\":\"1056\"}],\"renderers\":[{\"id\":\"1076\"},{\"id\":\"1082\"}],\"title\":{\"id\":\"1063\"},\"toolbar\":{\"id\":\"1061\"},\"x_range\":{\"id\":\"1044\"},\"x_scale\":{\"id\":\"1048\"},\"y_range\":{\"id\":\"1046\"},\"y_scale\":{\"id\":\"1050\"}},\"id\":\"1043\",\"subtype\":\"Figure\",\"type\":\"Plot\"},{\"attributes\":{},\"id\":\"1069\",\"type\":\"BasicTickFormatter\"},{\"attributes\":{\"line_alpha\":0.33,\"line_color\":\"#1f77b4\",\"x\":{\"field\":\"x\"},\"y\":{\"field\":\"y\"}},\"id\":\"1079\",\"type\":\"Line\"},{\"attributes\":{},\"id\":\"1070\",\"type\":\"AllLabels\"},{\"attributes\":{},\"id\":\"1048\",\"type\":\"LinearScale\"},{\"attributes\":{},\"id\":\"1046\",\"type\":\"DataRange1d\"},{\"attributes\":{\"coordinates\":null,\"formatter\":{\"id\":\"1066\"},\"group\":null,\"major_label_policy\":{\"id\":\"1067\"},\"ticker\":{\"id\":\"1057\"}},\"id\":\"1056\",\"type\":\"LinearAxis\"},{\"attributes\":{},\"id\":\"1044\",\"type\":\"DataRange1d\"},{\"attributes\":{\"fill_alpha\":{\"value\":0.1},\"fill_color\":{\"value\":\"#1f77b4\"},\"hatch_alpha\":{\"value\":0.1},\"line_alpha\":{\"value\":0.1},\"line_color\":{\"value\":null},\"radius\":{\"value\":0.5},\"x\":{\"field\":\"x\"},\"y\":{\"field\":\"y\"}},\"id\":\"1074\",\"type\":\"Circle\"},{\"attributes\":{\"coordinates\":null,\"formatter\":{\"id\":\"1069\"},\"group\":null,\"major_label_policy\":{\"id\":\"1070\"},\"ticker\":{\"id\":\"1053\"}},\"id\":\"1052\",\"type\":\"LinearAxis\"},{\"attributes\":{},\"id\":\"1050\",\"type\":\"LinearScale\"},{\"attributes\":{},\"id\":\"1179\",\"type\":\"UnionRenderers\"},{\"attributes\":{},\"id\":\"1053\",\"type\":\"BasicTicker\"},{\"attributes\":{\"axis\":{\"id\":\"1052\"},\"coordinates\":null,\"group\":null,\"ticker\":null},\"id\":\"1055\",\"type\":\"Grid\"},{\"attributes\":{\"coordinates\":null,\"data_source\":{\"id\":\"1078\"},\"glyph\":{\"id\":\"1079\"},\"group\":null,\"hover_glyph\":null,\"muted_glyph\":{\"id\":\"1081\"},\"nonselection_glyph\":{\"id\":\"1080\"},\"view\":{\"id\":\"1083\"}},\"id\":\"1082\",\"type\":\"GlyphRenderer\"},{\"attributes\":{\"source\":{\"id\":\"1071\"}},\"id\":\"1077\",\"type\":\"CDSView\"},{\"attributes\":{\"data\":{\"x\":{\"__ndarray__\":\"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\",\"dtype\":\"float32\",\"order\":\"little\",\"shape\":[530]},\"y\":{\"__ndarray__\":\"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\",\"dtype\":\"float32\",\"order\":\"little\",\"shape\":[530]}},\"selected\":{\"id\":\"1180\"},\"selection_policy\":{\"id\":\"1179\"}},\"id\":\"1078\",\"type\":\"ColumnDataSource\"},{\"attributes\":{\"axis\":{\"id\":\"1056\"},\"coordinates\":null,\"dimension\":1,\"group\":null,\"ticker\":null},\"id\":\"1059\",\"type\":\"Grid\"},{\"attributes\":{},\"id\":\"1057\",\"type\":\"BasicTicker\"},{\"attributes\":{\"fill_alpha\":{\"value\":0.5},\"fill_color\":{\"value\":\"#1f77b4\"},\"line_color\":{\"value\":null},\"radius\":{\"value\":0.5},\"x\":{\"field\":\"x\"},\"y\":{\"field\":\"y\"}},\"id\":\"1073\",\"type\":\"Circle\"},{\"attributes\":{\"fill_alpha\":{\"value\":0.2},\"fill_color\":{\"value\":\"#1f77b4\"},\"hatch_alpha\":{\"value\":0.2},\"line_alpha\":{\"value\":0.2},\"line_color\":{\"value\":null},\"radius\":{\"value\":0.5},\"x\":{\"field\":\"x\"},\"y\":{\"field\":\"y\"}},\"id\":\"1075\",\"type\":\"Circle\"},{\"attributes\":{\"tools\":[{\"id\":\"1060\"}]},\"id\":\"1061\",\"type\":\"Toolbar\"},{\"attributes\":{\"callback\":null,\"tooltips\":[[\"x\",\"@x\"],[\"y\",\"@y\"]]},\"id\":\"1060\",\"type\":\"HoverTool\"},{\"attributes\":{\"line_alpha\":0.2,\"line_color\":\"#1f77b4\",\"x\":{\"field\":\"x\"},\"y\":{\"field\":\"y\"}},\"id\":\"1081\",\"type\":\"Line\"},{\"attributes\":{\"line_alpha\":0.1,\"line_color\":\"#1f77b4\",\"x\":{\"field\":\"x\"},\"y\":{\"field\":\"y\"}},\"id\":\"1080\",\"type\":\"Line\"},{\"attributes\":{\"coordinates\":null,\"data_source\":{\"id\":\"1071\"},\"glyph\":{\"id\":\"1073\"},\"group\":null,\"hover_glyph\":null,\"muted_glyph\":{\"id\":\"1075\"},\"nonselection_glyph\":{\"id\":\"1074\"},\"view\":{\"id\":\"1077\"}},\"id\":\"1076\",\"type\":\"GlyphRenderer\"},{\"attributes\":{},\"id\":\"1177\",\"type\":\"UnionRenderers\"},{\"attributes\":{\"data\":{\"x\":{\"__ndarray__\":\"2wnfQB58m8BUigDB+wluwVRLskBny4hAb7+IQRMKCMGSF3nBypmawYl0zb9ryXxBXIXLwGfKCkG5euBABycfQaZxdEH5MOVATU1Lwe5elz/7tJtANeagwdubPsHf4BLBw90SwSkHC8EUe6vACa2sQfRRq0ELSpQ/CaykwetH5r9a1FRAfsAXwQcOFsHAs9vAUfr7QFHBYMHZ0d5AMcvswA03iMFXA45AqPEpQCGKuMFORurAILStQUrDrUFDfq88oWkrQAjV20B6LeBAMqaZwaRKYECDpwVApc66QaPgg720g0+/1D5KwPthoEEqTJfANf0cQPD4QMANB7RBv0JOP+nTC0FbchrBUx0VwUOJIz6kH8VBe11avx81jUDtx7FA3J0DQfT6TcAd76VB0no3wTfCTL6S1I/BOXCAv1mwvEERxAJBCsE9QbK0hkC7CTLBexkzwam2l0GfGTFBKvyCPUntTEGSNXdA9wBFQU5fI0GPtQjA9rfQQD4oZMAAPQFBE1ALwVI2tkAgjKnBx2vXQMHllkHvKPi/ssqqwShWt0CAGQvAH4ozvzR1k7/ZuqPAM5chQR/o1D9o3AbBlWbQQJ5djj2IBibBz8UgwI307MBaOdjA4R+kQaumpEBsdzpBENfMQJcJqMC/TFnB6jzKQUYmk0HY1KVAVnoVQL661kBPQFnBLM7GQN+pkr/WGdNA1G45P3vnBEF8GXTBKhDmwIADs8GWDFXB3GRLQE/RT8EF545AST4vQDC7hcFl7cM/tnyQQR0KTL/9EQdAX/+dQJpNMMDr0aQ/Q+Oywc3qAEEPtWtBAv0XwdFn30Bo2ybBArZUQa5g5kD2UGXBjtvNQLswxsALT99AeXpQwQsBo0A/JKTB9QM0wdlHlj+k1gHB9H5pwRBZTUASgJRA29D7QGEWpz/FU0i/MDnFwKjNA8HCxJJB30yzwSFZOcHT1XbBFL5XQCWEv0CIDdVAXyiHv7t/p0GeL1NAW/yVwVO9pUFnFERA8gxnQVYfhMCSerBAO7WcQbf8OcHX8uNA69O1P9YqlUDeyidAPc5awUs/sEEZ8s5AcJqWwd2Kh0GtPYtBcWIIwVQnNMGYWkFB20LLQLk7RUGxFgZBOHWLwSHj9UAOu4pBEJFCQWSeqcFOGJrBorqIQNpZPUDzLkPBakoYwLweVUG/+nBAy8vgPp26DsE47KlAVMHEwDvaJMFLabrAbbCHQfTpDcFJYzXB0bukvrtiuMBEVrdBG/NiQEtwosDBu/++lu87wJcpsEC1uRZBMyNaQeYym0F17U3AcnN7QXBDw0CULSRBm4vVPydcJECWPQHAqWAIwdKn5kD01dBAQmAHwar69UCu7yFBhNkWQUVM3kDYdpLBxWejwfTxJcCn/5hB6ZEhQcf3K0B2cgrA6q8XQP6jp0ANfFVBbR2owAQ0isFqgqc/OVbsvJ4gvUDmX5tAVe+EQNfPBcHfwAHALSrcP+/8mkGhzfDAO4KAwPmmb0Dk1D3Bz8AFwfFtwz+B+c9BZJbqwDVOhUECEPLAWmS7wfYM9cBzaY5BoBpwQRE5b8FmGie+cNWJwZ0sYr/MQr1BhJuUwUsvlsHrgMFBT6Cav82D1EFR3Z3BrtiQQUnGCcBe8CrAALmrQO42xL/LDnS/WYGzwA+YPMH5X1fB9skEQSBYaL+EaAC/6/nMwI5wiz43mYfAbfkOQWUuX8ENVqDBbvYBweE4KMGfgVHB8Kf8Py+uMEFSyZnBcSKnwTReicCkyIvAD+4PwQANRUH1e8DAGWBMQUY9AkFt+TlAElkUQJ3srMB0cSvA5m2aP7ZyMsEmK7q+lYg/voMvd8Ho0qw/XuaDv5nLGMBpLDrBmyD7wD0aGj+7DKk/IWdjwYEd1sCANotBbPivQc0gusESy1TBsphPwdPjYsE07txA2iKbQfLci8G4L5dAskAdQKLAHUHKy7DAqTzGwDMhikG3CHjB7ML8PkIB5T9KhUbB8ci0QF4bUECvppdBfGKcQC4GQcD4AYdBffkZwd+C90AOnv0/EoWXwQ1yb0FOUF69KKgBwC2/6cCMOMq+OZXNQUdNBsF1yTrBqscRQSR4b0FqZAXBkF6YwWTYE8EhprbA/kd/QG1BBUBclhVBlgdfwNlQ978X+TvABSUPv9AvGkE3PPHA3jmwQKIqZkFDYBrBk5qZQa6yCUFGpmpBnfDlwGB8R0H9AZPA6JIJwNXgPsGc+DRAXbGPP/PNt76nx3rBzHlfwPxjhkGDmudA820gPiG6oEGiVEfBlaL1QL0oqEBWjoo/e1OPwUE8qsH8aIXBUBp0QUDbeEFyH5NAcvUsPhkRAr/DU6/A9SAHwZVz2cCn8f1AgIsQwUBVnj/ru+bAhgG4wHyZKUAV/jtAXwOtwE1McMEGNKrBNCClwVRQmsG8/5bAhPuqwAvlxcAyTclBGLslwO9iiEH9MdTAOMASwYdej0Edb8XASL0fwYVNccFK/cDAmySgwVNpAj9t+DQ/emecwYubmb23Y4PAi/F5QO0prUACWeE/SMtbQR0QNsFj7Om/DFNBwQJGGcHEMzrAd/qbQQCcxEDU6UxB/2fsQB8qiUC+lQJBbipnwS/OxUCMzIDB5r3xQJuec8G/T01Bi0tvwDPNhME00SZBxbOWwXUSq8Da2z1Bq2u5QB+MSUBJfAPASddjQQGLaEHow4g/V5AawGCJk0HBXEhBf5T6QFK08UB1ex9AuDb0QHmWlUGXog1Bob6iQTLS3kDVMz1Bgu8fQaL3jz8BcUBA8temwf98ScFC+InBzny2QG97zsBqYYzBrLyMQVwaFEHNTKxBlYYSQfXyHkH19KLB\",\"dtype\":\"float32\",\"order\":\"little\",\"shape\":[531]},\"y\":{\"__ndarray__\":\"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\",\"dtype\":\"float32\",\"order\":\"little\",\"shape\":[531]}},\"selected\":{\"id\":\"1178\"},\"selection_policy\":{\"id\":\"1177\"}},\"id\":\"1071\",\"type\":\"ColumnDataSource\"},{\"attributes\":{},\"id\":\"1178\",\"type\":\"Selection\"},{\"attributes\":{},\"id\":\"1066\",\"type\":\"BasicTickFormatter\"},{\"attributes\":{\"source\":{\"id\":\"1078\"}},\"id\":\"1083\",\"type\":\"CDSView\"},{\"attributes\":{},\"id\":\"1180\",\"type\":\"Selection\"},{\"attributes\":{},\"id\":\"1067\",\"type\":\"AllLabels\"},{\"attributes\":{\"coordinates\":null,\"group\":null},\"id\":\"1063\",\"type\":\"Title\"}],\"root_ids\":[\"1043\"]},\"title\":\"Bokeh Application\",\"version\":\"2.4.2\"}};\n",
       "  const render_items = [{\"docid\":\"64529907-a647-42ca-b335-a2bc6d86873f\",\"root_ids\":[\"1043\"],\"roots\":{\"1043\":\"2ea18db3-0ca9-468b-880e-088a2e15f9c4\"}}];\n",
       "  root.Bokeh.embed.embed_items_notebook(docs_json, render_items);\n",
       "\n",
       "  }\n",
       "  if (root.Bokeh !== undefined) {\n",
       "    embed_document(root);\n",
       "  } else {\n",
       "    let attempts = 0;\n",
       "    const timer = setInterval(function(root) {\n",
       "      if (root.Bokeh !== undefined) {\n",
       "        clearInterval(timer);\n",
       "        embed_document(root);\n",
       "      } else {\n",
       "        attempts++;\n",
       "        if (attempts > 100) {\n",
       "          clearInterval(timer);\n",
       "          console.log(\"Bokeh: ERROR: Unable to run BokehJS code because BokehJS library is missing\");\n",
       "        }\n",
       "      }\n",
       "    }, 10, root)\n",
       "  }\n",
       "})(window);"
      ],
      "application/vnd.bokehjs_exec.v0+json": ""
     },
     "metadata": {
      "application/vnd.bokehjs_exec.v0+json": {
       "id": "1043"
      }
     },
     "output_type": "display_data"
    }
   ],
   "source": [
    "from bokeh.plotting import figure, output_notebook, show\n",
    "from bokeh.models import ColumnDataSource, HoverTool\n",
    "\n",
    "\n",
    "def make_plot(*, x, y, path):\n",
    "    p = figure(tools=\"hover\")\n",
    "    # Data source\n",
    "    data = dict(x=x, y=y)\n",
    "    # Hover tooltips\n",
    "    hover = p.select({\"type\": HoverTool})\n",
    "    hover.tooltips = {k: f\"@{k}\" for k in data}\n",
    "    # Draw points\n",
    "    p.scatter(source=ColumnDataSource(data=data), x=\"x\", y=\"y\", radius=0.5, fill_alpha=0.5, line_color=None)\n",
    "    # Draw path\n",
    "    p.line(x[path], y[path], alpha=0.33)\n",
    "    return p\n",
    "\n",
    "\n",
    "initial_order = make_plot(x=points_2d[:, 0], y=points_2d[:, 1], path=list(range(len(points_2d))))\n",
    "best_order = make_plot(x=points_2d[:, 0], y=points_2d[:, 1], path=best_path)\n",
    "\n",
    "output_notebook()\n",
    "show(initial_order)\n",
    "show(best_order)"
   ]
  }
 ],
 "metadata": {
  "kernelspec": {
   "display_name": "Python 3 (ipykernel)",
   "language": "python",
   "name": "python3"
  },
  "language_info": {
   "codemirror_mode": {
    "name": "ipython",
    "version": 3
   },
   "file_extension": ".py",
   "mimetype": "text/x-python",
   "name": "python",
   "nbconvert_exporter": "python",
   "pygments_lexer": "ipython3",
   "version": "3.10.0"
  }
 },
 "nbformat": 4,
 "nbformat_minor": 5
}
