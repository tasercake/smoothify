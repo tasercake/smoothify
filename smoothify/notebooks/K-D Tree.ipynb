{
 "cells": [
  {
   "cell_type": "markdown",
   "id": "0f01b0c4-f0fb-49d9-a7cf-3b0def2a82e4",
   "metadata": {},
   "source": [
    "# KD Tree for Bottleneck TSP"
   ]
  },
  {
   "cell_type": "code",
   "execution_count": 1,
   "id": "45df0987-df7a-408f-995d-00874719d8b7",
   "metadata": {},
   "outputs": [],
   "source": [
    "%load_ext autoreload\n",
    "%autoreload 2"
   ]
  },
  {
   "cell_type": "markdown",
   "id": "a00baedc-904e-4372-a6fd-22907810d35f",
   "metadata": {
    "jp-MarkdownHeadingCollapsed": true,
    "tags": []
   },
   "source": [
    "## Load Spotify Data"
   ]
  },
  {
   "cell_type": "code",
   "execution_count": 2,
   "id": "2b93b698-1986-49fb-b27e-db85728d9308",
   "metadata": {},
   "outputs": [],
   "source": [
    "import tekore as tk\n",
    "from smoothify.features import construct_features\n",
    "import numpy as np"
   ]
  },
  {
   "cell_type": "code",
   "execution_count": 3,
   "id": "34b200ac-bb6d-4fa0-9b68-a1171d3bcdff",
   "metadata": {},
   "outputs": [],
   "source": [
    "ACCESS_TOKEN = \"BQC4W4CMqSSLKW3Y1CjYmeNEWPhnfDYxLWEHi62AnzM85xH1tyP-TebHDpmt5KkmK84PjJuqJmSCIzvBw-XX0rvDhTmynyVDvoU4qYZmAiL6bXVpF2oKbXRZpiS4NXvb4KMM-9wbF1GknCxuwfuTqeeqsJsCGp2U1-8x5_pO-9Y\"\n",
    "spotify = tk.Spotify(ACCESS_TOKEN, asynchronous=True, max_limits_on=True, chunked_on=True)"
   ]
  },
  {
   "cell_type": "markdown",
   "id": "b6292a3e-4b87-4232-9da2-7c7df8ecafab",
   "metadata": {},
   "source": [
    "### Fetch current user's tracks"
   ]
  },
  {
   "cell_type": "code",
   "execution_count": 4,
   "id": "ec16ca27-53c4-4e2b-8d72-0ebab524df40",
   "metadata": {},
   "outputs": [],
   "source": [
    "saved_tracks_page = await spotify.saved_tracks()\n",
    "track_list = [track.track async for track in spotify.all_items(saved_tracks_page)]"
   ]
  },
  {
   "cell_type": "markdown",
   "id": "351330e8-14e2-4fbc-a2f0-0d1623738ac3",
   "metadata": {},
   "source": [
    "### Query Spotify API for audio features"
   ]
  },
  {
   "cell_type": "code",
   "execution_count": 5,
   "id": "65ff0696-4a34-4a3f-846e-cbed79344246",
   "metadata": {},
   "outputs": [],
   "source": [
    "# Extract track IDs so we can fetch additional info\n",
    "track_id_list = [track.id for track in track_list]\n",
    "# Get track audio features\n",
    "track_features_list = await spotify.tracks_audio_features(track_id_list)"
   ]
  },
  {
   "cell_type": "markdown",
   "id": "20dd5522-18b2-4f6d-bf02-ac484c2ef400",
   "metadata": {},
   "source": [
    "### Construct & normalize audio features"
   ]
  },
  {
   "cell_type": "code",
   "execution_count": 6,
   "id": "b1a1d173-fcfc-4d81-80f3-c4a9f8ff547a",
   "metadata": {},
   "outputs": [
    {
     "data": {
      "text/html": [
       "<div>\n",
       "<style scoped>\n",
       "    .dataframe tbody tr th:only-of-type {\n",
       "        vertical-align: middle;\n",
       "    }\n",
       "\n",
       "    .dataframe tbody tr th {\n",
       "        vertical-align: top;\n",
       "    }\n",
       "\n",
       "    .dataframe thead th {\n",
       "        text-align: right;\n",
       "    }\n",
       "</style>\n",
       "<table border=\"1\" class=\"dataframe\">\n",
       "  <thead>\n",
       "    <tr style=\"text-align: right;\">\n",
       "      <th></th>\n",
       "      <th>danceability</th>\n",
       "      <th>energy</th>\n",
       "      <th>loudness</th>\n",
       "      <th>speechiness</th>\n",
       "      <th>acousticness</th>\n",
       "      <th>instrumentalness</th>\n",
       "      <th>liveness</th>\n",
       "      <th>valence</th>\n",
       "      <th>tempo</th>\n",
       "    </tr>\n",
       "  </thead>\n",
       "  <tbody>\n",
       "    <tr>\n",
       "      <th>0</th>\n",
       "      <td>1.199170</td>\n",
       "      <td>1.398627</td>\n",
       "      <td>1.085938</td>\n",
       "      <td>2.750730</td>\n",
       "      <td>-0.154713</td>\n",
       "      <td>-0.625698</td>\n",
       "      <td>0.995436</td>\n",
       "      <td>0.267796</td>\n",
       "      <td>-0.027524</td>\n",
       "    </tr>\n",
       "    <tr>\n",
       "      <th>1</th>\n",
       "      <td>0.944523</td>\n",
       "      <td>0.235835</td>\n",
       "      <td>0.165445</td>\n",
       "      <td>-0.359783</td>\n",
       "      <td>-0.707916</td>\n",
       "      <td>1.620329</td>\n",
       "      <td>-0.618357</td>\n",
       "      <td>1.524470</td>\n",
       "      <td>0.219609</td>\n",
       "    </tr>\n",
       "    <tr>\n",
       "      <th>2</th>\n",
       "      <td>-0.259890</td>\n",
       "      <td>0.828305</td>\n",
       "      <td>0.101406</td>\n",
       "      <td>-0.609708</td>\n",
       "      <td>0.011364</td>\n",
       "      <td>1.518275</td>\n",
       "      <td>-0.453500</td>\n",
       "      <td>-1.531044</td>\n",
       "      <td>0.137498</td>\n",
       "    </tr>\n",
       "  </tbody>\n",
       "</table>\n",
       "</div>"
      ],
      "text/plain": [
       "   danceability    energy  loudness  speechiness  acousticness  \\\n",
       "0      1.199170  1.398627  1.085938     2.750730     -0.154713   \n",
       "1      0.944523  0.235835  0.165445    -0.359783     -0.707916   \n",
       "2     -0.259890  0.828305  0.101406    -0.609708      0.011364   \n",
       "\n",
       "   instrumentalness  liveness   valence     tempo  \n",
       "0         -0.625698  0.995436  0.267796 -0.027524  \n",
       "1          1.620329 -0.618357  1.524470  0.219609  \n",
       "2          1.518275 -0.453500 -1.531044  0.137498  "
      ]
     },
     "execution_count": 6,
     "metadata": {},
     "output_type": "execute_result"
    }
   ],
   "source": [
    "features_df = construct_features(audio_features_list=track_features_list)\n",
    "features_df.head(3)"
   ]
  },
  {
   "cell_type": "code",
   "execution_count": 7,
   "id": "7adce1cd-4336-47ef-a926-65680b13c49a",
   "metadata": {},
   "outputs": [],
   "source": [
    "points = np.array(features_df)"
   ]
  },
  {
   "cell_type": "markdown",
   "id": "8d4d8705-e495-4617-a808-918995af788c",
   "metadata": {},
   "source": [
    "## Compute the best path through the points"
   ]
  },
  {
   "cell_type": "code",
   "execution_count": 8,
   "id": "ac2334eb-8042-44e5-b6e4-d1483599e26e",
   "metadata": {},
   "outputs": [],
   "source": [
    "import random\n",
    "from functools import partial\n",
    "from typing import List, Tuple\n",
    "\n",
    "import pandas as pd\n",
    "import scipy.spatial\n",
    "from scipy.spatial import cKDTree\n",
    "from joblib import Parallel, delayed\n",
    "\n",
    "import seaborn as sns\n",
    "import matplotlib.pyplot as plt\n",
    "from tqdm import tqdm\n",
    "sns.set_theme()"
   ]
  },
  {
   "cell_type": "code",
   "execution_count": 9,
   "id": "8e278cf0-78d2-47c8-8c9b-fbd557214f72",
   "metadata": {},
   "outputs": [],
   "source": [
    "from smoothify.optim.bottleneck_tsp import KDTreeBottleneckTSP"
   ]
  },
  {
   "cell_type": "code",
   "execution_count": 10,
   "id": "fece2fa7-42ed-4709-9191-d2b798f98506",
   "metadata": {},
   "outputs": [
    {
     "name": "stderr",
     "output_type": "stream",
     "text": [
      "  0%|                                                                                                                                                                                                                                 | 0/491 [00:00<?, ?it/s]"
     ]
    },
    {
     "name": "stdout",
     "output_type": "stream",
     "text": [
      "[ProgressParallel(n_jobs=-1)]: Using backend LokyBackend with 12 concurrent workers.\n"
     ]
    },
    {
     "name": "stderr",
     "output_type": "stream",
     "text": [
      "100%|███████████████████████████████████████████████████████████████████████████████████████████████████████████████████████████████████████████████████████████████████████████████████████████████████████████████████████| 491/491 [00:14<00:00, 33.79it/s]"
     ]
    },
    {
     "name": "stdout",
     "output_type": "stream",
     "text": [
      "[ProgressParallel(n_jobs=-1)]: Done 491 out of 491 | elapsed:   14.5s finished\n",
      "Max edge length: 4.966394024515111\n",
      "[165, 186, 338, 135, 399, 95, 421, 269, 273, 182, 377, 206, 155, 132, 105, 302, 268, 344, 265, 289, 197, 61, 439, 249, 54, 202, 64, 267, 306, 360, 179, 307, 385, 122, 118, 303, 423, 328, 139, 318, 92, 13, 232, 216, 386, 169, 111, 365, 394, 225, 145, 181, 160, 151, 91, 30, 323, 378, 133, 66, 196, 255, 219, 235, 288, 277, 380, 26, 75, 348, 354, 183, 308, 190, 283, 271, 94, 446, 408, 317, 316, 331, 21, 117, 171, 93, 472, 324, 192, 483, 371, 375, 125, 480, 25, 290, 364, 367, 126, 402, 276, 109, 333, 49, 141, 154, 432, 100, 42, 123, 87, 40, 339, 130, 405, 134, 76, 345, 36, 299, 229, 274, 346, 38, 356, 207, 407, 297, 456, 227, 412, 452, 33, 460, 47, 362, 156, 119, 231, 50, 173, 116, 48, 46, 294, 211, 266, 131, 210, 82, 99, 153, 241, 178, 43, 115, 279, 81, 292, 275, 309, 343, 427, 463, 310, 243, 406, 177, 431, 1, 482, 358, 214, 205, 166, 475, 466, 200, 451, 194, 222, 340, 376, 208, 264, 336, 103, 295, 469, 330, 426, 429, 65, 29, 224, 233, 458, 441, 167, 71, 85, 322, 467, 488, 285, 79, 168, 293, 215, 68, 363, 400, 59, 63, 78, 198, 444, 107, 57, 176, 374, 305, 16, 191, 27, 477, 23, 15, 90, 88, 464, 17, 296, 284, 304, 230, 143, 329, 459, 121, 457, 372, 51, 417, 136, 220, 237, 18, 144, 34, 250, 104, 162, 246, 393, 263, 188, 337, 420, 334, 384, 147, 320, 60, 440, 152, 77, 201, 485, 251, 226, 442, 370, 112, 454, 474, 387, 10, 32, 445, 447, 142, 449, 213, 369, 199, 31, 45, 471, 465, 86, 381, 84, 80, 204, 278, 373, 187, 326, 413, 195, 355, 438, 234, 70, 164, 74, 108, 236, 106, 433, 388, 98, 101, 240, 129, 396, 158, 138, 120, 404, 148, 291, 41, 351, 392, 366, 157, 12, 462, 461, 149, 434, 473, 368, 163, 172, 327, 342, 20, 8, 69, 301, 185, 281, 352, 398, 209, 401, 140, 335, 184, 114, 9, 53, 24, 332, 319, 2, 357, 478, 395, 253, 436, 52, 416, 223, 359, 298, 430, 150, 55, 476, 221, 486, 272, 484, 217, 146, 411, 410, 174, 137, 3, 248, 73, 435, 437, 349, 44, 189, 56, 245, 403, 418, 422, 361, 35, 97, 128, 450, 448, 0, 102, 37, 161, 62, 300, 424, 19, 325, 414, 247, 242, 379, 228, 453, 391, 170, 481, 254, 258, 455, 11, 311, 270, 419, 180, 203, 489, 113, 350, 212, 312, 321, 341, 353, 175, 124, 287, 479, 110, 257, 397, 239, 470, 7, 89, 382, 443, 468, 6, 5, 193, 39, 256, 14, 259, 83, 347, 415, 28, 244, 313, 487, 159, 314, 22, 260, 238, 127, 282, 67, 72, 383, 4, 58, 409, 490, 286, 280, 262, 428, 389, 252, 425, 218, 96, 315, 390]\n"
     ]
    },
    {
     "name": "stderr",
     "output_type": "stream",
     "text": [
      "\n"
     ]
    }
   ],
   "source": [
    "optimizer = KDTreeBottleneckTSP(points=points)\n",
    "results = optimizer.get_best_path()\n",
    "best_path = results.best_path\n",
    "max_dist = results.min_max_dist\n",
    "print(f\"Max edge length: {max_dist}\")\n",
    "print(best_path)"
   ]
  },
  {
   "cell_type": "code",
   "execution_count": 11,
   "id": "5a9c1fc1-c984-4469-9823-41e54d39af46",
   "metadata": {},
   "outputs": [
    {
     "data": {
      "text/plain": [
       "<AxesSubplot:>"
      ]
     },
     "execution_count": 11,
     "metadata": {},
     "output_type": "execute_result"
    },
    {
     "data": {
      "image/png": "[encoded data removed]",
      "text/plain": [
       "<Figure size 432x288 with 1 Axes>"
      ]
     },
     "metadata": {},
     "output_type": "display_data"
    }
   ],
   "source": [
    "sns.lineplot(data=(results.max_dists))"
   ]
  }
 ],
 "metadata": {
  "kernelspec": {
   "display_name": "Python 3 (ipykernel)",
   "language": "python",
   "name": "python3"
  },
  "language_info": {
   "codemirror_mode": {
    "name": "ipython",
    "version": 3
   },
   "file_extension": ".py",
   "mimetype": "text/x-python",
   "name": "python",
   "nbconvert_exporter": "python",
   "pygments_lexer": "ipython3",
   "version": "3.9.5"
  }
 },
 "nbformat": 4,
 "nbformat_minor": 5
}
