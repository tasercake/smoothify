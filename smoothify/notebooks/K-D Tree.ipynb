{
 "cells": [
  {
   "cell_type": "markdown",
   "id": "0f01b0c4-f0fb-49d9-a7cf-3b0def2a82e4",
   "metadata": {},
   "source": [
    "# KD Tree for Bottleneck TSP"
   ]
  },
  {
   "cell_type": "code",
   "execution_count": 1,
   "id": "45df0987-df7a-408f-995d-00874719d8b7",
   "metadata": {},
   "outputs": [],
   "source": [
    "%load_ext autoreload\n",
    "%autoreload 2"
   ]
  },
  {
   "cell_type": "markdown",
   "id": "a00baedc-904e-4372-a6fd-22907810d35f",
   "metadata": {
    "tags": []
   },
   "source": [
    "## Load Spotify Data"
   ]
  },
  {
   "cell_type": "code",
   "execution_count": 2,
   "id": "2b93b698-1986-49fb-b27e-db85728d9308",
   "metadata": {},
   "outputs": [],
   "source": [
    "import tekore as tk\n",
    "from smoothify.features import construct_features\n",
    "import numpy as np"
   ]
  },
  {
   "cell_type": "code",
   "execution_count": 3,
   "id": "34b200ac-bb6d-4fa0-9b68-a1171d3bcdff",
   "metadata": {},
   "outputs": [],
   "source": [
    "ACCESS_TOKEN = \"BQDgc0ursrbB6EPOmR-b6p8K7N5JrSk9I8DdqAQo9V4dmhPTkHkNbeU2TYAsLTzz-5i4WRbirohiIc2MFVANyLdndKbKMLF567oJEtejqXHaa9aeror8DCpTCopUJdotTgTk145DLGKIBUy-PuSPkOm5sXYB5zRzu1fAcJkvCVK61kPdBkOFm9dpiusiz6bU3G7e2Mjdmf6M61KTgJG8ImN-6xZG8RDDwa2KkxUhtZAkZcYR\"\n",
    "spotify = tk.Spotify(ACCESS_TOKEN, asynchronous=True, max_limits_on=True, chunked_on=True)\n",
    "current_user = await spotify.current_user()"
   ]
  },
  {
   "cell_type": "markdown",
   "id": "619d20b3-4d88-45d5-b60e-206ab62085a4",
   "metadata": {},
   "source": [
    "### Fetch tracks from current user's library"
   ]
  },
  {
   "cell_type": "code",
   "execution_count": 4,
   "id": "8c66c3fc-83a7-4140-91e1-a3242a80203e",
   "metadata": {},
   "outputs": [],
   "source": [
    "playlist_name = f\"{current_user.display_name}'s Library\"\n",
    "saved_tracks_page = await spotify.saved_tracks()\n",
    "track_list = [track.track async for track in spotify.all_items(saved_tracks_page)]"
   ]
  },
  {
   "cell_type": "markdown",
   "id": "f9949667-1d7a-4ec7-a60d-35eaea3f3989",
   "metadata": {},
   "source": [
    "### Fetch tracks from a playlist"
   ]
  },
  {
   "cell_type": "code",
   "execution_count": 5,
   "id": "b0369fc2-5344-45c0-9274-efb2603c2e58",
   "metadata": {},
   "outputs": [],
   "source": [
    "PLAYLIST_ID = \"5TNvDYA16DHMKkBQaINAid\"\n",
    "playlist = await spotify.playlist(PLAYLIST_ID)\n",
    "playlist_name = playlist.name\n",
    "track_list = [track.track async for track in spotify.all_items(playlist.tracks)]"
   ]
  },
  {
   "cell_type": "markdown",
   "id": "351330e8-14e2-4fbc-a2f0-0d1623738ac3",
   "metadata": {},
   "source": [
    "### Query Spotify API for audio features"
   ]
  },
  {
   "cell_type": "code",
   "execution_count": 6,
   "id": "65ff0696-4a34-4a3f-846e-cbed79344246",
   "metadata": {},
   "outputs": [],
   "source": [
    "# Extract track IDs so we can fetch additional info\n",
    "track_id_list = [track.id for track in track_list]\n",
    "# Get track audio features\n",
    "track_features_list = await spotify.tracks_audio_features(track_id_list)"
   ]
  },
  {
   "cell_type": "markdown",
   "id": "20dd5522-18b2-4f6d-bf02-ac484c2ef400",
   "metadata": {},
   "source": [
    "### Construct & normalize audio features"
   ]
  },
  {
   "cell_type": "code",
   "execution_count": 7,
   "id": "b1a1d173-fcfc-4d81-80f3-c4a9f8ff547a",
   "metadata": {},
   "outputs": [
    {
     "data": {
      "text/html": [
       "<div>\n",
       "<style scoped>\n",
       "    .dataframe tbody tr th:only-of-type {\n",
       "        vertical-align: middle;\n",
       "    }\n",
       "\n",
       "    .dataframe tbody tr th {\n",
       "        vertical-align: top;\n",
       "    }\n",
       "\n",
       "    .dataframe thead th {\n",
       "        text-align: right;\n",
       "    }\n",
       "</style>\n",
       "<table border=\"1\" class=\"dataframe\">\n",
       "  <thead>\n",
       "    <tr style=\"text-align: right;\">\n",
       "      <th></th>\n",
       "      <th>danceability</th>\n",
       "      <th>energy</th>\n",
       "      <th>loudness</th>\n",
       "      <th>speechiness</th>\n",
       "      <th>acousticness</th>\n",
       "      <th>instrumentalness</th>\n",
       "      <th>liveness</th>\n",
       "      <th>valence</th>\n",
       "      <th>tempo</th>\n",
       "    </tr>\n",
       "  </thead>\n",
       "  <tbody>\n",
       "    <tr>\n",
       "      <th>0</th>\n",
       "      <td>-0.519845</td>\n",
       "      <td>1.067537</td>\n",
       "      <td>1.478168</td>\n",
       "      <td>0.038817</td>\n",
       "      <td>-0.281472</td>\n",
       "      <td>-0.377442</td>\n",
       "      <td>0.611489</td>\n",
       "      <td>0.624322</td>\n",
       "      <td>-0.025086</td>\n",
       "    </tr>\n",
       "    <tr>\n",
       "      <th>1</th>\n",
       "      <td>-1.577793</td>\n",
       "      <td>0.331305</td>\n",
       "      <td>0.403142</td>\n",
       "      <td>-0.367696</td>\n",
       "      <td>-0.595380</td>\n",
       "      <td>-0.377410</td>\n",
       "      <td>0.617376</td>\n",
       "      <td>-0.975399</td>\n",
       "      <td>-0.328454</td>\n",
       "    </tr>\n",
       "    <tr>\n",
       "      <th>2</th>\n",
       "      <td>-1.024653</td>\n",
       "      <td>0.849394</td>\n",
       "      <td>0.585285</td>\n",
       "      <td>-0.459390</td>\n",
       "      <td>-0.890693</td>\n",
       "      <td>-0.377442</td>\n",
       "      <td>-0.189151</td>\n",
       "      <td>0.067897</td>\n",
       "      <td>2.061538</td>\n",
       "    </tr>\n",
       "    <tr>\n",
       "      <th>3</th>\n",
       "      <td>1.268464</td>\n",
       "      <td>-1.495643</td>\n",
       "      <td>-1.065699</td>\n",
       "      <td>-0.543444</td>\n",
       "      <td>0.947858</td>\n",
       "      <td>-0.377254</td>\n",
       "      <td>-0.960945</td>\n",
       "      <td>0.677315</td>\n",
       "      <td>-0.205916</td>\n",
       "    </tr>\n",
       "    <tr>\n",
       "      <th>4</th>\n",
       "      <td>0.044036</td>\n",
       "      <td>-0.604892</td>\n",
       "      <td>-0.067566</td>\n",
       "      <td>-0.220984</td>\n",
       "      <td>-0.811513</td>\n",
       "      <td>-0.377442</td>\n",
       "      <td>2.212769</td>\n",
       "      <td>-1.088009</td>\n",
       "      <td>-0.203277</td>\n",
       "    </tr>\n",
       "  </tbody>\n",
       "</table>\n",
       "</div>"
      ],
      "text/plain": [
       "   danceability    energy  loudness  speechiness  acousticness  \\\n",
       "0     -0.519845  1.067537  1.478168     0.038817     -0.281472   \n",
       "1     -1.577793  0.331305  0.403142    -0.367696     -0.595380   \n",
       "2     -1.024653  0.849394  0.585285    -0.459390     -0.890693   \n",
       "3      1.268464 -1.495643 -1.065699    -0.543444      0.947858   \n",
       "4      0.044036 -0.604892 -0.067566    -0.220984     -0.811513   \n",
       "\n",
       "   instrumentalness  liveness   valence     tempo  \n",
       "0         -0.377442  0.611489  0.624322 -0.025086  \n",
       "1         -0.377410  0.617376 -0.975399 -0.328454  \n",
       "2         -0.377442 -0.189151  0.067897  2.061538  \n",
       "3         -0.377254 -0.960945  0.677315 -0.205916  \n",
       "4         -0.377442  2.212769 -1.088009 -0.203277  "
      ]
     },
     "execution_count": 7,
     "metadata": {},
     "output_type": "execute_result"
    }
   ],
   "source": [
    "features_df = construct_features(audio_features_list=track_features_list)\n",
    "features_df.head()"
   ]
  },
  {
   "cell_type": "code",
   "execution_count": 8,
   "id": "7adce1cd-4336-47ef-a926-65680b13c49a",
   "metadata": {},
   "outputs": [],
   "source": [
    "points = np.array(features_df)"
   ]
  },
  {
   "cell_type": "markdown",
   "id": "8d4d8705-e495-4617-a808-918995af788c",
   "metadata": {},
   "source": [
    "## Compute the best path through the points"
   ]
  },
  {
   "cell_type": "code",
   "execution_count": 9,
   "id": "ac2334eb-8042-44e5-b6e4-d1483599e26e",
   "metadata": {
    "tags": []
   },
   "outputs": [],
   "source": [
    "import random\n",
    "from uuid import uuid4\n",
    "from functools import partial\n",
    "from typing import List, Tuple\n",
    "\n",
    "import pandas as pd\n",
    "import scipy.spatial\n",
    "from scipy.spatial import cKDTree\n",
    "from joblib import Parallel, delayed\n",
    "\n",
    "import seaborn as sns\n",
    "import matplotlib.pyplot as plt\n",
    "from tqdm import tqdm\n",
    "sns.set_theme()"
   ]
  },
  {
   "cell_type": "code",
   "execution_count": 10,
   "id": "8e278cf0-78d2-47c8-8c9b-fbd557214f72",
   "metadata": {},
   "outputs": [],
   "source": [
    "from smoothify.optim.bottleneck_tsp import KDTreeBottleneckTSP"
   ]
  },
  {
   "cell_type": "code",
   "execution_count": 11,
   "id": "fece2fa7-42ed-4709-9191-d2b798f98506",
   "metadata": {},
   "outputs": [
    {
     "name": "stderr",
     "output_type": "stream",
     "text": [
      "  0%|                                                                                                                                                                                | 0/10 [00:00<?, ?it/s]"
     ]
    },
    {
     "name": "stdout",
     "output_type": "stream",
     "text": [
      "[ProgressParallel(n_jobs=-1)]: Using backend LokyBackend with 8 concurrent workers.\n"
     ]
    },
    {
     "name": "stderr",
     "output_type": "stream",
     "text": [
      "100%|███████████████████████████████████████████████████████████████████████████████████████████████████████████████████████████████████████████████████████████████████████| 10/10 [00:01<00:00,  6.81it/s]"
     ]
    },
    {
     "name": "stdout",
     "output_type": "stream",
     "text": [
      "[ProgressParallel(n_jobs=-1)]: Done  10 out of  10 | elapsed:    1.5s finished\n",
      "Max edge length: 4.745401329187675\n"
     ]
    },
    {
     "name": "stderr",
     "output_type": "stream",
     "text": [
      "\n"
     ]
    }
   ],
   "source": [
    "optimizer = KDTreeBottleneckTSP(points=points)\n",
    "results = optimizer.get_best_path()\n",
    "best_path = results.best_path\n",
    "max_dist = results.min_max_dist\n",
    "print(f\"Max edge length: {max_dist}\")"
   ]
  },
  {
   "cell_type": "markdown",
   "id": "eee20867-3b7f-41b1-a927-69a720e3b8c1",
   "metadata": {},
   "source": [
    "### Create a smoothified playlist"
   ]
  },
  {
   "cell_type": "code",
   "execution_count": 12,
   "id": "bdef84c8-c20a-4131-aeac-a5989b9e0cd0",
   "metadata": {},
   "outputs": [
    {
     "data": {
      "text/plain": [
       "'Myw2YzcwOWMzNjJlYWZlNDA2N2JlZTc0ZDg4OGU5NzY0YWFkYTRlODUx'"
      ]
     },
     "execution_count": 12,
     "metadata": {},
     "output_type": "execute_result"
    }
   ],
   "source": [
    "# Create new playlist\n",
    "NEW_PLAYLIST_NAME = f\"{playlist.name} (but smoother)\"\n",
    "new_playlist = await spotify.playlist_create(playlist.owner.id, NEW_PLAYLIST_NAME, public=playlist.public)\n",
    "await spotify.playlist_change_details(new_playlist.id, collaborative=playlist.collaborative)\n",
    "\n",
    "# Add tracks to new playlist\n",
    "smoothified_track_uris = [track_list[node_idx].uri for node_idx in best_path]\n",
    "await spotify.playlist_add(new_playlist.id, smoothified_track_uris)"
   ]
  }
 ],
 "metadata": {
  "kernelspec": {
   "display_name": "Python 3 (ipykernel)",
   "language": "python",
   "name": "python3"
  },
  "language_info": {
   "codemirror_mode": {
    "name": "ipython",
    "version": 3
   },
   "file_extension": ".py",
   "mimetype": "text/x-python",
   "name": "python",
   "nbconvert_exporter": "python",
   "pygments_lexer": "ipython3",
   "version": "3.10.0"
  }
 },
 "nbformat": 4,
 "nbformat_minor": 5
}
