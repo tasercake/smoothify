{
 "cells": [
  {
   "cell_type": "markdown",
   "id": "98fafe8a-e81d-4299-9fd1-04e22107ecf6",
   "metadata": {},
   "source": [
    "# Spotify Audio Features"
   ]
  },
  {
   "cell_type": "code",
   "execution_count": null,
   "id": "ca9f9fb3-88de-4554-b978-b74d631e24e7",
   "metadata": {},
   "outputs": [],
   "source": [
    "%load_ext autoreload\n",
    "%autoreload 2"
   ]
  },
  {
   "cell_type": "markdown",
   "id": "8456c824-ffed-4d04-8db3-4d71fa1114f4",
   "metadata": {},
   "source": [
    "## Fetch user track features"
   ]
  },
  {
   "cell_type": "markdown",
   "id": "e5b55024-541f-40e8-a888-2b1acc899db0",
   "metadata": {},
   "source": [
    "### Spotify API Client & Authentication"
   ]
  },
  {
   "cell_type": "code",
   "execution_count": null,
   "id": "a1ff77fe",
   "metadata": {
    "tags": []
   },
   "outputs": [],
   "source": [
    "import spotipy"
   ]
  },
  {
   "cell_type": "code",
   "execution_count": null,
   "id": "3d207d5f-c932-4c4c-88ec-4b5d1dc9819a",
   "metadata": {},
   "outputs": [],
   "source": [
    "ACCESS_TOKEN = \"BQDwcxQZngYDU1IEgtnB_v_8jzYYjPJ4QXFUzChone47-qjGi6Yp7ke2_sVk2t3wNoUCub2b4VM0xbagq3U6TCDmdbjgYNtOC1XZWRU7_udemTLlY4QF2gabcBkWsHK3l2j0WA_rDZ_ao6VKuzXNPDNYEu2knZNC2P31sB-doeI\"\n",
    "spotify = spotipy.Spotify(auth=ACCESS_TOKEN, requests_timeout=15)"
   ]
  },
  {
   "cell_type": "markdown",
   "id": "6b7491a8-3c13-43e9-8b73-ab76610c498a",
   "metadata": {},
   "source": [
    "### Fetch current user's tracks"
   ]
  },
  {
   "cell_type": "code",
   "execution_count": null,
   "id": "0de8198d-9481-415e-9ad6-a087c6495e20",
   "metadata": {},
   "outputs": [],
   "source": [
    "track_list = []\n",
    "has_next = True\n",
    "while has_next:\n",
    "    result = spotify.current_user_saved_tracks(limit=50, offset=len(track_list))\n",
    "    track_list.extend([user_track[\"track\"] for user_track in result[\"items\"]])\n",
    "    has_next = bool(result[\"next\"])\n",
    "print(len(track_list))"
   ]
  },
  {
   "cell_type": "markdown",
   "id": "dd533076-0096-492a-ae9a-6418bd193407",
   "metadata": {},
   "source": [
    "### Query Spotify API for audio features"
   ]
  },
  {
   "cell_type": "code",
   "execution_count": null,
   "id": "70bde7c7",
   "metadata": {},
   "outputs": [],
   "source": [
    "from itertools import chain\n",
    "from more_itertools import chunked\n",
    "\n",
    "# Extract track IDs so we can fetch additional info\n",
    "track_id_list = [track[\"id\"] for track in track_list]\n",
    "# Get track audio features\n",
    "track_features_list = list(chain.from_iterable(spotify.audio_features(track_ids) for track_ids in chunked(track_id_list, 50)))\n",
    "# Get track audio analysis\n",
    "# track_analysis_list = [spotify.audio_analysis(track_id) for track_id in track_id_list]\n",
    "import asyncio\n",
    "loop = asyncio.get_running_loop()\n",
    "track_analysis_list = await asyncio.gather(*[loop.run_in_executor(None, spotify.audio_analysis, track_id) for track_id in track_id_list])"
   ]
  },
  {
   "cell_type": "markdown",
   "id": "bd17e59f-a904-4311-aa0c-2c57d9abdcda",
   "metadata": {},
   "source": [
    "### Construct & normalize audio features"
   ]
  },
  {
   "cell_type": "code",
   "execution_count": null,
   "id": "54cd2720-0280-4bbc-96cd-1b9e48bd305e",
   "metadata": {
    "tags": []
   },
   "outputs": [],
   "source": [
    "from smoothify.features import construct_features"
   ]
  },
  {
   "cell_type": "code",
   "execution_count": null,
   "id": "8dd7cc74-ef68-43d8-ad33-207aebe2757e",
   "metadata": {},
   "outputs": [],
   "source": [
    "features_df = construct_features(\n",
    "    audio_features_list=track_features_list,\n",
    "    audio_analysis_list=track_analysis_list\n",
    ")\n",
    "features_df"
   ]
  },
  {
   "cell_type": "markdown",
   "id": "c44f9a8c-e4a2-4870-ba09-c837d259f912",
   "metadata": {},
   "source": [
    "## Compute the 'best' order for the user's tracks"
   ]
  },
  {
   "cell_type": "code",
   "execution_count": null,
   "id": "0993e1b7-3a04-479c-b87c-b6477a8f28da",
   "metadata": {},
   "outputs": [],
   "source": [
    "import numpy as np\n",
    "import scipy.spatial"
   ]
  },
  {
   "cell_type": "code",
   "execution_count": null,
   "id": "2781aa2f-48b2-461c-bd50-cc44ee47d0ac",
   "metadata": {},
   "outputs": [],
   "source": [
    "import seaborn as sns\n",
    "import matplotlib.pyplot as plt\n",
    "sns.set_theme()"
   ]
  },
  {
   "cell_type": "markdown",
   "id": "303db930-af38-45c9-af22-5c1d5e8b3a41",
   "metadata": {},
   "source": [
    "### Visualize the distribution of pairwise distances"
   ]
  },
  {
   "cell_type": "code",
   "execution_count": null,
   "id": "59f5b9e5-f82d-4a49-8b5e-16ff7ecd187a",
   "metadata": {},
   "outputs": [],
   "source": [
    "NORM_P = 2\n",
    "points = features_df.to_numpy()\n",
    "print(points.shape)\n",
    "distance_matrix = scipy.spatial.distance.squareform(scipy.spatial.distance.pdist(points, \"minkowski\", p=NORM_P))\n",
    "sns.displot(distance_matrix.flatten())"
   ]
  },
  {
   "cell_type": "markdown",
   "id": "0415aa62-a5e8-4587-b78b-e5b03c591be7",
   "metadata": {},
   "source": [
    "### Define the Annealer"
   ]
  },
  {
   "cell_type": "code",
   "execution_count": null,
   "id": "61ff41d5-f02c-470b-9d40-13c7240c4fbe",
   "metadata": {},
   "outputs": [],
   "source": [
    "from simanneal import Annealer\n",
    "\n",
    "rng = np.random.default_rng()\n",
    "\n",
    "class BottleneckAnnealer(Annealer):\n",
    "    copy_strategy = \"method\"  # Use `self.state.copy()` to copy the state\n",
    "    \n",
    "    # Override default hyperparameters\n",
    "    Tmin = 1e-3\n",
    "    Tmax = 5e3\n",
    "    steps = 1000000\n",
    "    updates = 1000\n",
    "\n",
    "    def __init__(self, *args, path: np.ndarray, distance_matrix: np.ndarray, **kwargs):\n",
    "        super().__init__(path, *args, **kwargs)\n",
    "        self.distance_matrix = distance_matrix\n",
    "        self.num_points = len(self.state)\n",
    "\n",
    "    def move(self):\n",
    "        \"\"\"\n",
    "        Randomly swap points\n",
    "        \"\"\"\n",
    "        num_swaps = int(np.random.rand() * 4)\n",
    "        swaps = rng.choice(self.num_points, (num_swaps, 2), replace=False)\n",
    "        self.state[swaps] = self.state[swaps[..., ::-1]]\n",
    "\n",
    "    def energy(self):\n",
    "        \"\"\"\n",
    "        Compute the energy of the current path\n",
    "        \"\"\"\n",
    "        # Find the length of the edge from each node in the path to the next\n",
    "        source_nodes = self.state\n",
    "        target_nodes = np.roll(source_nodes, 1)\n",
    "        edge_distances = self.distance_matrix[source_nodes, target_nodes]\n",
    "        max_edge_length = edge_distances.max()\n",
    "#         mean_edge_length = edge_distances.mean()\n",
    "        energy = max_edge_length\n",
    "        return energy"
   ]
  },
  {
   "cell_type": "markdown",
   "id": "1e3bb7e7-2722-48d3-bc00-2c7d6ec5f589",
   "metadata": {},
   "source": [
    "### Optimize"
   ]
  },
  {
   "cell_type": "code",
   "execution_count": null,
   "id": "efb5a6d9-5dfd-4b13-8012-f496f30a3329",
   "metadata": {},
   "outputs": [],
   "source": [
    "annealer = BottleneckAnnealer(path=np.arange(len(points)), distance_matrix=distance_matrix)\n",
    "print(f\"Start energy: {annealer.energy()}\")\n",
    "\n",
    "best_path, best_energy = annealer.anneal()\n",
    "print(f\"Best energy: {best_energy}\")\n",
    "print(best_path)"
   ]
  },
  {
   "cell_type": "code",
   "execution_count": null,
   "id": "94f231d7-0616-4341-b63c-2364de073cc4",
   "metadata": {},
   "outputs": [],
   "source": [
    "features_df.iloc[best_path]"
   ]
  },
  {
   "cell_type": "code",
   "execution_count": null,
   "id": "6bbf9ec1-7223-4cd2-bc07-fdcbf33a94be",
   "metadata": {},
   "outputs": [],
   "source": [
    "optimally_ordered_tracks = [track_list[idx][\"uri\"] for idx in best_path]\n",
    "for url in optimally_ordered_tracks:\n",
    "    print(url)"
   ]
  }
 ],
 "metadata": {
  "kernelspec": {
   "display_name": "Python 3 (ipykernel)",
   "language": "python",
   "name": "python3"
  },
  "language_info": {
   "codemirror_mode": {
    "name": "ipython",
    "version": 3
   },
   "file_extension": ".py",
   "mimetype": "text/x-python",
   "name": "python",
   "nbconvert_exporter": "python",
   "pygments_lexer": "ipython3",
   "version": "3.9.1"
  }
 },
 "nbformat": 4,
 "nbformat_minor": 5
}
