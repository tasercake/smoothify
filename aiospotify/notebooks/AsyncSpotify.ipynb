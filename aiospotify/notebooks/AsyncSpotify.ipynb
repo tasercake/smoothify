{
 "cells": [
  {
   "cell_type": "code",
   "execution_count": 1,
   "id": "7e310194",
   "metadata": {},
   "outputs": [],
   "source": [
    "%load_ext autoreload\n",
    "%autoreload 2"
   ]
  },
  {
   "cell_type": "code",
   "execution_count": 2,
   "id": "ba567f8c",
   "metadata": {},
   "outputs": [],
   "source": [
    "import aiohttp\n",
    "from aiospotify import AsyncSpotify, SpotifyAccessToken"
   ]
  },
  {
   "cell_type": "code",
   "execution_count": 3,
   "id": "29bfd3ad",
   "metadata": {},
   "outputs": [],
   "source": [
    "TOKEN = \"BQC_lcXGNibUyQQK-qOGqTrdCRXMp-FtvRgrA7HcAFlhGAM5Co8MTHopc-VKa4zM41B8dXk1LgqFc2LYGEeGfM7_zF96XbDW4pnD9dvdC0X6Q0FB32z9AlRSAGL5vNQw9kkOcIke0sWaGQuYflgUCMi7U17XG-dYubHDoOYLccI\"\n",
    "\n",
    "async with aiohttp.ClientSession(raise_for_status=True) as session:\n",
    "    auth = SpotifyAccessToken(token=TOKEN)\n",
    "    spotify = AsyncSpotify(auth=auth, session=session)\n",
    "    # tracks = await spotify.current_user_saved_tracks.get()\n",
    "    tracks = await spotify.current_user_saved_tracks.get_all()\n",
    "    # tracks = [saved_track async for saved_track in spotify.current_user_saved_tracks.iterate()]"
   ]
  },
  {
   "cell_type": "code",
   "execution_count": 4,
   "id": "6ce052d1-4de6-40af-a702-11ecb606e85f",
   "metadata": {},
   "outputs": [
    {
     "data": {
      "text/plain": [
       "487"
      ]
     },
     "execution_count": 4,
     "metadata": {},
     "output_type": "execute_result"
    }
   ],
   "source": [
    "len(tracks)"
   ]
  }
 ],
 "metadata": {
  "kernelspec": {
   "display_name": "Python 3 (ipykernel)",
   "language": "python",
   "name": "python3"
  },
  "language_info": {
   "codemirror_mode": {
    "name": "ipython",
    "version": 3
   },
   "file_extension": ".py",
   "mimetype": "text/x-python",
   "name": "python",
   "nbconvert_exporter": "python",
   "pygments_lexer": "ipython3",
   "version": "3.9.1"
  }
 },
 "nbformat": 4,
 "nbformat_minor": 5
}
