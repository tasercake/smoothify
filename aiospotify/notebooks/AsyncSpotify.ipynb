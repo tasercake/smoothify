{
 "cells": [
  {
   "cell_type": "code",
   "execution_count": 1,
   "id": "7e310194",
   "metadata": {},
   "outputs": [],
   "source": [
    "%load_ext autoreload\n",
    "%autoreload 2"
   ]
  },
  {
   "cell_type": "code",
   "execution_count": 2,
   "id": "ba567f8c",
   "metadata": {},
   "outputs": [],
   "source": [
    "import aiohttp\n",
    "from aiospotify import AsyncSpotify, SpotifyAccessToken"
   ]
  },
  {
   "cell_type": "code",
   "execution_count": 3,
   "id": "29bfd3ad",
   "metadata": {},
   "outputs": [],
   "source": [
    "TOKEN = \"BQDOQzejqgzDowfU5CC1Jlno-Fo5UIUs2ZohC6qoPxUZY0Qr-2Wm_3au2yRFvtFhjdPx3ta5f67W7IDCN6qTaBWpnR7VU3tHA2W5ub2WBy2NUqLDT57ZMZxVtz2SXJXH7YqXGvgSL4I63gfo7RusU7FJgqOmEliBsYGaK9GvNLw\"\n",
    "\n",
    "async with aiohttp.ClientSession(raise_for_status=True) as session:\n",
    "    auth = SpotifyAccessToken(token=TOKEN)\n",
    "    spotify = AsyncSpotify(auth=auth, session=session)\n",
    "    tracks = await spotify.current_user_saved_tracks.get()\n",
    "    # tracks = await spotify.current_user_saved_tracks.get_all()\n",
    "    # tracks = [saved_track async for saved_track in spotify.current_user_saved_tracks.iterate()]"
   ]
  }
 ],
 "metadata": {
  "kernelspec": {
   "display_name": "Python 3 (ipykernel)",
   "language": "python",
   "name": "python3"
  },
  "language_info": {
   "codemirror_mode": {
    "name": "ipython",
    "version": 3
   },
   "file_extension": ".py",
   "mimetype": "text/x-python",
   "name": "python",
   "nbconvert_exporter": "python",
   "pygments_lexer": "ipython3",
   "version": "3.9.1"
  }
 },
 "nbformat": 4,
 "nbformat_minor": 5
}
