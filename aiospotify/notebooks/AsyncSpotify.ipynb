{
 "cells": [
  {
   "cell_type": "code",
   "execution_count": 1,
   "id": "7e310194",
   "metadata": {},
   "outputs": [],
   "source": [
    "%load_ext autoreload\n",
    "%autoreload 2"
   ]
  },
  {
   "cell_type": "code",
   "execution_count": 2,
   "id": "ba567f8c",
   "metadata": {},
   "outputs": [],
   "source": [
    "import aiohttp\n",
    "from aiospotify import AsyncSpotify, SpotifyAccessToken"
   ]
  },
  {
   "cell_type": "code",
   "execution_count": 4,
   "id": "29bfd3ad",
   "metadata": {},
   "outputs": [
    {
     "name": "stderr",
     "output_type": "stream",
     "text": [
      "/tmp/ipykernel_1569747/779830603.py:6: RuntimeWarning: coroutine 'CurrentUserSavedTracks.get_all_items' was never awaited\n",
      "  all_tracks = [track async for track in spotify.current_user_saved_tracks.get_all_items()]\n",
      "RuntimeWarning: Enable tracemalloc to get the object allocation traceback\n"
     ]
    },
    {
     "ename": "TypeError",
     "evalue": "'async for' requires an object with __aiter__ method, got coroutine",
     "output_type": "error",
     "traceback": [
      "\u001b[0;31m---------------------------------------------------------------------------\u001b[0m",
      "\u001b[0;31mTypeError\u001b[0m                                 Traceback (most recent call last)",
      "\u001b[0;32m/tmp/ipykernel_1569747/779830603.py\u001b[0m in \u001b[0;36m<module>\u001b[0;34m\u001b[0m\n\u001b[1;32m      4\u001b[0m     \u001b[0mauth\u001b[0m \u001b[0;34m=\u001b[0m \u001b[0mSpotifyAccessToken\u001b[0m\u001b[0;34m(\u001b[0m\u001b[0mtoken\u001b[0m\u001b[0;34m=\u001b[0m\u001b[0mTOKEN\u001b[0m\u001b[0;34m)\u001b[0m\u001b[0;34m\u001b[0m\u001b[0;34m\u001b[0m\u001b[0m\n\u001b[1;32m      5\u001b[0m     \u001b[0mspotify\u001b[0m \u001b[0;34m=\u001b[0m \u001b[0mAsyncSpotify\u001b[0m\u001b[0;34m(\u001b[0m\u001b[0mauth\u001b[0m\u001b[0;34m=\u001b[0m\u001b[0mauth\u001b[0m\u001b[0;34m,\u001b[0m \u001b[0msession\u001b[0m\u001b[0;34m=\u001b[0m\u001b[0msession\u001b[0m\u001b[0;34m)\u001b[0m\u001b[0;34m\u001b[0m\u001b[0;34m\u001b[0m\u001b[0m\n\u001b[0;32m----> 6\u001b[0;31m     \u001b[0mall_tracks\u001b[0m \u001b[0;34m=\u001b[0m \u001b[0;34m[\u001b[0m\u001b[0mtrack\u001b[0m \u001b[0;32masync\u001b[0m \u001b[0;32mfor\u001b[0m \u001b[0mtrack\u001b[0m \u001b[0;32min\u001b[0m \u001b[0mspotify\u001b[0m\u001b[0;34m.\u001b[0m\u001b[0mcurrent_user_saved_tracks\u001b[0m\u001b[0;34m.\u001b[0m\u001b[0mget_all_items\u001b[0m\u001b[0;34m(\u001b[0m\u001b[0;34m)\u001b[0m\u001b[0;34m]\u001b[0m\u001b[0;34m\u001b[0m\u001b[0;34m\u001b[0m\u001b[0m\n\u001b[0m\u001b[1;32m      7\u001b[0m     \u001b[0;31m# async for user_track in spotify.current_user_saved_tracks.get():\u001b[0m\u001b[0;34m\u001b[0m\u001b[0;34m\u001b[0m\u001b[0;34m\u001b[0m\u001b[0m\n\u001b[1;32m      8\u001b[0m     \u001b[0;31m#     print(user_track)\u001b[0m\u001b[0;34m\u001b[0m\u001b[0;34m\u001b[0m\u001b[0;34m\u001b[0m\u001b[0m\n",
      "\u001b[0;31mTypeError\u001b[0m: 'async for' requires an object with __aiter__ method, got coroutine"
     ]
    }
   ],
   "source": [
    "TOKEN = \"BQBuPcCGvrpMU48YGvi7R0u1CgtVgCr57z4HORrzXN57bfZxiagElPzAhtt3AymMZc1HnA98X1QH7kNAdF4yHf2-1dzMI8IA1v_DWcrdBmUwucQWpzTpOveXml5Ha74YD6lF3R4VamA-sYSwUYuvTggz2CcWlXRjyPrsv4zKnhM\"\n",
    "\n",
    "async with aiohttp.ClientSession(raise_for_status=True) as session:\n",
    "    auth = SpotifyAccessToken(token=TOKEN)\n",
    "    spotify = AsyncSpotify(auth=auth, session=session)\n",
    "    all_tracks = [track async for track in spotify.current_user_saved_tracks.get_all_items()]\n",
    "    # async for user_track in spotify.current_user_saved_tracks.get():\n",
    "    #     print(user_track)"
   ]
  },
  {
   "cell_type": "code",
   "execution_count": null,
   "id": "f64fadc1-21fd-4995-a3b4-d0c0f983253a",
   "metadata": {},
   "outputs": [],
   "source": []
  }
 ],
 "metadata": {
  "kernelspec": {
   "display_name": "Python 3 (ipykernel)",
   "language": "python",
   "name": "python3"
  },
  "language_info": {
   "codemirror_mode": {
    "name": "ipython",
    "version": 3
   },
   "file_extension": ".py",
   "mimetype": "text/x-python",
   "name": "python",
   "nbconvert_exporter": "python",
   "pygments_lexer": "ipython3",
   "version": "3.9.1"
  }
 },
 "nbformat": 4,
 "nbformat_minor": 5
}
